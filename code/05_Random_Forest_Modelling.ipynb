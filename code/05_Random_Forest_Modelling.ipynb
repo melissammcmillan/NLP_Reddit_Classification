{
 "cells": [
  {
   "cell_type": "markdown",
   "metadata": {},
   "source": [
    "### Notebook 5: Modelling the NLP Problem using RandomForestClassifier"
   ]
  },
  {
   "cell_type": "markdown",
   "metadata": {},
   "source": [
    "In this notebook I will experiment with RandomForest hyperparameter testing to try to acheive the best model that can discern which subreddit a submission title corresponds to."
   ]
  },
  {
   "cell_type": "markdown",
   "metadata": {},
   "source": [
    "Step 1: Imports and my model evaluation functions to make life easier."
   ]
  },
  {
   "cell_type": "code",
   "execution_count": 1,
   "metadata": {},
   "outputs": [],
   "source": [
    "import pandas as pd\n",
    "import numpy as np\n",
    "import matplotlib.pyplot as plt\n",
    "import seaborn as sns\n",
    "\n",
    "from sklearn.feature_extraction.text import CountVectorizer, TfidfVectorizer\n",
    "from sklearn.dummy import DummyClassifier\n",
    "from sklearn.model_selection import train_test_split, GridSearchCV, cross_val_score\n",
    "from sklearn.pipeline import make_pipeline\n",
    "from sklearn.preprocessing import StandardScaler\n",
    "from sklearn.naive_bayes import MultinomialNB\n",
    "from sklearn.ensemble import RandomForestClassifier\n",
    "from sklearn.metrics import recall_score, confusion_matrix\n",
    "\n",
    "from nltk.tokenize import word_tokenize\n",
    "from nltk.stem import WordNetLemmatizer, PorterStemmer\n",
    "\n",
    "import warnings\n",
    "warnings.filterwarnings('ignore')"
   ]
  },
  {
   "cell_type": "code",
   "execution_count": 2,
   "metadata": {},
   "outputs": [],
   "source": [
    "def eval_model(pipe, X_train, X_test, y_train, y_test):\n",
    "    \"\"\"function for evaluating a model inside of a pipeline.\"\"\"\n",
    "#     y_train_preds = pipe.predict(X_train)\n",
    "#     rmse_train = mean_squared_error(y_train, y_train_preds, squared=False)\n",
    "    y_test_preds = pipe.predict(X_test)\n",
    "#     rmse_test = mean_squared_error(y_test, y_test_preds, squared=False)\n",
    "    print(f'Your train score is: {cross_val_score(pipe, X_train, y_train)}')\n",
    "    print(f'Your mean train score is: {np.mean(cross_val_score(pipe, X_train, y_train))}')\n",
    "    print(f'Your test score is: {cross_val_score(pipe, X_test, y_test)}')\n",
    "    print(f'Your mean test score is: {np.mean(cross_val_score(pipe, X_test, y_test))}')\n",
    "    print(f'Your test recall/sensitivity score is: {recall_score(y_test, y_test_preds)}')\n",
    "    print(f'Your confusion matrix is: {confusion_matrix(y_test, y_test_preds, normalize = \"true\")}')\n",
    "#     print(f'Your train RMSE is: {rmse_train}')\n",
    "#     print(f'Your test RMSE is: {rmse_test}')"
   ]
  },
  {
   "cell_type": "code",
   "execution_count": 3,
   "metadata": {},
   "outputs": [],
   "source": [
    "def pipe_coefs(pipe, vectorizer):\n",
    "    \"\"\" This function will give you a dataframe with your features and their coefficients/importances so you can sort them\"\"\"\n",
    "    features = pipe.named_steps[vectorizer].get_feature_names()\n",
    "    coefficients = pipe.named_steps['randomforestclassifier'].feature_importances_\n",
    "    #flattened_coefs = [val for sublist in coefficients for val in sublist]\n",
    "    pipe_coefs_df = pd.DataFrame({'coefs': coefficients, 'names': features})\n",
    "    return pipe_coefs_df"
   ]
  },
  {
   "cell_type": "code",
   "execution_count": 4,
   "metadata": {},
   "outputs": [],
   "source": [
    "def eval_model_gs(gs, X_train, X_test, y_train, y_test):\n",
    "    \"\"\"function to get the model results when using GridSearchCV\"\"\"\n",
    "#     y_train_preds = gs.predict(X_train)\n",
    "#     rmse_train = mean_squared_error(y_train, y_train_preds, squared=False)\n",
    "    y_test_preds = gs.predict(X_test)\n",
    "#     rmse_test = mean_squared_error(y_test, y_test_preds, squared=False)\n",
    "    print(f'Your train score is: {gs.score(X_train, y_train)}')\n",
    "    print(f'Your test score is: {gs.score(X_test, y_test)}')\n",
    "    print(f'Your best test params were: {gs.best_params_}')\n",
    "    print(f'Your test recall/sensitivity score is: {recall_score(y_test, y_test_preds)}')\n",
    "    print(f'Your confusion matrix is: {confusion_matrix(y_test, y_test_preds, normalize = \"true\")}')\n",
    "#     print(f'Your train RMSE is: {rmse_train}')\n",
    "#     print(f'Your test RMSE is: {rmse_test}')"
   ]
  },
  {
   "cell_type": "code",
   "execution_count": 5,
   "metadata": {},
   "outputs": [],
   "source": [
    "def get_coefs_gs(gs, vectorizer):\n",
    "    \"\"\"function to get the coefficients when using GridSearchCV\"\"\"\n",
    "    feats = gs.best_estimator_.named_steps[vectorizer].get_feature_names()\n",
    "    imports = gs.best_estimator_.named_steps['randomforestclassifier'].feature_importances_\n",
    "    import_feats_df = pd.DataFrame({'imports': imports, 'features': feats})\n",
    "    return import_feats_df"
   ]
  },
  {
   "cell_type": "code",
   "execution_count": 6,
   "metadata": {},
   "outputs": [],
   "source": [
    "class LemmaTokenizer:\n",
    "    def __init__(self):\n",
    "        self.lemmatizer = WordNetLemmatizer()\n",
    "    def __call__(self, doc):\n",
    "        return [self.lemmatizer.lemmatize(t) for t in word_tokenize(doc)]"
   ]
  },
  {
   "cell_type": "markdown",
   "metadata": {},
   "source": [
    "Step 2: Read in the combined and cleaned dataset I saved in Notebook 2"
   ]
  },
  {
   "cell_type": "code",
   "execution_count": 7,
   "metadata": {},
   "outputs": [],
   "source": [
    "token_titles = pd.read_csv('./data/combined_data_cleaned_with_regexp.csv', index_col=0)"
   ]
  },
  {
   "cell_type": "code",
   "execution_count": 8,
   "metadata": {},
   "outputs": [
    {
     "data": {
      "text/html": [
       "<div>\n",
       "<style scoped>\n",
       "    .dataframe tbody tr th:only-of-type {\n",
       "        vertical-align: middle;\n",
       "    }\n",
       "\n",
       "    .dataframe tbody tr th {\n",
       "        vertical-align: top;\n",
       "    }\n",
       "\n",
       "    .dataframe thead th {\n",
       "        text-align: right;\n",
       "    }\n",
       "</style>\n",
       "<table border=\"1\" class=\"dataframe\">\n",
       "  <thead>\n",
       "    <tr style=\"text-align: right;\">\n",
       "      <th></th>\n",
       "      <th>subreddit</th>\n",
       "      <th>title</th>\n",
       "      <th>title_word_length</th>\n",
       "      <th>title_character_total</th>\n",
       "      <th>subreddit_map</th>\n",
       "      <th>title_token</th>\n",
       "    </tr>\n",
       "  </thead>\n",
       "  <tbody>\n",
       "    <tr>\n",
       "      <th>0</th>\n",
       "      <td>gameofthrones</td>\n",
       "      <td>Some genius explains how the Trump riots is ‘G...</td>\n",
       "      <td>14</td>\n",
       "      <td>78</td>\n",
       "      <td>1</td>\n",
       "      <td>Some genius explains how the Trump riots is Ga...</td>\n",
       "    </tr>\n",
       "    <tr>\n",
       "      <th>1</th>\n",
       "      <td>gameofthrones</td>\n",
       "      <td>Jagjeet Sandhu Age, Career, Personal Life- Bio...</td>\n",
       "      <td>25</td>\n",
       "      <td>160</td>\n",
       "      <td>1</td>\n",
       "      <td>Jagjeet Sandhu Age Career Personal Life Biogra...</td>\n",
       "    </tr>\n",
       "    <tr>\n",
       "      <th>2</th>\n",
       "      <td>gameofthrones</td>\n",
       "      <td>Kaagaz: plot, cast, review. Kaagaz is a 2021 I...</td>\n",
       "      <td>21</td>\n",
       "      <td>129</td>\n",
       "      <td>1</td>\n",
       "      <td>Kaagaz plot cast review Kaagaz is a 2021 India...</td>\n",
       "    </tr>\n",
       "    <tr>\n",
       "      <th>3</th>\n",
       "      <td>gameofthrones</td>\n",
       "      <td>Urvi Singh Age, Career, Personal Life- Biograp...</td>\n",
       "      <td>24</td>\n",
       "      <td>156</td>\n",
       "      <td>1</td>\n",
       "      <td>Urvi Singh Age Career Personal Life Biography ...</td>\n",
       "    </tr>\n",
       "    <tr>\n",
       "      <th>4</th>\n",
       "      <td>gameofthrones</td>\n",
       "      <td>Abhishek Banerjee: Wiki, age, birthday &amp;amp; f...</td>\n",
       "      <td>23</td>\n",
       "      <td>154</td>\n",
       "      <td>1</td>\n",
       "      <td>Abhishek Banerjee Wiki age birthday amp facts ...</td>\n",
       "    </tr>\n",
       "  </tbody>\n",
       "</table>\n",
       "</div>"
      ],
      "text/plain": [
       "       subreddit                                              title  \\\n",
       "0  gameofthrones  Some genius explains how the Trump riots is ‘G...   \n",
       "1  gameofthrones  Jagjeet Sandhu Age, Career, Personal Life- Bio...   \n",
       "2  gameofthrones  Kaagaz: plot, cast, review. Kaagaz is a 2021 I...   \n",
       "3  gameofthrones  Urvi Singh Age, Career, Personal Life- Biograp...   \n",
       "4  gameofthrones  Abhishek Banerjee: Wiki, age, birthday &amp; f...   \n",
       "\n",
       "   title_word_length  title_character_total  subreddit_map  \\\n",
       "0                 14                     78              1   \n",
       "1                 25                    160              1   \n",
       "2                 21                    129              1   \n",
       "3                 24                    156              1   \n",
       "4                 23                    154              1   \n",
       "\n",
       "                                         title_token  \n",
       "0  Some genius explains how the Trump riots is Ga...  \n",
       "1  Jagjeet Sandhu Age Career Personal Life Biogra...  \n",
       "2  Kaagaz plot cast review Kaagaz is a 2021 India...  \n",
       "3  Urvi Singh Age Career Personal Life Biography ...  \n",
       "4  Abhishek Banerjee Wiki age birthday amp facts ...  "
      ]
     },
     "execution_count": 8,
     "metadata": {},
     "output_type": "execute_result"
    }
   ],
   "source": [
    "token_titles.head()"
   ]
  },
  {
   "cell_type": "code",
   "execution_count": 9,
   "metadata": {},
   "outputs": [
    {
     "data": {
      "text/plain": [
       "(10200, 6)"
      ]
     },
     "execution_count": 9,
     "metadata": {},
     "output_type": "execute_result"
    }
   ],
   "source": [
    "token_titles.shape"
   ]
  },
  {
   "cell_type": "code",
   "execution_count": 10,
   "metadata": {},
   "outputs": [
    {
     "data": {
      "text/plain": [
       "subreddit                 0\n",
       "title                     0\n",
       "title_word_length         0\n",
       "title_character_total     0\n",
       "subreddit_map             0\n",
       "title_token              76\n",
       "dtype: int64"
      ]
     },
     "execution_count": 10,
     "metadata": {},
     "output_type": "execute_result"
    }
   ],
   "source": [
    "token_titles.isna().sum()"
   ]
  },
  {
   "cell_type": "code",
   "execution_count": 11,
   "metadata": {},
   "outputs": [],
   "source": [
    "token_titles = token_titles.dropna()"
   ]
  },
  {
   "cell_type": "code",
   "execution_count": 12,
   "metadata": {},
   "outputs": [
    {
     "data": {
      "text/plain": [
       "subreddit                0\n",
       "title                    0\n",
       "title_word_length        0\n",
       "title_character_total    0\n",
       "subreddit_map            0\n",
       "title_token              0\n",
       "dtype: int64"
      ]
     },
     "execution_count": 12,
     "metadata": {},
     "output_type": "execute_result"
    }
   ],
   "source": [
    "token_titles.isna().sum()"
   ]
  },
  {
   "cell_type": "markdown",
   "metadata": {},
   "source": [
    "Going to set up X and y and do a train_test_split on the data."
   ]
  },
  {
   "cell_type": "code",
   "execution_count": 13,
   "metadata": {},
   "outputs": [],
   "source": [
    "X = token_titles['title_token']\n",
    "y = token_titles['subreddit_map']"
   ]
  },
  {
   "cell_type": "code",
   "execution_count": 14,
   "metadata": {},
   "outputs": [
    {
     "data": {
      "text/plain": [
       "0    0.503062\n",
       "1    0.496938\n",
       "Name: subreddit_map, dtype: float64"
      ]
     },
     "execution_count": 14,
     "metadata": {},
     "output_type": "execute_result"
    }
   ],
   "source": [
    "y.value_counts(normalize=True)"
   ]
  },
  {
   "cell_type": "code",
   "execution_count": 15,
   "metadata": {},
   "outputs": [],
   "source": [
    "X_train, X_test, y_train, y_test = train_test_split(X,y)"
   ]
  },
  {
   "cell_type": "markdown",
   "metadata": {},
   "source": [
    "Now, onto the modelling! BEWARE: \"The night is dark, and full of terrors\""
   ]
  },
  {
   "cell_type": "code",
   "execution_count": 16,
   "metadata": {},
   "outputs": [],
   "source": [
    "forest_pipe1 = make_pipeline(CountVectorizer(stop_words='english', max_features = 1000), RandomForestClassifier())"
   ]
  },
  {
   "cell_type": "code",
   "execution_count": 17,
   "metadata": {},
   "outputs": [
    {
     "data": {
      "text/plain": [
       "Pipeline(steps=[('countvectorizer',\n",
       "                 CountVectorizer(max_features=1000, stop_words='english')),\n",
       "                ('randomforestclassifier', RandomForestClassifier())])"
      ]
     },
     "execution_count": 17,
     "metadata": {},
     "output_type": "execute_result"
    }
   ],
   "source": [
    "forest_pipe1.fit(X_train, y_train)"
   ]
  },
  {
   "cell_type": "code",
   "execution_count": 18,
   "metadata": {},
   "outputs": [
    {
     "name": "stdout",
     "output_type": "stream",
     "text": [
      "Your train score is: [0.90980908 0.94009217 0.91770902 0.93280632 0.90777339]\n",
      "Your mean train score is: 0.9230869244293409\n",
      "Your test score is: [0.9270217  0.91106719 0.9229249  0.92885375 0.92687747]\n",
      "Your mean test score is: 0.9249300309500977\n",
      "Your test recall/sensitivity score is: 0.9176379176379177\n",
      "Your confusion matrix is: [[0.95659164 0.04340836]\n",
      " [0.08236208 0.91763792]]\n"
     ]
    }
   ],
   "source": [
    "eval_model(forest_pipe1, X_train, X_test, y_train, y_test)"
   ]
  },
  {
   "cell_type": "markdown",
   "metadata": {},
   "source": [
    "Nice first-pass model here. I'm going to test some hyperparameters with a GridSearchCV."
   ]
  },
  {
   "cell_type": "code",
   "execution_count": 19,
   "metadata": {},
   "outputs": [],
   "source": [
    "forest_pipe2 = make_pipeline(CountVectorizer(), RandomForestClassifier())"
   ]
  },
  {
   "cell_type": "code",
   "execution_count": 20,
   "metadata": {},
   "outputs": [],
   "source": [
    "params2 = {'countvectorizer__stop_words': ['english'],\n",
    "          'countvectorizer__max_features': [1000],\n",
    "        'randomforestclassifier__n_estimators': [50, 100, 500],\n",
    "         'randomforestclassifier__max_depth': [2,3,4,5],\n",
    "         'randomforestclassifier__criterion': ['gini', 'entropy'],\n",
    "         'randomforestclassifier__ccp_alpha': [0.01, 0.1, 1.0, 10.0]}"
   ]
  },
  {
   "cell_type": "code",
   "execution_count": 21,
   "metadata": {},
   "outputs": [],
   "source": [
    "forest_grid2 = GridSearchCV(forest_pipe2, param_grid = params2, n_jobs=-1)"
   ]
  },
  {
   "cell_type": "code",
   "execution_count": 22,
   "metadata": {},
   "outputs": [
    {
     "data": {
      "text/plain": [
       "GridSearchCV(estimator=Pipeline(steps=[('countvectorizer', CountVectorizer()),\n",
       "                                       ('randomforestclassifier',\n",
       "                                        RandomForestClassifier())]),\n",
       "             n_jobs=-1,\n",
       "             param_grid={'countvectorizer__max_features': [1000],\n",
       "                         'countvectorizer__stop_words': ['english'],\n",
       "                         'randomforestclassifier__ccp_alpha': [0.01, 0.1, 1.0,\n",
       "                                                               10.0],\n",
       "                         'randomforestclassifier__criterion': ['gini',\n",
       "                                                               'entropy'],\n",
       "                         'randomforestclassifier__max_depth': [2, 3, 4, 5],\n",
       "                         'randomforestclassifier__n_estimators': [50, 100,\n",
       "                                                                  500]})"
      ]
     },
     "execution_count": 22,
     "metadata": {},
     "output_type": "execute_result"
    }
   ],
   "source": [
    "forest_grid2.fit(X_train, y_train)"
   ]
  },
  {
   "cell_type": "code",
   "execution_count": 23,
   "metadata": {},
   "outputs": [
    {
     "name": "stdout",
     "output_type": "stream",
     "text": [
      "Your train score is: 0.8613196365073094\n",
      "Your test score is: 0.860924535756618\n",
      "Your best test params were: {'countvectorizer__max_features': 1000, 'countvectorizer__stop_words': 'english', 'randomforestclassifier__ccp_alpha': 0.01, 'randomforestclassifier__criterion': 'entropy', 'randomforestclassifier__max_depth': 5, 'randomforestclassifier__n_estimators': 100}\n",
      "Your test recall/sensitivity score is: 0.7303807303807304\n",
      "Your confusion matrix is: [[0.99598071 0.00401929]\n",
      " [0.26961927 0.73038073]]\n"
     ]
    }
   ],
   "source": [
    "eval_model_gs(forest_grid2, X_train, X_test, y_train, y_test)"
   ]
  },
  {
   "cell_type": "code",
   "execution_count": 24,
   "metadata": {},
   "outputs": [
    {
     "data": {
      "text/html": [
       "<div>\n",
       "<style scoped>\n",
       "    .dataframe tbody tr th:only-of-type {\n",
       "        vertical-align: middle;\n",
       "    }\n",
       "\n",
       "    .dataframe tbody tr th {\n",
       "        vertical-align: top;\n",
       "    }\n",
       "\n",
       "    .dataframe thead th {\n",
       "        text-align: right;\n",
       "    }\n",
       "</style>\n",
       "<table border=\"1\" class=\"dataframe\">\n",
       "  <thead>\n",
       "    <tr style=\"text-align: right;\">\n",
       "      <th></th>\n",
       "      <th>imports</th>\n",
       "      <th>features</th>\n",
       "    </tr>\n",
       "  </thead>\n",
       "  <tbody>\n",
       "    <tr>\n",
       "      <th>0</th>\n",
       "      <td>0.0</td>\n",
       "      <td>10</td>\n",
       "    </tr>\n",
       "    <tr>\n",
       "      <th>1</th>\n",
       "      <td>0.0</td>\n",
       "      <td>100</td>\n",
       "    </tr>\n",
       "    <tr>\n",
       "      <th>2</th>\n",
       "      <td>0.0</td>\n",
       "      <td>11</td>\n",
       "    </tr>\n",
       "    <tr>\n",
       "      <th>3</th>\n",
       "      <td>0.0</td>\n",
       "      <td>12</td>\n",
       "    </tr>\n",
       "    <tr>\n",
       "      <th>4</th>\n",
       "      <td>0.0</td>\n",
       "      <td>13</td>\n",
       "    </tr>\n",
       "    <tr>\n",
       "      <th>...</th>\n",
       "      <td>...</td>\n",
       "      <td>...</td>\n",
       "    </tr>\n",
       "    <tr>\n",
       "      <th>995</th>\n",
       "      <td>0.0</td>\n",
       "      <td>years</td>\n",
       "    </tr>\n",
       "    <tr>\n",
       "      <th>996</th>\n",
       "      <td>0.0</td>\n",
       "      <td>yes</td>\n",
       "    </tr>\n",
       "    <tr>\n",
       "      <th>997</th>\n",
       "      <td>0.0</td>\n",
       "      <td>yesterday</td>\n",
       "    </tr>\n",
       "    <tr>\n",
       "      <th>998</th>\n",
       "      <td>0.0</td>\n",
       "      <td>young</td>\n",
       "    </tr>\n",
       "    <tr>\n",
       "      <th>999</th>\n",
       "      <td>0.0</td>\n",
       "      <td>youtube</td>\n",
       "    </tr>\n",
       "  </tbody>\n",
       "</table>\n",
       "<p>1000 rows × 2 columns</p>\n",
       "</div>"
      ],
      "text/plain": [
       "     imports   features\n",
       "0        0.0         10\n",
       "1        0.0        100\n",
       "2        0.0         11\n",
       "3        0.0         12\n",
       "4        0.0         13\n",
       "..       ...        ...\n",
       "995      0.0      years\n",
       "996      0.0        yes\n",
       "997      0.0  yesterday\n",
       "998      0.0      young\n",
       "999      0.0    youtube\n",
       "\n",
       "[1000 rows x 2 columns]"
      ]
     },
     "execution_count": 24,
     "metadata": {},
     "output_type": "execute_result"
    }
   ],
   "source": [
    "grid2_feats = get_coefs_gs(forest_grid2, 'countvectorizer')\n",
    "grid2_feats"
   ]
  },
  {
   "cell_type": "code",
   "execution_count": 25,
   "metadata": {},
   "outputs": [
    {
     "data": {
      "text/html": [
       "<div>\n",
       "<style scoped>\n",
       "    .dataframe tbody tr th:only-of-type {\n",
       "        vertical-align: middle;\n",
       "    }\n",
       "\n",
       "    .dataframe tbody tr th {\n",
       "        vertical-align: top;\n",
       "    }\n",
       "\n",
       "    .dataframe thead th {\n",
       "        text-align: right;\n",
       "    }\n",
       "</style>\n",
       "<table border=\"1\" class=\"dataframe\">\n",
       "  <thead>\n",
       "    <tr style=\"text-align: right;\">\n",
       "      <th></th>\n",
       "      <th>imports</th>\n",
       "      <th>features</th>\n",
       "    </tr>\n",
       "  </thead>\n",
       "  <tbody>\n",
       "    <tr>\n",
       "      <th>818</th>\n",
       "      <td>0.129108</td>\n",
       "      <td>spoilers</td>\n",
       "    </tr>\n",
       "    <tr>\n",
       "      <th>5</th>\n",
       "      <td>0.082390</td>\n",
       "      <td>14</td>\n",
       "    </tr>\n",
       "    <tr>\n",
       "      <th>123</th>\n",
       "      <td>0.060492</td>\n",
       "      <td>bigg</td>\n",
       "    </tr>\n",
       "    <tr>\n",
       "      <th>529</th>\n",
       "      <td>0.055123</td>\n",
       "      <td>lotr</td>\n",
       "    </tr>\n",
       "    <tr>\n",
       "      <th>141</th>\n",
       "      <td>0.038396</td>\n",
       "      <td>boss</td>\n",
       "    </tr>\n",
       "    <tr>\n",
       "      <th>732</th>\n",
       "      <td>0.032143</td>\n",
       "      <td>roadies</td>\n",
       "    </tr>\n",
       "    <tr>\n",
       "      <th>298</th>\n",
       "      <td>0.028294</td>\n",
       "      <td>episode</td>\n",
       "    </tr>\n",
       "    <tr>\n",
       "      <th>423</th>\n",
       "      <td>0.026523</td>\n",
       "      <td>hobbit</td>\n",
       "    </tr>\n",
       "    <tr>\n",
       "      <th>34</th>\n",
       "      <td>0.023123</td>\n",
       "      <td>4k</td>\n",
       "    </tr>\n",
       "    <tr>\n",
       "      <th>725</th>\n",
       "      <td>0.022695</td>\n",
       "      <td>revolution</td>\n",
       "    </tr>\n",
       "    <tr>\n",
       "      <th>739</th>\n",
       "      <td>0.022415</td>\n",
       "      <td>rubina</td>\n",
       "    </tr>\n",
       "    <tr>\n",
       "      <th>451</th>\n",
       "      <td>0.021615</td>\n",
       "      <td>indian</td>\n",
       "    </tr>\n",
       "    <tr>\n",
       "      <th>761</th>\n",
       "      <td>0.020894</td>\n",
       "      <td>season</td>\n",
       "    </tr>\n",
       "    <tr>\n",
       "      <th>230</th>\n",
       "      <td>0.020505</td>\n",
       "      <td>december</td>\n",
       "    </tr>\n",
       "    <tr>\n",
       "      <th>852</th>\n",
       "      <td>0.018398</td>\n",
       "      <td>task</td>\n",
       "    </tr>\n",
       "    <tr>\n",
       "      <th>730</th>\n",
       "      <td>0.018255</td>\n",
       "      <td>rings</td>\n",
       "    </tr>\n",
       "    <tr>\n",
       "      <th>958</th>\n",
       "      <td>0.017668</td>\n",
       "      <td>web</td>\n",
       "    </tr>\n",
       "    <tr>\n",
       "      <th>579</th>\n",
       "      <td>0.016599</td>\n",
       "      <td>mtv</td>\n",
       "    </tr>\n",
       "    <tr>\n",
       "      <th>687</th>\n",
       "      <td>0.015210</td>\n",
       "      <td>rahul</td>\n",
       "    </tr>\n",
       "    <tr>\n",
       "      <th>525</th>\n",
       "      <td>0.014018</td>\n",
       "      <td>lord</td>\n",
       "    </tr>\n",
       "  </tbody>\n",
       "</table>\n",
       "</div>"
      ],
      "text/plain": [
       "      imports    features\n",
       "818  0.129108    spoilers\n",
       "5    0.082390          14\n",
       "123  0.060492        bigg\n",
       "529  0.055123        lotr\n",
       "141  0.038396        boss\n",
       "732  0.032143     roadies\n",
       "298  0.028294     episode\n",
       "423  0.026523      hobbit\n",
       "34   0.023123          4k\n",
       "725  0.022695  revolution\n",
       "739  0.022415      rubina\n",
       "451  0.021615      indian\n",
       "761  0.020894      season\n",
       "230  0.020505    december\n",
       "852  0.018398        task\n",
       "730  0.018255       rings\n",
       "958  0.017668         web\n",
       "579  0.016599         mtv\n",
       "687  0.015210       rahul\n",
       "525  0.014018        lord"
      ]
     },
     "execution_count": 25,
     "metadata": {},
     "output_type": "execute_result"
    }
   ],
   "source": [
    "grid2_feats.nlargest(20, 'imports')"
   ]
  },
  {
   "cell_type": "code",
   "execution_count": 26,
   "metadata": {},
   "outputs": [
    {
     "data": {
      "text/html": [
       "<div>\n",
       "<style scoped>\n",
       "    .dataframe tbody tr th:only-of-type {\n",
       "        vertical-align: middle;\n",
       "    }\n",
       "\n",
       "    .dataframe tbody tr th {\n",
       "        vertical-align: top;\n",
       "    }\n",
       "\n",
       "    .dataframe thead th {\n",
       "        text-align: right;\n",
       "    }\n",
       "</style>\n",
       "<table border=\"1\" class=\"dataframe\">\n",
       "  <thead>\n",
       "    <tr style=\"text-align: right;\">\n",
       "      <th></th>\n",
       "      <th>imports</th>\n",
       "      <th>features</th>\n",
       "    </tr>\n",
       "  </thead>\n",
       "  <tbody>\n",
       "    <tr>\n",
       "      <th>0</th>\n",
       "      <td>0.0</td>\n",
       "      <td>10</td>\n",
       "    </tr>\n",
       "    <tr>\n",
       "      <th>1</th>\n",
       "      <td>0.0</td>\n",
       "      <td>100</td>\n",
       "    </tr>\n",
       "    <tr>\n",
       "      <th>2</th>\n",
       "      <td>0.0</td>\n",
       "      <td>11</td>\n",
       "    </tr>\n",
       "    <tr>\n",
       "      <th>3</th>\n",
       "      <td>0.0</td>\n",
       "      <td>12</td>\n",
       "    </tr>\n",
       "    <tr>\n",
       "      <th>4</th>\n",
       "      <td>0.0</td>\n",
       "      <td>13</td>\n",
       "    </tr>\n",
       "    <tr>\n",
       "      <th>6</th>\n",
       "      <td>0.0</td>\n",
       "      <td>16</td>\n",
       "    </tr>\n",
       "    <tr>\n",
       "      <th>7</th>\n",
       "      <td>0.0</td>\n",
       "      <td>17</td>\n",
       "    </tr>\n",
       "    <tr>\n",
       "      <th>8</th>\n",
       "      <td>0.0</td>\n",
       "      <td>19</td>\n",
       "    </tr>\n",
       "    <tr>\n",
       "      <th>9</th>\n",
       "      <td>0.0</td>\n",
       "      <td>1991</td>\n",
       "    </tr>\n",
       "    <tr>\n",
       "      <th>10</th>\n",
       "      <td>0.0</td>\n",
       "      <td>1992</td>\n",
       "    </tr>\n",
       "  </tbody>\n",
       "</table>\n",
       "</div>"
      ],
      "text/plain": [
       "    imports features\n",
       "0       0.0       10\n",
       "1       0.0      100\n",
       "2       0.0       11\n",
       "3       0.0       12\n",
       "4       0.0       13\n",
       "6       0.0       16\n",
       "7       0.0       17\n",
       "8       0.0       19\n",
       "9       0.0     1991\n",
       "10      0.0     1992"
      ]
     },
     "execution_count": 26,
     "metadata": {},
     "output_type": "execute_result"
    }
   ],
   "source": [
    "grid2_feats.nsmallest(10, 'imports')"
   ]
  },
  {
   "cell_type": "markdown",
   "metadata": {},
   "source": [
    "Now I'd like to run the best features of this model, but testing the ngrams again in the CountVectorizer. I just want to see if the RandomForest model does any better with those."
   ]
  },
  {
   "cell_type": "code",
   "execution_count": 27,
   "metadata": {},
   "outputs": [],
   "source": [
    "forest_pipe3 = make_pipeline(CountVectorizer(), RandomForestClassifier())"
   ]
  },
  {
   "cell_type": "code",
   "execution_count": 28,
   "metadata": {},
   "outputs": [],
   "source": [
    "params3 = {'countvectorizer__stop_words': ['english'],\n",
    "          'countvectorizer__max_features': [1000],\n",
    "          'countvectorizer__ngram_range': [(1,1), (1,2), (1,3)],\n",
    "        'randomforestclassifier__n_estimators': [500],\n",
    "         'randomforestclassifier__max_depth': [5],\n",
    "         'randomforestclassifier__criterion': ['entropy'],\n",
    "         'randomforestclassifier__ccp_alpha': [0.01]}"
   ]
  },
  {
   "cell_type": "code",
   "execution_count": 29,
   "metadata": {},
   "outputs": [],
   "source": [
    "forest_grid3 = GridSearchCV(forest_pipe3, param_grid = params3, n_jobs=-1)"
   ]
  },
  {
   "cell_type": "code",
   "execution_count": 30,
   "metadata": {},
   "outputs": [
    {
     "data": {
      "text/plain": [
       "GridSearchCV(estimator=Pipeline(steps=[('countvectorizer', CountVectorizer()),\n",
       "                                       ('randomforestclassifier',\n",
       "                                        RandomForestClassifier())]),\n",
       "             n_jobs=-1,\n",
       "             param_grid={'countvectorizer__max_features': [1000],\n",
       "                         'countvectorizer__ngram_range': [(1, 1), (1, 2),\n",
       "                                                          (1, 3)],\n",
       "                         'countvectorizer__stop_words': ['english'],\n",
       "                         'randomforestclassifier__ccp_alpha': [0.01],\n",
       "                         'randomforestclassifier__criterion': ['entropy'],\n",
       "                         'randomforestclassifier__max_depth': [5],\n",
       "                         'randomforestclassifier__n_estimators': [500]})"
      ]
     },
     "execution_count": 30,
     "metadata": {},
     "output_type": "execute_result"
    }
   ],
   "source": [
    "forest_grid3.fit(X_train, y_train)"
   ]
  },
  {
   "cell_type": "code",
   "execution_count": 31,
   "metadata": {},
   "outputs": [
    {
     "name": "stdout",
     "output_type": "stream",
     "text": [
      "Your train score is: 0.871460555775056\n",
      "Your test score is: 0.8711971552745951\n",
      "Your best test params were: {'countvectorizer__max_features': 1000, 'countvectorizer__ngram_range': (1, 1), 'countvectorizer__stop_words': 'english', 'randomforestclassifier__ccp_alpha': 0.01, 'randomforestclassifier__criterion': 'entropy', 'randomforestclassifier__max_depth': 5, 'randomforestclassifier__n_estimators': 500}\n",
      "Your test recall/sensitivity score is: 0.7505827505827506\n",
      "Your confusion matrix is: [[0.99598071 0.00401929]\n",
      " [0.24941725 0.75058275]]\n"
     ]
    }
   ],
   "source": [
    "eval_model_gs(forest_grid3, X_train, X_test, y_train, y_test)"
   ]
  },
  {
   "cell_type": "code",
   "execution_count": 32,
   "metadata": {},
   "outputs": [],
   "source": [
    "#My score is quite a bit lower. Let me try that model again, without the RandomForest params"
   ]
  },
  {
   "cell_type": "code",
   "execution_count": 33,
   "metadata": {},
   "outputs": [],
   "source": [
    "params3b = {'countvectorizer__stop_words': ['english'],\n",
    "          'countvectorizer__max_features': [1000],\n",
    "          'countvectorizer__ngram_range': [(1,1), (1,2), (1,3)]}"
   ]
  },
  {
   "cell_type": "code",
   "execution_count": 34,
   "metadata": {},
   "outputs": [],
   "source": [
    "forest_grid3b = GridSearchCV(forest_pipe3, param_grid = params3b, n_jobs=-1)"
   ]
  },
  {
   "cell_type": "code",
   "execution_count": 35,
   "metadata": {},
   "outputs": [
    {
     "data": {
      "text/plain": [
       "GridSearchCV(estimator=Pipeline(steps=[('countvectorizer', CountVectorizer()),\n",
       "                                       ('randomforestclassifier',\n",
       "                                        RandomForestClassifier())]),\n",
       "             n_jobs=-1,\n",
       "             param_grid={'countvectorizer__max_features': [1000],\n",
       "                         'countvectorizer__ngram_range': [(1, 1), (1, 2),\n",
       "                                                          (1, 3)],\n",
       "                         'countvectorizer__stop_words': ['english']})"
      ]
     },
     "execution_count": 35,
     "metadata": {},
     "output_type": "execute_result"
    }
   ],
   "source": [
    "forest_grid3b.fit(X_train, y_train)"
   ]
  },
  {
   "cell_type": "code",
   "execution_count": 36,
   "metadata": {},
   "outputs": [
    {
     "name": "stdout",
     "output_type": "stream",
     "text": [
      "Your train score is: 0.9803766627156592\n",
      "Your test score is: 0.9340181746345319\n",
      "Your best test params were: {'countvectorizer__max_features': 1000, 'countvectorizer__ngram_range': (1, 1), 'countvectorizer__stop_words': 'english'}\n",
      "Your test recall/sensitivity score is: 0.9176379176379177\n",
      "Your confusion matrix is: [[0.95096463 0.04903537]\n",
      " [0.08236208 0.91763792]]\n"
     ]
    }
   ],
   "source": [
    "eval_model_gs(forest_grid3b, X_train, X_test, y_train, y_test)"
   ]
  },
  {
   "cell_type": "code",
   "execution_count": 37,
   "metadata": {},
   "outputs": [],
   "source": [
    "#Hmm look at that- my scores improved AND it liked n_gram = (1,2). Let's look at the important features here."
   ]
  },
  {
   "cell_type": "code",
   "execution_count": 38,
   "metadata": {},
   "outputs": [],
   "source": [
    "grid3b_feats = get_coefs_gs(forest_grid3b, 'countvectorizer')"
   ]
  },
  {
   "cell_type": "code",
   "execution_count": 39,
   "metadata": {},
   "outputs": [
    {
     "data": {
      "text/html": [
       "<div>\n",
       "<style scoped>\n",
       "    .dataframe tbody tr th:only-of-type {\n",
       "        vertical-align: middle;\n",
       "    }\n",
       "\n",
       "    .dataframe tbody tr th {\n",
       "        vertical-align: top;\n",
       "    }\n",
       "\n",
       "    .dataframe thead th {\n",
       "        text-align: right;\n",
       "    }\n",
       "</style>\n",
       "<table border=\"1\" class=\"dataframe\">\n",
       "  <thead>\n",
       "    <tr style=\"text-align: right;\">\n",
       "      <th></th>\n",
       "      <th>imports</th>\n",
       "      <th>features</th>\n",
       "    </tr>\n",
       "  </thead>\n",
       "  <tbody>\n",
       "    <tr>\n",
       "      <th>818</th>\n",
       "      <td>0.203275</td>\n",
       "      <td>spoilers</td>\n",
       "    </tr>\n",
       "    <tr>\n",
       "      <th>5</th>\n",
       "      <td>0.050042</td>\n",
       "      <td>14</td>\n",
       "    </tr>\n",
       "    <tr>\n",
       "      <th>123</th>\n",
       "      <td>0.029065</td>\n",
       "      <td>bigg</td>\n",
       "    </tr>\n",
       "    <tr>\n",
       "      <th>141</th>\n",
       "      <td>0.027292</td>\n",
       "      <td>boss</td>\n",
       "    </tr>\n",
       "    <tr>\n",
       "      <th>529</th>\n",
       "      <td>0.026484</td>\n",
       "      <td>lotr</td>\n",
       "    </tr>\n",
       "    <tr>\n",
       "      <th>761</th>\n",
       "      <td>0.026386</td>\n",
       "      <td>season</td>\n",
       "    </tr>\n",
       "    <tr>\n",
       "      <th>817</th>\n",
       "      <td>0.020337</td>\n",
       "      <td>spoiler</td>\n",
       "    </tr>\n",
       "    <tr>\n",
       "      <th>880</th>\n",
       "      <td>0.016414</td>\n",
       "      <td>thrones</td>\n",
       "    </tr>\n",
       "    <tr>\n",
       "      <th>298</th>\n",
       "      <td>0.014403</td>\n",
       "      <td>episode</td>\n",
       "    </tr>\n",
       "    <tr>\n",
       "      <th>732</th>\n",
       "      <td>0.013959</td>\n",
       "      <td>roadies</td>\n",
       "    </tr>\n",
       "    <tr>\n",
       "      <th>451</th>\n",
       "      <td>0.011586</td>\n",
       "      <td>indian</td>\n",
       "    </tr>\n",
       "    <tr>\n",
       "      <th>357</th>\n",
       "      <td>0.011493</td>\n",
       "      <td>game</td>\n",
       "    </tr>\n",
       "    <tr>\n",
       "      <th>725</th>\n",
       "      <td>0.011104</td>\n",
       "      <td>revolution</td>\n",
       "    </tr>\n",
       "    <tr>\n",
       "      <th>423</th>\n",
       "      <td>0.009402</td>\n",
       "      <td>hobbit</td>\n",
       "    </tr>\n",
       "    <tr>\n",
       "      <th>730</th>\n",
       "      <td>0.008348</td>\n",
       "      <td>rings</td>\n",
       "    </tr>\n",
       "    <tr>\n",
       "      <th>473</th>\n",
       "      <td>0.008116</td>\n",
       "      <td>jon</td>\n",
       "    </tr>\n",
       "    <tr>\n",
       "      <th>34</th>\n",
       "      <td>0.008080</td>\n",
       "      <td>4k</td>\n",
       "    </tr>\n",
       "    <tr>\n",
       "      <th>381</th>\n",
       "      <td>0.007262</td>\n",
       "      <td>got</td>\n",
       "    </tr>\n",
       "    <tr>\n",
       "      <th>958</th>\n",
       "      <td>0.007114</td>\n",
       "      <td>web</td>\n",
       "    </tr>\n",
       "    <tr>\n",
       "      <th>887</th>\n",
       "      <td>0.006502</td>\n",
       "      <td>tolkien</td>\n",
       "    </tr>\n",
       "  </tbody>\n",
       "</table>\n",
       "</div>"
      ],
      "text/plain": [
       "      imports    features\n",
       "818  0.203275    spoilers\n",
       "5    0.050042          14\n",
       "123  0.029065        bigg\n",
       "141  0.027292        boss\n",
       "529  0.026484        lotr\n",
       "761  0.026386      season\n",
       "817  0.020337     spoiler\n",
       "880  0.016414     thrones\n",
       "298  0.014403     episode\n",
       "732  0.013959     roadies\n",
       "451  0.011586      indian\n",
       "357  0.011493        game\n",
       "725  0.011104  revolution\n",
       "423  0.009402      hobbit\n",
       "730  0.008348       rings\n",
       "473  0.008116         jon\n",
       "34   0.008080          4k\n",
       "381  0.007262         got\n",
       "958  0.007114         web\n",
       "887  0.006502     tolkien"
      ]
     },
     "execution_count": 39,
     "metadata": {},
     "output_type": "execute_result"
    }
   ],
   "source": [
    "grid3b_feats.nlargest(20, 'imports')"
   ]
  },
  {
   "cell_type": "markdown",
   "metadata": {},
   "source": [
    "Glad to see the model improved. Still no success in seeing \"Winter is coming\" though... Oh well."
   ]
  },
  {
   "cell_type": "markdown",
   "metadata": {},
   "source": [
    "Now I'd like to use TfidfVectorizer and see if that does anything different."
   ]
  },
  {
   "cell_type": "code",
   "execution_count": 40,
   "metadata": {},
   "outputs": [],
   "source": [
    "forest_pipe4 = make_pipeline(TfidfVectorizer(stop_words = 'english', max_features = 1000, ngram_range=(1,2)), RandomForestClassifier())"
   ]
  },
  {
   "cell_type": "code",
   "execution_count": 41,
   "metadata": {},
   "outputs": [
    {
     "data": {
      "text/plain": [
       "Pipeline(steps=[('tfidfvectorizer',\n",
       "                 TfidfVectorizer(max_features=1000, ngram_range=(1, 2),\n",
       "                                 stop_words='english')),\n",
       "                ('randomforestclassifier', RandomForestClassifier())])"
      ]
     },
     "execution_count": 41,
     "metadata": {},
     "output_type": "execute_result"
    }
   ],
   "source": [
    "forest_pipe4.fit(X_train, y_train)"
   ]
  },
  {
   "cell_type": "code",
   "execution_count": 42,
   "metadata": {},
   "outputs": [
    {
     "name": "stdout",
     "output_type": "stream",
     "text": [
      "Your train score is: [0.91046741 0.93811718 0.92363397 0.93544137 0.91963109]\n",
      "Your mean train score is: 0.9257217970702243\n",
      "Your test score is: [0.93293886 0.90909091 0.92885375 0.93083004 0.93478261]\n",
      "Your mean test score is: 0.9261150221016441\n",
      "Your test recall/sensitivity score is: 0.9083139083139083\n",
      "Your confusion matrix is: [[0.96945338 0.03054662]\n",
      " [0.09168609 0.90831391]]\n"
     ]
    }
   ],
   "source": [
    "eval_model(forest_pipe4, X_train, X_test, y_train, y_test)"
   ]
  },
  {
   "cell_type": "code",
   "execution_count": 43,
   "metadata": {},
   "outputs": [],
   "source": [
    "forest_pipe4_feats = pipe_coefs(forest_pipe4, 'tfidfvectorizer')"
   ]
  },
  {
   "cell_type": "code",
   "execution_count": 44,
   "metadata": {},
   "outputs": [
    {
     "data": {
      "text/html": [
       "<div>\n",
       "<style scoped>\n",
       "    .dataframe tbody tr th:only-of-type {\n",
       "        vertical-align: middle;\n",
       "    }\n",
       "\n",
       "    .dataframe tbody tr th {\n",
       "        vertical-align: top;\n",
       "    }\n",
       "\n",
       "    .dataframe thead th {\n",
       "        text-align: right;\n",
       "    }\n",
       "</style>\n",
       "<table border=\"1\" class=\"dataframe\">\n",
       "  <thead>\n",
       "    <tr style=\"text-align: right;\">\n",
       "      <th></th>\n",
       "      <th>coefs</th>\n",
       "      <th>names</th>\n",
       "    </tr>\n",
       "  </thead>\n",
       "  <tbody>\n",
       "    <tr>\n",
       "      <th>824</th>\n",
       "      <td>0.214940</td>\n",
       "      <td>spoilers</td>\n",
       "    </tr>\n",
       "    <tr>\n",
       "      <th>6</th>\n",
       "      <td>0.045874</td>\n",
       "      <td>14</td>\n",
       "    </tr>\n",
       "    <tr>\n",
       "      <th>770</th>\n",
       "      <td>0.027174</td>\n",
       "      <td>season</td>\n",
       "    </tr>\n",
       "    <tr>\n",
       "      <th>823</th>\n",
       "      <td>0.023236</td>\n",
       "      <td>spoiler</td>\n",
       "    </tr>\n",
       "    <tr>\n",
       "      <th>541</th>\n",
       "      <td>0.023105</td>\n",
       "      <td>lotr</td>\n",
       "    </tr>\n",
       "    <tr>\n",
       "      <th>139</th>\n",
       "      <td>0.020661</td>\n",
       "      <td>bigg boss</td>\n",
       "    </tr>\n",
       "    <tr>\n",
       "      <th>138</th>\n",
       "      <td>0.019716</td>\n",
       "      <td>bigg</td>\n",
       "    </tr>\n",
       "    <tr>\n",
       "      <th>162</th>\n",
       "      <td>0.016001</td>\n",
       "      <td>boss</td>\n",
       "    </tr>\n",
       "    <tr>\n",
       "      <th>313</th>\n",
       "      <td>0.014746</td>\n",
       "      <td>episode</td>\n",
       "    </tr>\n",
       "    <tr>\n",
       "      <th>163</th>\n",
       "      <td>0.014713</td>\n",
       "      <td>boss 14</td>\n",
       "    </tr>\n",
       "    <tr>\n",
       "      <th>882</th>\n",
       "      <td>0.012881</td>\n",
       "      <td>thrones</td>\n",
       "    </tr>\n",
       "    <tr>\n",
       "      <th>400</th>\n",
       "      <td>0.012858</td>\n",
       "      <td>got</td>\n",
       "    </tr>\n",
       "    <tr>\n",
       "      <th>463</th>\n",
       "      <td>0.012408</td>\n",
       "      <td>indian</td>\n",
       "    </tr>\n",
       "    <tr>\n",
       "      <th>439</th>\n",
       "      <td>0.009386</td>\n",
       "      <td>hobbit</td>\n",
       "    </tr>\n",
       "    <tr>\n",
       "      <th>376</th>\n",
       "      <td>0.009283</td>\n",
       "      <td>game thrones</td>\n",
       "    </tr>\n",
       "    <tr>\n",
       "      <th>375</th>\n",
       "      <td>0.009108</td>\n",
       "      <td>game</td>\n",
       "    </tr>\n",
       "    <tr>\n",
       "      <th>587</th>\n",
       "      <td>0.009088</td>\n",
       "      <td>mtv</td>\n",
       "    </tr>\n",
       "    <tr>\n",
       "      <th>739</th>\n",
       "      <td>0.008671</td>\n",
       "      <td>roadies</td>\n",
       "    </tr>\n",
       "    <tr>\n",
       "      <th>50</th>\n",
       "      <td>0.007931</td>\n",
       "      <td>4k</td>\n",
       "    </tr>\n",
       "    <tr>\n",
       "      <th>740</th>\n",
       "      <td>0.007088</td>\n",
       "      <td>roadies revolution</td>\n",
       "    </tr>\n",
       "  </tbody>\n",
       "</table>\n",
       "</div>"
      ],
      "text/plain": [
       "        coefs               names\n",
       "824  0.214940            spoilers\n",
       "6    0.045874                  14\n",
       "770  0.027174              season\n",
       "823  0.023236             spoiler\n",
       "541  0.023105                lotr\n",
       "139  0.020661           bigg boss\n",
       "138  0.019716                bigg\n",
       "162  0.016001                boss\n",
       "313  0.014746             episode\n",
       "163  0.014713             boss 14\n",
       "882  0.012881             thrones\n",
       "400  0.012858                 got\n",
       "463  0.012408              indian\n",
       "439  0.009386              hobbit\n",
       "376  0.009283        game thrones\n",
       "375  0.009108                game\n",
       "587  0.009088                 mtv\n",
       "739  0.008671             roadies\n",
       "50   0.007931                  4k\n",
       "740  0.007088  roadies revolution"
      ]
     },
     "execution_count": 44,
     "metadata": {},
     "output_type": "execute_result"
    }
   ],
   "source": [
    "forest_pipe4_feats.nlargest(20, 'coefs')"
   ]
  },
  {
   "cell_type": "code",
   "execution_count": 45,
   "metadata": {},
   "outputs": [],
   "source": [
    "forest_pipe5 = make_pipeline(TfidfVectorizer(tokenizer = LemmaTokenizer(), stop_words = 'english', max_features = 1000), RandomForestClassifier())"
   ]
  },
  {
   "cell_type": "code",
   "execution_count": 46,
   "metadata": {},
   "outputs": [
    {
     "data": {
      "text/plain": [
       "Pipeline(steps=[('tfidfvectorizer',\n",
       "                 TfidfVectorizer(max_features=1000, stop_words='english',\n",
       "                                 tokenizer=<__main__.LemmaTokenizer object at 0x7fa09176aa60>)),\n",
       "                ('randomforestclassifier', RandomForestClassifier())])"
      ]
     },
     "execution_count": 46,
     "metadata": {},
     "output_type": "execute_result"
    }
   ],
   "source": [
    "forest_pipe5.fit(X_train, y_train)"
   ]
  },
  {
   "cell_type": "code",
   "execution_count": 47,
   "metadata": {},
   "outputs": [
    {
     "name": "stdout",
     "output_type": "stream",
     "text": [
      "Your train score is: [0.92034233 0.93877551 0.92560895 0.9400527  0.92555995]\n",
      "Your mean train score is: 0.9299361361272803\n",
      "Your test score is: [0.93688363 0.91304348 0.91501976 0.95059289 0.93083004]\n",
      "Your mean test score is: 0.9284850044047369\n",
      "Your test recall/sensitivity score is: 0.9098679098679099\n",
      "Your confusion matrix is: [[0.9766881  0.0233119 ]\n",
      " [0.09013209 0.90986791]]\n"
     ]
    }
   ],
   "source": [
    "eval_model(forest_pipe5, X_train, X_test, y_train, y_test)"
   ]
  },
  {
   "cell_type": "code",
   "execution_count": 48,
   "metadata": {},
   "outputs": [],
   "source": [
    "forest_pipe5_coefs = pipe_coefs(forest_pipe5, 'tfidfvectorizer')"
   ]
  },
  {
   "cell_type": "code",
   "execution_count": 49,
   "metadata": {},
   "outputs": [],
   "source": [
    "top_pipe5_feats = forest_pipe5_coefs.nlargest(10, 'coefs')"
   ]
  },
  {
   "cell_type": "code",
   "execution_count": 50,
   "metadata": {},
   "outputs": [
    {
     "data": {
      "text/html": [
       "<div>\n",
       "<style scoped>\n",
       "    .dataframe tbody tr th:only-of-type {\n",
       "        vertical-align: middle;\n",
       "    }\n",
       "\n",
       "    .dataframe tbody tr th {\n",
       "        vertical-align: top;\n",
       "    }\n",
       "\n",
       "    .dataframe thead th {\n",
       "        text-align: right;\n",
       "    }\n",
       "</style>\n",
       "<table border=\"1\" class=\"dataframe\">\n",
       "  <thead>\n",
       "    <tr style=\"text-align: right;\">\n",
       "      <th></th>\n",
       "      <th>coefs</th>\n",
       "      <th>names</th>\n",
       "    </tr>\n",
       "  </thead>\n",
       "  <tbody>\n",
       "    <tr>\n",
       "      <th>823</th>\n",
       "      <td>0.219481</td>\n",
       "      <td>spoiler</td>\n",
       "    </tr>\n",
       "    <tr>\n",
       "      <th>6</th>\n",
       "      <td>0.056589</td>\n",
       "      <td>14</td>\n",
       "    </tr>\n",
       "    <tr>\n",
       "      <th>769</th>\n",
       "      <td>0.028059</td>\n",
       "      <td>season</td>\n",
       "    </tr>\n",
       "    <tr>\n",
       "      <th>132</th>\n",
       "      <td>0.026300</td>\n",
       "      <td>bigg</td>\n",
       "    </tr>\n",
       "    <tr>\n",
       "      <th>148</th>\n",
       "      <td>0.025580</td>\n",
       "      <td>bos</td>\n",
       "    </tr>\n",
       "    <tr>\n",
       "      <th>883</th>\n",
       "      <td>0.020760</td>\n",
       "      <td>throne</td>\n",
       "    </tr>\n",
       "    <tr>\n",
       "      <th>532</th>\n",
       "      <td>0.020618</td>\n",
       "      <td>lotr</td>\n",
       "    </tr>\n",
       "    <tr>\n",
       "      <th>307</th>\n",
       "      <td>0.014376</td>\n",
       "      <td>episode</td>\n",
       "    </tr>\n",
       "    <tr>\n",
       "      <th>739</th>\n",
       "      <td>0.013799</td>\n",
       "      <td>ring</td>\n",
       "    </tr>\n",
       "    <tr>\n",
       "      <th>741</th>\n",
       "      <td>0.012020</td>\n",
       "      <td>roadies</td>\n",
       "    </tr>\n",
       "  </tbody>\n",
       "</table>\n",
       "</div>"
      ],
      "text/plain": [
       "        coefs    names\n",
       "823  0.219481  spoiler\n",
       "6    0.056589       14\n",
       "769  0.028059   season\n",
       "132  0.026300     bigg\n",
       "148  0.025580      bos\n",
       "883  0.020760   throne\n",
       "532  0.020618     lotr\n",
       "307  0.014376  episode\n",
       "739  0.013799     ring\n",
       "741  0.012020  roadies"
      ]
     },
     "execution_count": 50,
     "metadata": {},
     "output_type": "execute_result"
    }
   ],
   "source": [
    "top_pipe5_feats"
   ]
  },
  {
   "cell_type": "code",
   "execution_count": 51,
   "metadata": {},
   "outputs": [
    {
     "data": {
      "image/png": "[encoded data removed]",
      "text/plain": [
       "<Figure size 1080x648 with 1 Axes>"
      ]
     },
     "metadata": {
      "needs_background": "light"
     },
     "output_type": "display_data"
    }
   ],
   "source": [
    "ax, fig = plt.subplots(figsize = (15, 9))\n",
    "\n",
    "sns.barplot(x=\"names\", y=\"coefs\", data=top_pipe5_feats,\n",
    "                 palette=\"flare\")\n",
    "\n",
    "plt.title('10 Most Important Words in Random Forest Model with Custom Lemmatizer');"
   ]
  },
  {
   "cell_type": "markdown",
   "metadata": {},
   "source": [
    "Okay, well it doesn't appear that using the custom Lemmatizer improved our scores much, but I think it was worth doing."
   ]
  },
  {
   "cell_type": "markdown",
   "metadata": {},
   "source": [
    "It looks like my best model was with pipe5, because it had similar test scores (~93%) as some of the other runs, but very little overfitting. The Recall Score was pretty good at .91 and our false negatives were quite low at .09. The parameters in this model were the TfidfVectorizer with custom lemmatizer, stop_words = 'english', max_features = 1000, n_grams = (1,2), and just the defaults used on the RandomForestClassifier. I also like this model best because the lemmatizer reduces some of the important features to their roots. For example, I was thinking of using forest_pipe4 as my best model, but when I looked at the top features, I noticed that both 'spoiler' and 'spoilers' made the top 10. So, althought my test scores were more or less the same, I don't want duplicate features in my top 10. So, I'm going with forest_pipe5 and I will make a chart showing the most important features here for my presentation. "
   ]
  },
  {
   "cell_type": "markdown",
   "metadata": {},
   "source": [
    "To conclude this project, it looks like I'm getting pretty similar results between the Naive Bayes Model and the Random Forest Classifier Models, and what is interesting is that many of the same words/features end up in both models. So, I think I will be able to successfully help my Game of Thrones Subreddit Moderator friend filter out those pesky Lord of the Ring posts on her GoT page by using this model. I should be able to filter out the LOTR posts with ~93-94% accuracy. I recommend using a RandomForest Classifier Model with WordNet Lemmatizer and a TfidfVectorizer. Huzzah!"
   ]
  },
  {
   "cell_type": "markdown",
   "metadata": {},
   "source": [
    "For future work, I'd like to experiment with additional model types, like Logistic Regression, and SVM Classifier. I'd also have liked to utilize the ROC-AUC score and plots since I was optimizing for Sensitivity/Recall. It might have been a useful metric for me to visualize as I went. Finally, I think it would have beem fun to try running a Sentiment Analyzer on the posts to see if there was a difference between the two. I wonder if that could have been a good feature in my model to test. There's always more one can do! "
   ]
  },
  {
   "cell_type": "code",
   "execution_count": null,
   "metadata": {},
   "outputs": [],
   "source": []
  }
 ],
 "metadata": {
  "kernelspec": {
   "display_name": "Python 3",
   "language": "python",
   "name": "python3"
  },
  "language_info": {
   "codemirror_mode": {
    "name": "ipython",
    "version": 3
   },
   "file_extension": ".py",
   "mimetype": "text/x-python",
   "name": "python",
   "nbconvert_exporter": "python",
   "pygments_lexer": "ipython3",
   "version": "3.8.3"
  }
 },
 "nbformat": 4,
 "nbformat_minor": 4
}
