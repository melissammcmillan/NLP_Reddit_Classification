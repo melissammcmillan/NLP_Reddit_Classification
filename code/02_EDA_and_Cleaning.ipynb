{
 "cells": [
  {
   "cell_type": "markdown",
   "metadata": {},
   "source": [
    "### Notebook 2: Cleaning data and doing EDA to prep for modelling."
   ]
  },
  {
   "cell_type": "markdown",
   "metadata": {},
   "source": [
    "##### Step 1: Read in both datasets"
   ]
  },
  {
   "cell_type": "code",
   "execution_count": 237,
   "metadata": {},
   "outputs": [],
   "source": [
    "#necessary imports\n",
    "import pandas as pd\n",
    "import numpy as np\n",
    "import matplotlib.pyplot as plt\n",
    "import seaborn as sns\n",
    "\n",
    "from sklearn.feature_extraction.text import CountVectorizer\n",
    "\n",
    "import re\n",
    "from nltk.tokenize import RegexpTokenizer\n",
    "\n",
    "import warnings\n",
    "warnings.filterwarnings('ignore')"
   ]
  },
  {
   "cell_type": "code",
   "execution_count": 2,
   "metadata": {},
   "outputs": [],
   "source": [
    "got = pd.read_csv('./data/got_5100_posts.csv', index_col=0)"
   ]
  },
  {
   "cell_type": "code",
   "execution_count": 9,
   "metadata": {},
   "outputs": [
    {
     "data": {
      "text/html": [
       "<div>\n",
       "<style scoped>\n",
       "    .dataframe tbody tr th:only-of-type {\n",
       "        vertical-align: middle;\n",
       "    }\n",
       "\n",
       "    .dataframe tbody tr th {\n",
       "        vertical-align: top;\n",
       "    }\n",
       "\n",
       "    .dataframe thead th {\n",
       "        text-align: right;\n",
       "    }\n",
       "</style>\n",
       "<table border=\"1\" class=\"dataframe\">\n",
       "  <thead>\n",
       "    <tr style=\"text-align: right;\">\n",
       "      <th></th>\n",
       "      <th>subreddit</th>\n",
       "      <th>selftext</th>\n",
       "      <th>title</th>\n",
       "    </tr>\n",
       "  </thead>\n",
       "  <tbody>\n",
       "    <tr>\n",
       "      <th>0</th>\n",
       "      <td>gameofthrones</td>\n",
       "      <td>NaN</td>\n",
       "      <td>Some genius explains how the Trump riots is ‘G...</td>\n",
       "    </tr>\n",
       "    <tr>\n",
       "      <th>1</th>\n",
       "      <td>gameofthrones</td>\n",
       "      <td>NaN</td>\n",
       "      <td>Jagjeet Sandhu Age, Career, Personal Life- Bio...</td>\n",
       "    </tr>\n",
       "  </tbody>\n",
       "</table>\n",
       "</div>"
      ],
      "text/plain": [
       "       subreddit selftext                                              title\n",
       "0  gameofthrones      NaN  Some genius explains how the Trump riots is ‘G...\n",
       "1  gameofthrones      NaN  Jagjeet Sandhu Age, Career, Personal Life- Bio..."
      ]
     },
     "execution_count": 9,
     "metadata": {},
     "output_type": "execute_result"
    }
   ],
   "source": [
    "got.head(2)"
   ]
  },
  {
   "cell_type": "code",
   "execution_count": 4,
   "metadata": {},
   "outputs": [],
   "source": [
    "lotr = pd.read_csv('./data/lotr_5100_posts.csv', index_col=0)"
   ]
  },
  {
   "cell_type": "code",
   "execution_count": 5,
   "metadata": {},
   "outputs": [
    {
     "data": {
      "text/html": [
       "<div>\n",
       "<style scoped>\n",
       "    .dataframe tbody tr th:only-of-type {\n",
       "        vertical-align: middle;\n",
       "    }\n",
       "\n",
       "    .dataframe tbody tr th {\n",
       "        vertical-align: top;\n",
       "    }\n",
       "\n",
       "    .dataframe thead th {\n",
       "        text-align: right;\n",
       "    }\n",
       "</style>\n",
       "<table border=\"1\" class=\"dataframe\">\n",
       "  <thead>\n",
       "    <tr style=\"text-align: right;\">\n",
       "      <th></th>\n",
       "      <th>subreddit</th>\n",
       "      <th>selftext</th>\n",
       "      <th>title</th>\n",
       "    </tr>\n",
       "  </thead>\n",
       "  <tbody>\n",
       "    <tr>\n",
       "      <th>0</th>\n",
       "      <td>lotr</td>\n",
       "      <td>NaN</td>\n",
       "      <td>Start my Tolkien journey off right</td>\n",
       "    </tr>\n",
       "    <tr>\n",
       "      <th>1</th>\n",
       "      <td>lotr</td>\n",
       "      <td>Hi guys!\\n\\nThis might seem like an unusual re...</td>\n",
       "      <td>Looking for posters</td>\n",
       "    </tr>\n",
       "  </tbody>\n",
       "</table>\n",
       "</div>"
      ],
      "text/plain": [
       "  subreddit                                           selftext  \\\n",
       "0      lotr                                                NaN   \n",
       "1      lotr  Hi guys!\\n\\nThis might seem like an unusual re...   \n",
       "\n",
       "                                title  \n",
       "0  Start my Tolkien journey off right  \n",
       "1                 Looking for posters  "
      ]
     },
     "execution_count": 5,
     "metadata": {},
     "output_type": "execute_result"
    }
   ],
   "source": [
    "lotr.head(2)"
   ]
  },
  {
   "cell_type": "markdown",
   "metadata": {},
   "source": [
    "Step 2: Explore the data for any cleaning needed"
   ]
  },
  {
   "cell_type": "code",
   "execution_count": 6,
   "metadata": {},
   "outputs": [
    {
     "name": "stdout",
     "output_type": "stream",
     "text": [
      "<class 'pandas.core.frame.DataFrame'>\n",
      "Int64Index: 5100 entries, 0 to 5099\n",
      "Data columns (total 3 columns):\n",
      " #   Column     Non-Null Count  Dtype \n",
      "---  ------     --------------  ----- \n",
      " 0   subreddit  5100 non-null   object\n",
      " 1   selftext   1388 non-null   object\n",
      " 2   title      5100 non-null   object\n",
      "dtypes: object(3)\n",
      "memory usage: 159.4+ KB\n"
     ]
    }
   ],
   "source": [
    "#I'll start with the GoT data\n",
    "got.info()"
   ]
  },
  {
   "cell_type": "code",
   "execution_count": 10,
   "metadata": {},
   "outputs": [
    {
     "name": "stdout",
     "output_type": "stream",
     "text": [
      "<class 'pandas.core.frame.DataFrame'>\n",
      "Int64Index: 5100 entries, 0 to 5099\n",
      "Data columns (total 3 columns):\n",
      " #   Column     Non-Null Count  Dtype \n",
      "---  ------     --------------  ----- \n",
      " 0   subreddit  5100 non-null   object\n",
      " 1   selftext   1619 non-null   object\n",
      " 2   title      5100 non-null   object\n",
      "dtypes: object(3)\n",
      "memory usage: 159.4+ KB\n"
     ]
    }
   ],
   "source": [
    "lotr.info()"
   ]
  },
  {
   "cell_type": "code",
   "execution_count": 26,
   "metadata": {},
   "outputs": [
    {
     "data": {
      "text/plain": [
       "subreddit       0\n",
       "selftext     3712\n",
       "title           0\n",
       "dtype: int64"
      ]
     },
     "execution_count": 26,
     "metadata": {},
     "output_type": "execute_result"
    }
   ],
   "source": [
    "got.isna().sum()"
   ]
  },
  {
   "cell_type": "code",
   "execution_count": 27,
   "metadata": {},
   "outputs": [
    {
     "data": {
      "text/plain": [
       "subreddit       0\n",
       "selftext     3481\n",
       "title           0\n",
       "dtype: int64"
      ]
     },
     "execution_count": 27,
     "metadata": {},
     "output_type": "execute_result"
    }
   ],
   "source": [
    "lotr.isna().sum()"
   ]
  },
  {
   "cell_type": "markdown",
   "metadata": {},
   "source": [
    "First observation: the 'selftext' columns in both datasets have quite a few nulls, whereas the 'title' columns don't have any. The 'selftext' column is the description text related to the post's title, if the reddit user decided to add a description to their post. Since there are so many nulls, I'm going to not use this data for my first pass at modelling. I'll just stick with the 'title' columns in each dataset for now and move forward. "
   ]
  },
  {
   "cell_type": "markdown",
   "metadata": {},
   "source": [
    "Also, at this point, I should maybe combine the datasets into one big one so I don't have to do everything twice. I'll combine both datasets, then make a master dataframe without the 'selftext' information."
   ]
  },
  {
   "cell_type": "code",
   "execution_count": 17,
   "metadata": {},
   "outputs": [
    {
     "data": {
      "text/html": [
       "<div>\n",
       "<style scoped>\n",
       "    .dataframe tbody tr th:only-of-type {\n",
       "        vertical-align: middle;\n",
       "    }\n",
       "\n",
       "    .dataframe tbody tr th {\n",
       "        vertical-align: top;\n",
       "    }\n",
       "\n",
       "    .dataframe thead th {\n",
       "        text-align: right;\n",
       "    }\n",
       "</style>\n",
       "<table border=\"1\" class=\"dataframe\">\n",
       "  <thead>\n",
       "    <tr style=\"text-align: right;\">\n",
       "      <th></th>\n",
       "      <th>subreddit</th>\n",
       "      <th>selftext</th>\n",
       "      <th>title</th>\n",
       "    </tr>\n",
       "  </thead>\n",
       "  <tbody>\n",
       "    <tr>\n",
       "      <th>0</th>\n",
       "      <td>gameofthrones</td>\n",
       "      <td>NaN</td>\n",
       "      <td>Some genius explains how the Trump riots is ‘G...</td>\n",
       "    </tr>\n",
       "    <tr>\n",
       "      <th>1</th>\n",
       "      <td>gameofthrones</td>\n",
       "      <td>NaN</td>\n",
       "      <td>Jagjeet Sandhu Age, Career, Personal Life- Bio...</td>\n",
       "    </tr>\n",
       "    <tr>\n",
       "      <th>2</th>\n",
       "      <td>gameofthrones</td>\n",
       "      <td>NaN</td>\n",
       "      <td>Kaagaz: plot, cast, review. Kaagaz is a 2021 I...</td>\n",
       "    </tr>\n",
       "    <tr>\n",
       "      <th>3</th>\n",
       "      <td>gameofthrones</td>\n",
       "      <td>NaN</td>\n",
       "      <td>Urvi Singh Age, Career, Personal Life- Biograp...</td>\n",
       "    </tr>\n",
       "    <tr>\n",
       "      <th>4</th>\n",
       "      <td>gameofthrones</td>\n",
       "      <td>NaN</td>\n",
       "      <td>Abhishek Banerjee: Wiki, age, birthday &amp;amp; f...</td>\n",
       "    </tr>\n",
       "    <tr>\n",
       "      <th>...</th>\n",
       "      <td>...</td>\n",
       "      <td>...</td>\n",
       "      <td>...</td>\n",
       "    </tr>\n",
       "    <tr>\n",
       "      <th>10195</th>\n",
       "      <td>lotr</td>\n",
       "      <td>I read the lotr for the first time a few month...</td>\n",
       "      <td>lotr is calling me back</td>\n",
       "    </tr>\n",
       "    <tr>\n",
       "      <th>10196</th>\n",
       "      <td>lotr</td>\n",
       "      <td>NaN</td>\n",
       "      <td>Fly, you fools!</td>\n",
       "    </tr>\n",
       "    <tr>\n",
       "      <th>10197</th>\n",
       "      <td>lotr</td>\n",
       "      <td>NaN</td>\n",
       "      <td>Cool fire pit</td>\n",
       "    </tr>\n",
       "    <tr>\n",
       "      <th>10198</th>\n",
       "      <td>lotr</td>\n",
       "      <td>NaN</td>\n",
       "      <td>Who remembers when LOTR first premiered?</td>\n",
       "    </tr>\n",
       "    <tr>\n",
       "      <th>10199</th>\n",
       "      <td>lotr</td>\n",
       "      <td>NaN</td>\n",
       "      <td>Lotr inspired pumpkin I carved for Halloween.</td>\n",
       "    </tr>\n",
       "  </tbody>\n",
       "</table>\n",
       "<p>10200 rows × 3 columns</p>\n",
       "</div>"
      ],
      "text/plain": [
       "           subreddit                                           selftext  \\\n",
       "0      gameofthrones                                                NaN   \n",
       "1      gameofthrones                                                NaN   \n",
       "2      gameofthrones                                                NaN   \n",
       "3      gameofthrones                                                NaN   \n",
       "4      gameofthrones                                                NaN   \n",
       "...              ...                                                ...   \n",
       "10195           lotr  I read the lotr for the first time a few month...   \n",
       "10196           lotr                                                NaN   \n",
       "10197           lotr                                                NaN   \n",
       "10198           lotr                                                NaN   \n",
       "10199           lotr                                                NaN   \n",
       "\n",
       "                                                   title  \n",
       "0      Some genius explains how the Trump riots is ‘G...  \n",
       "1      Jagjeet Sandhu Age, Career, Personal Life- Bio...  \n",
       "2      Kaagaz: plot, cast, review. Kaagaz is a 2021 I...  \n",
       "3      Urvi Singh Age, Career, Personal Life- Biograp...  \n",
       "4      Abhishek Banerjee: Wiki, age, birthday &amp; f...  \n",
       "...                                                  ...  \n",
       "10195                            lotr is calling me back  \n",
       "10196                                    Fly, you fools!  \n",
       "10197                                      Cool fire pit  \n",
       "10198           Who remembers when LOTR first premiered?  \n",
       "10199      Lotr inspired pumpkin I carved for Halloween.  \n",
       "\n",
       "[10200 rows x 3 columns]"
      ]
     },
     "execution_count": 17,
     "metadata": {},
     "output_type": "execute_result"
    }
   ],
   "source": [
    "combined_data = pd.concat([got, lotr], ignore_index=True)\n",
    "combined_data"
   ]
  },
  {
   "cell_type": "code",
   "execution_count": 24,
   "metadata": {},
   "outputs": [],
   "source": [
    "#I'm also going to export this combined dataframe so I can easily pull it in later\n",
    "combined_data.to_csv('./data/combined_data_with_selftext.csv')"
   ]
  },
  {
   "cell_type": "code",
   "execution_count": 18,
   "metadata": {},
   "outputs": [],
   "source": [
    "all_titles = combined_data.drop('selftext', axis=1)"
   ]
  },
  {
   "cell_type": "code",
   "execution_count": 20,
   "metadata": {},
   "outputs": [
    {
     "data": {
      "text/html": [
       "<div>\n",
       "<style scoped>\n",
       "    .dataframe tbody tr th:only-of-type {\n",
       "        vertical-align: middle;\n",
       "    }\n",
       "\n",
       "    .dataframe tbody tr th {\n",
       "        vertical-align: top;\n",
       "    }\n",
       "\n",
       "    .dataframe thead th {\n",
       "        text-align: right;\n",
       "    }\n",
       "</style>\n",
       "<table border=\"1\" class=\"dataframe\">\n",
       "  <thead>\n",
       "    <tr style=\"text-align: right;\">\n",
       "      <th></th>\n",
       "      <th>subreddit</th>\n",
       "      <th>title</th>\n",
       "    </tr>\n",
       "  </thead>\n",
       "  <tbody>\n",
       "    <tr>\n",
       "      <th>0</th>\n",
       "      <td>gameofthrones</td>\n",
       "      <td>Some genius explains how the Trump riots is ‘G...</td>\n",
       "    </tr>\n",
       "    <tr>\n",
       "      <th>1</th>\n",
       "      <td>gameofthrones</td>\n",
       "      <td>Jagjeet Sandhu Age, Career, Personal Life- Bio...</td>\n",
       "    </tr>\n",
       "    <tr>\n",
       "      <th>2</th>\n",
       "      <td>gameofthrones</td>\n",
       "      <td>Kaagaz: plot, cast, review. Kaagaz is a 2021 I...</td>\n",
       "    </tr>\n",
       "    <tr>\n",
       "      <th>3</th>\n",
       "      <td>gameofthrones</td>\n",
       "      <td>Urvi Singh Age, Career, Personal Life- Biograp...</td>\n",
       "    </tr>\n",
       "    <tr>\n",
       "      <th>4</th>\n",
       "      <td>gameofthrones</td>\n",
       "      <td>Abhishek Banerjee: Wiki, age, birthday &amp;amp; f...</td>\n",
       "    </tr>\n",
       "    <tr>\n",
       "      <th>...</th>\n",
       "      <td>...</td>\n",
       "      <td>...</td>\n",
       "    </tr>\n",
       "    <tr>\n",
       "      <th>10195</th>\n",
       "      <td>lotr</td>\n",
       "      <td>lotr is calling me back</td>\n",
       "    </tr>\n",
       "    <tr>\n",
       "      <th>10196</th>\n",
       "      <td>lotr</td>\n",
       "      <td>Fly, you fools!</td>\n",
       "    </tr>\n",
       "    <tr>\n",
       "      <th>10197</th>\n",
       "      <td>lotr</td>\n",
       "      <td>Cool fire pit</td>\n",
       "    </tr>\n",
       "    <tr>\n",
       "      <th>10198</th>\n",
       "      <td>lotr</td>\n",
       "      <td>Who remembers when LOTR first premiered?</td>\n",
       "    </tr>\n",
       "    <tr>\n",
       "      <th>10199</th>\n",
       "      <td>lotr</td>\n",
       "      <td>Lotr inspired pumpkin I carved for Halloween.</td>\n",
       "    </tr>\n",
       "  </tbody>\n",
       "</table>\n",
       "<p>10200 rows × 2 columns</p>\n",
       "</div>"
      ],
      "text/plain": [
       "           subreddit                                              title\n",
       "0      gameofthrones  Some genius explains how the Trump riots is ‘G...\n",
       "1      gameofthrones  Jagjeet Sandhu Age, Career, Personal Life- Bio...\n",
       "2      gameofthrones  Kaagaz: plot, cast, review. Kaagaz is a 2021 I...\n",
       "3      gameofthrones  Urvi Singh Age, Career, Personal Life- Biograp...\n",
       "4      gameofthrones  Abhishek Banerjee: Wiki, age, birthday &amp; f...\n",
       "...              ...                                                ...\n",
       "10195           lotr                            lotr is calling me back\n",
       "10196           lotr                                    Fly, you fools!\n",
       "10197           lotr                                      Cool fire pit\n",
       "10198           lotr           Who remembers when LOTR first premiered?\n",
       "10199           lotr      Lotr inspired pumpkin I carved for Halloween.\n",
       "\n",
       "[10200 rows x 2 columns]"
      ]
     },
     "execution_count": 20,
     "metadata": {},
     "output_type": "execute_result"
    }
   ],
   "source": [
    "all_titles"
   ]
  },
  {
   "cell_type": "code",
   "execution_count": 21,
   "metadata": {},
   "outputs": [],
   "source": [
    "#I'd like to make a title_length column just to see what those are like between the two datasets\n",
    "#df['status_length']  = df['STATUS'].str.len()\n",
    "all_titles['title_word_length'] = all_titles['title'].str.lower().str.split(\" \").str.len()"
   ]
  },
  {
   "cell_type": "code",
   "execution_count": 22,
   "metadata": {},
   "outputs": [
    {
     "data": {
      "text/html": [
       "<div>\n",
       "<style scoped>\n",
       "    .dataframe tbody tr th:only-of-type {\n",
       "        vertical-align: middle;\n",
       "    }\n",
       "\n",
       "    .dataframe tbody tr th {\n",
       "        vertical-align: top;\n",
       "    }\n",
       "\n",
       "    .dataframe thead th {\n",
       "        text-align: right;\n",
       "    }\n",
       "</style>\n",
       "<table border=\"1\" class=\"dataframe\">\n",
       "  <thead>\n",
       "    <tr style=\"text-align: right;\">\n",
       "      <th></th>\n",
       "      <th>subreddit</th>\n",
       "      <th>title</th>\n",
       "      <th>title_word_length</th>\n",
       "    </tr>\n",
       "  </thead>\n",
       "  <tbody>\n",
       "    <tr>\n",
       "      <th>0</th>\n",
       "      <td>gameofthrones</td>\n",
       "      <td>Some genius explains how the Trump riots is ‘G...</td>\n",
       "      <td>14</td>\n",
       "    </tr>\n",
       "    <tr>\n",
       "      <th>1</th>\n",
       "      <td>gameofthrones</td>\n",
       "      <td>Jagjeet Sandhu Age, Career, Personal Life- Bio...</td>\n",
       "      <td>25</td>\n",
       "    </tr>\n",
       "    <tr>\n",
       "      <th>2</th>\n",
       "      <td>gameofthrones</td>\n",
       "      <td>Kaagaz: plot, cast, review. Kaagaz is a 2021 I...</td>\n",
       "      <td>21</td>\n",
       "    </tr>\n",
       "    <tr>\n",
       "      <th>3</th>\n",
       "      <td>gameofthrones</td>\n",
       "      <td>Urvi Singh Age, Career, Personal Life- Biograp...</td>\n",
       "      <td>24</td>\n",
       "    </tr>\n",
       "    <tr>\n",
       "      <th>4</th>\n",
       "      <td>gameofthrones</td>\n",
       "      <td>Abhishek Banerjee: Wiki, age, birthday &amp;amp; f...</td>\n",
       "      <td>23</td>\n",
       "    </tr>\n",
       "  </tbody>\n",
       "</table>\n",
       "</div>"
      ],
      "text/plain": [
       "       subreddit                                              title  \\\n",
       "0  gameofthrones  Some genius explains how the Trump riots is ‘G...   \n",
       "1  gameofthrones  Jagjeet Sandhu Age, Career, Personal Life- Bio...   \n",
       "2  gameofthrones  Kaagaz: plot, cast, review. Kaagaz is a 2021 I...   \n",
       "3  gameofthrones  Urvi Singh Age, Career, Personal Life- Biograp...   \n",
       "4  gameofthrones  Abhishek Banerjee: Wiki, age, birthday &amp; f...   \n",
       "\n",
       "   title_word_length  \n",
       "0                 14  \n",
       "1                 25  \n",
       "2                 21  \n",
       "3                 24  \n",
       "4                 23  "
      ]
     },
     "execution_count": 22,
     "metadata": {},
     "output_type": "execute_result"
    }
   ],
   "source": [
    "all_titles.head()"
   ]
  },
  {
   "cell_type": "code",
   "execution_count": 23,
   "metadata": {},
   "outputs": [
    {
     "data": {
      "text/html": [
       "<div>\n",
       "<style scoped>\n",
       "    .dataframe tbody tr th:only-of-type {\n",
       "        vertical-align: middle;\n",
       "    }\n",
       "\n",
       "    .dataframe tbody tr th {\n",
       "        vertical-align: top;\n",
       "    }\n",
       "\n",
       "    .dataframe thead th {\n",
       "        text-align: right;\n",
       "    }\n",
       "</style>\n",
       "<table border=\"1\" class=\"dataframe\">\n",
       "  <thead>\n",
       "    <tr style=\"text-align: right;\">\n",
       "      <th></th>\n",
       "      <th>title_word_length</th>\n",
       "    </tr>\n",
       "  </thead>\n",
       "  <tbody>\n",
       "    <tr>\n",
       "      <th>count</th>\n",
       "      <td>10200.000000</td>\n",
       "    </tr>\n",
       "    <tr>\n",
       "      <th>mean</th>\n",
       "      <td>14.515196</td>\n",
       "    </tr>\n",
       "    <tr>\n",
       "      <th>std</th>\n",
       "      <td>10.246274</td>\n",
       "    </tr>\n",
       "    <tr>\n",
       "      <th>min</th>\n",
       "      <td>1.000000</td>\n",
       "    </tr>\n",
       "    <tr>\n",
       "      <th>25%</th>\n",
       "      <td>6.000000</td>\n",
       "    </tr>\n",
       "    <tr>\n",
       "      <th>50%</th>\n",
       "      <td>12.000000</td>\n",
       "    </tr>\n",
       "    <tr>\n",
       "      <th>75%</th>\n",
       "      <td>23.000000</td>\n",
       "    </tr>\n",
       "    <tr>\n",
       "      <th>max</th>\n",
       "      <td>61.000000</td>\n",
       "    </tr>\n",
       "  </tbody>\n",
       "</table>\n",
       "</div>"
      ],
      "text/plain": [
       "       title_word_length\n",
       "count       10200.000000\n",
       "mean           14.515196\n",
       "std            10.246274\n",
       "min             1.000000\n",
       "25%             6.000000\n",
       "50%            12.000000\n",
       "75%            23.000000\n",
       "max            61.000000"
      ]
     },
     "execution_count": 23,
     "metadata": {},
     "output_type": "execute_result"
    }
   ],
   "source": [
    "all_titles.describe()"
   ]
  },
  {
   "cell_type": "code",
   "execution_count": 198,
   "metadata": {},
   "outputs": [
    {
     "name": "stderr",
     "output_type": "stream",
     "text": [
      "/Users/melissamcmillan/opt/anaconda3/lib/python3.8/site-packages/seaborn/distributions.py:2551: FutureWarning: `distplot` is a deprecated function and will be removed in a future version. Please adapt your code to use either `displot` (a figure-level function with similar flexibility) or `histplot` (an axes-level function for histograms).\n",
      "  warnings.warn(msg, FutureWarning)\n",
      "/Users/melissamcmillan/opt/anaconda3/lib/python3.8/site-packages/seaborn/distributions.py:2551: FutureWarning: `distplot` is a deprecated function and will be removed in a future version. Please adapt your code to use either `displot` (a figure-level function with similar flexibility) or `histplot` (an axes-level function for histograms).\n",
      "  warnings.warn(msg, FutureWarning)\n"
     ]
    },
    {
     "data": {
      "text/plain": [
       "<matplotlib.legend.Legend at 0x7fcbb9c690a0>"
      ]
     },
     "execution_count": 198,
     "metadata": {},
     "output_type": "execute_result"
    },
    {
     "data": {
      "image/png": "[encoded data removed]",
      "text/plain": [
       "<Figure size 792x504 with 1 Axes>"
      ]
     },
     "metadata": {
      "needs_background": "light"
     },
     "output_type": "display_data"
    }
   ],
   "source": [
    "all_titles_got = all_titles[all_titles['subreddit'] == 'gameofthrones']\n",
    "all_titles_lotr = all_titles[all_titles['subreddit'] == 'lotr']\n",
    "\n",
    "fig, ax = plt.subplots(figsize=(11,7))\n",
    "sns.distplot(all_titles_got['title_word_length'], color = 'blue', label = 'GoT')\n",
    "sns.distplot(all_titles_lotr['title_word_length'], color = 'orange', label = 'LOTR')\n",
    "plt.title('Post Title Word Count by Subreddit')\n",
    "plt.legend()"
   ]
  },
  {
   "cell_type": "markdown",
   "metadata": {},
   "source": [
    "Hmmm this is interesting: the LOTR title lengths seem to be more normally distributed, although right-skewed, while the GoT title \n",
    "lengths have a bimodal distribution."
   ]
  },
  {
   "cell_type": "code",
   "execution_count": 28,
   "metadata": {},
   "outputs": [],
   "source": [
    "#Now I'd like to make a column of the character lengths for the titles and see how those compare between the subreddits\n",
    "all_titles['title_character_total']  = all_titles['title'].str.len()"
   ]
  },
  {
   "cell_type": "code",
   "execution_count": 29,
   "metadata": {},
   "outputs": [
    {
     "data": {
      "text/html": [
       "<div>\n",
       "<style scoped>\n",
       "    .dataframe tbody tr th:only-of-type {\n",
       "        vertical-align: middle;\n",
       "    }\n",
       "\n",
       "    .dataframe tbody tr th {\n",
       "        vertical-align: top;\n",
       "    }\n",
       "\n",
       "    .dataframe thead th {\n",
       "        text-align: right;\n",
       "    }\n",
       "</style>\n",
       "<table border=\"1\" class=\"dataframe\">\n",
       "  <thead>\n",
       "    <tr style=\"text-align: right;\">\n",
       "      <th></th>\n",
       "      <th>subreddit</th>\n",
       "      <th>title</th>\n",
       "      <th>title_word_length</th>\n",
       "      <th>title_character_total</th>\n",
       "    </tr>\n",
       "  </thead>\n",
       "  <tbody>\n",
       "    <tr>\n",
       "      <th>0</th>\n",
       "      <td>gameofthrones</td>\n",
       "      <td>Some genius explains how the Trump riots is ‘G...</td>\n",
       "      <td>14</td>\n",
       "      <td>78</td>\n",
       "    </tr>\n",
       "    <tr>\n",
       "      <th>1</th>\n",
       "      <td>gameofthrones</td>\n",
       "      <td>Jagjeet Sandhu Age, Career, Personal Life- Bio...</td>\n",
       "      <td>25</td>\n",
       "      <td>160</td>\n",
       "    </tr>\n",
       "  </tbody>\n",
       "</table>\n",
       "</div>"
      ],
      "text/plain": [
       "       subreddit                                              title  \\\n",
       "0  gameofthrones  Some genius explains how the Trump riots is ‘G...   \n",
       "1  gameofthrones  Jagjeet Sandhu Age, Career, Personal Life- Bio...   \n",
       "\n",
       "   title_word_length  title_character_total  \n",
       "0                 14                     78  \n",
       "1                 25                    160  "
      ]
     },
     "execution_count": 29,
     "metadata": {},
     "output_type": "execute_result"
    }
   ],
   "source": [
    "all_titles.head(2)"
   ]
  },
  {
   "cell_type": "code",
   "execution_count": 205,
   "metadata": {},
   "outputs": [
    {
     "name": "stderr",
     "output_type": "stream",
     "text": [
      "/Users/melissamcmillan/opt/anaconda3/lib/python3.8/site-packages/seaborn/distributions.py:2551: FutureWarning: `distplot` is a deprecated function and will be removed in a future version. Please adapt your code to use either `displot` (a figure-level function with similar flexibility) or `histplot` (an axes-level function for histograms).\n",
      "  warnings.warn(msg, FutureWarning)\n",
      "/Users/melissamcmillan/opt/anaconda3/lib/python3.8/site-packages/seaborn/distributions.py:2551: FutureWarning: `distplot` is a deprecated function and will be removed in a future version. Please adapt your code to use either `displot` (a figure-level function with similar flexibility) or `histplot` (an axes-level function for histograms).\n",
      "  warnings.warn(msg, FutureWarning)\n"
     ]
    },
    {
     "data": {
      "text/plain": [
       "<matplotlib.legend.Legend at 0x7fcbea3cc310>"
      ]
     },
     "execution_count": 205,
     "metadata": {},
     "output_type": "execute_result"
    },
    {
     "data": {
      "image/png": "[encoded data removed]",
      "text/plain": [
       "<Figure size 792x504 with 1 Axes>"
      ]
     },
     "metadata": {
      "needs_background": "light"
     },
     "output_type": "display_data"
    }
   ],
   "source": [
    "all_titles_got = all_titles[all_titles['subreddit'] == 'gameofthrones']\n",
    "all_titles_lotr = all_titles[all_titles['subreddit'] == 'lotr']\n",
    "\n",
    "fig, ax = plt.subplots(figsize=(11,7))\n",
    "sns.distplot(all_titles_got['title_character_total'], color = 'blue', label = 'GoT')\n",
    "sns.distplot(all_titles_lotr['title_character_total'], color = 'orange', label = 'LOTR')\n",
    "plt.title('Post Title Character Count by Subreddit')\n",
    "plt.legend()"
   ]
  },
  {
   "cell_type": "markdown",
   "metadata": {},
   "source": [
    "Similar distributions here as with the title word length. Good to know!"
   ]
  },
  {
   "cell_type": "code",
   "execution_count": 31,
   "metadata": {},
   "outputs": [
    {
     "data": {
      "text/html": [
       "<div>\n",
       "<style scoped>\n",
       "    .dataframe tbody tr th:only-of-type {\n",
       "        vertical-align: middle;\n",
       "    }\n",
       "\n",
       "    .dataframe tbody tr th {\n",
       "        vertical-align: top;\n",
       "    }\n",
       "\n",
       "    .dataframe thead tr th {\n",
       "        text-align: left;\n",
       "    }\n",
       "\n",
       "    .dataframe thead tr:last-of-type th {\n",
       "        text-align: right;\n",
       "    }\n",
       "</style>\n",
       "<table border=\"1\" class=\"dataframe\">\n",
       "  <thead>\n",
       "    <tr>\n",
       "      <th></th>\n",
       "      <th colspan=\"8\" halign=\"left\">title_word_length</th>\n",
       "      <th colspan=\"8\" halign=\"left\">title_character_total</th>\n",
       "    </tr>\n",
       "    <tr>\n",
       "      <th></th>\n",
       "      <th>count</th>\n",
       "      <th>mean</th>\n",
       "      <th>std</th>\n",
       "      <th>min</th>\n",
       "      <th>25%</th>\n",
       "      <th>50%</th>\n",
       "      <th>75%</th>\n",
       "      <th>max</th>\n",
       "      <th>count</th>\n",
       "      <th>mean</th>\n",
       "      <th>std</th>\n",
       "      <th>min</th>\n",
       "      <th>25%</th>\n",
       "      <th>50%</th>\n",
       "      <th>75%</th>\n",
       "      <th>max</th>\n",
       "    </tr>\n",
       "    <tr>\n",
       "      <th>subreddit</th>\n",
       "      <th></th>\n",
       "      <th></th>\n",
       "      <th></th>\n",
       "      <th></th>\n",
       "      <th></th>\n",
       "      <th></th>\n",
       "      <th></th>\n",
       "      <th></th>\n",
       "      <th></th>\n",
       "      <th></th>\n",
       "      <th></th>\n",
       "      <th></th>\n",
       "      <th></th>\n",
       "      <th></th>\n",
       "      <th></th>\n",
       "      <th></th>\n",
       "    </tr>\n",
       "  </thead>\n",
       "  <tbody>\n",
       "    <tr>\n",
       "      <th>gameofthrones</th>\n",
       "      <td>5100.0</td>\n",
       "      <td>17.687451</td>\n",
       "      <td>10.506265</td>\n",
       "      <td>1.0</td>\n",
       "      <td>8.0</td>\n",
       "      <td>18.0</td>\n",
       "      <td>26.0</td>\n",
       "      <td>56.0</td>\n",
       "      <td>5100.0</td>\n",
       "      <td>103.074902</td>\n",
       "      <td>58.499599</td>\n",
       "      <td>1.0</td>\n",
       "      <td>48.0</td>\n",
       "      <td>114.5</td>\n",
       "      <td>152.25</td>\n",
       "      <td>301.0</td>\n",
       "    </tr>\n",
       "    <tr>\n",
       "      <th>lotr</th>\n",
       "      <td>5100.0</td>\n",
       "      <td>11.342941</td>\n",
       "      <td>8.915207</td>\n",
       "      <td>1.0</td>\n",
       "      <td>5.0</td>\n",
       "      <td>9.0</td>\n",
       "      <td>15.0</td>\n",
       "      <td>61.0</td>\n",
       "      <td>5100.0</td>\n",
       "      <td>61.921373</td>\n",
       "      <td>47.182632</td>\n",
       "      <td>1.0</td>\n",
       "      <td>29.0</td>\n",
       "      <td>50.0</td>\n",
       "      <td>79.00</td>\n",
       "      <td>304.0</td>\n",
       "    </tr>\n",
       "  </tbody>\n",
       "</table>\n",
       "</div>"
      ],
      "text/plain": [
       "              title_word_length                                              \\\n",
       "                          count       mean        std  min  25%   50%   75%   \n",
       "subreddit                                                                     \n",
       "gameofthrones            5100.0  17.687451  10.506265  1.0  8.0  18.0  26.0   \n",
       "lotr                     5100.0  11.342941   8.915207  1.0  5.0   9.0  15.0   \n",
       "\n",
       "                    title_character_total                                    \\\n",
       "                max                 count        mean        std  min   25%   \n",
       "subreddit                                                                     \n",
       "gameofthrones  56.0                5100.0  103.074902  58.499599  1.0  48.0   \n",
       "lotr           61.0                5100.0   61.921373  47.182632  1.0  29.0   \n",
       "\n",
       "                                     \n",
       "                 50%     75%    max  \n",
       "subreddit                            \n",
       "gameofthrones  114.5  152.25  301.0  \n",
       "lotr            50.0   79.00  304.0  "
      ]
     },
     "execution_count": 31,
     "metadata": {},
     "output_type": "execute_result"
    }
   ],
   "source": [
    "#Just going to do a quick .describe() so that I have this information handy\n",
    "all_titles.groupby('subreddit').describe()"
   ]
  },
  {
   "cell_type": "markdown",
   "metadata": {},
   "source": [
    "I'm now going to map the subreddit column as 1 = GoT and 0 = LOTR so I can look at a heatmap of the title stats."
   ]
  },
  {
   "cell_type": "code",
   "execution_count": 32,
   "metadata": {},
   "outputs": [
    {
     "data": {
      "text/html": [
       "<div>\n",
       "<style scoped>\n",
       "    .dataframe tbody tr th:only-of-type {\n",
       "        vertical-align: middle;\n",
       "    }\n",
       "\n",
       "    .dataframe tbody tr th {\n",
       "        vertical-align: top;\n",
       "    }\n",
       "\n",
       "    .dataframe thead th {\n",
       "        text-align: right;\n",
       "    }\n",
       "</style>\n",
       "<table border=\"1\" class=\"dataframe\">\n",
       "  <thead>\n",
       "    <tr style=\"text-align: right;\">\n",
       "      <th></th>\n",
       "      <th>subreddit</th>\n",
       "      <th>title</th>\n",
       "      <th>title_word_length</th>\n",
       "      <th>title_character_total</th>\n",
       "      <th>subreddit_map</th>\n",
       "    </tr>\n",
       "  </thead>\n",
       "  <tbody>\n",
       "    <tr>\n",
       "      <th>0</th>\n",
       "      <td>gameofthrones</td>\n",
       "      <td>Some genius explains how the Trump riots is ‘G...</td>\n",
       "      <td>14</td>\n",
       "      <td>78</td>\n",
       "      <td>1</td>\n",
       "    </tr>\n",
       "    <tr>\n",
       "      <th>1</th>\n",
       "      <td>gameofthrones</td>\n",
       "      <td>Jagjeet Sandhu Age, Career, Personal Life- Bio...</td>\n",
       "      <td>25</td>\n",
       "      <td>160</td>\n",
       "      <td>1</td>\n",
       "    </tr>\n",
       "  </tbody>\n",
       "</table>\n",
       "</div>"
      ],
      "text/plain": [
       "       subreddit                                              title  \\\n",
       "0  gameofthrones  Some genius explains how the Trump riots is ‘G...   \n",
       "1  gameofthrones  Jagjeet Sandhu Age, Career, Personal Life- Bio...   \n",
       "\n",
       "   title_word_length  title_character_total  subreddit_map  \n",
       "0                 14                     78              1  \n",
       "1                 25                    160              1  "
      ]
     },
     "execution_count": 32,
     "metadata": {},
     "output_type": "execute_result"
    }
   ],
   "source": [
    "all_titles['subreddit_map'] = all_titles['subreddit'].map({'gameofthrones': 1, 'lotr': 0})"
   ]
  },
  {
   "cell_type": "code",
   "execution_count": 33,
   "metadata": {},
   "outputs": [
    {
     "data": {
      "text/html": [
       "<div>\n",
       "<style scoped>\n",
       "    .dataframe tbody tr th:only-of-type {\n",
       "        vertical-align: middle;\n",
       "    }\n",
       "\n",
       "    .dataframe tbody tr th {\n",
       "        vertical-align: top;\n",
       "    }\n",
       "\n",
       "    .dataframe thead th {\n",
       "        text-align: right;\n",
       "    }\n",
       "</style>\n",
       "<table border=\"1\" class=\"dataframe\">\n",
       "  <thead>\n",
       "    <tr style=\"text-align: right;\">\n",
       "      <th></th>\n",
       "      <th>subreddit</th>\n",
       "      <th>title</th>\n",
       "      <th>title_word_length</th>\n",
       "      <th>title_character_total</th>\n",
       "      <th>subreddit_map</th>\n",
       "    </tr>\n",
       "  </thead>\n",
       "  <tbody>\n",
       "    <tr>\n",
       "      <th>0</th>\n",
       "      <td>gameofthrones</td>\n",
       "      <td>Some genius explains how the Trump riots is ‘G...</td>\n",
       "      <td>14</td>\n",
       "      <td>78</td>\n",
       "      <td>1</td>\n",
       "    </tr>\n",
       "    <tr>\n",
       "      <th>1</th>\n",
       "      <td>gameofthrones</td>\n",
       "      <td>Jagjeet Sandhu Age, Career, Personal Life- Bio...</td>\n",
       "      <td>25</td>\n",
       "      <td>160</td>\n",
       "      <td>1</td>\n",
       "    </tr>\n",
       "    <tr>\n",
       "      <th>2</th>\n",
       "      <td>gameofthrones</td>\n",
       "      <td>Kaagaz: plot, cast, review. Kaagaz is a 2021 I...</td>\n",
       "      <td>21</td>\n",
       "      <td>129</td>\n",
       "      <td>1</td>\n",
       "    </tr>\n",
       "    <tr>\n",
       "      <th>3</th>\n",
       "      <td>gameofthrones</td>\n",
       "      <td>Urvi Singh Age, Career, Personal Life- Biograp...</td>\n",
       "      <td>24</td>\n",
       "      <td>156</td>\n",
       "      <td>1</td>\n",
       "    </tr>\n",
       "    <tr>\n",
       "      <th>4</th>\n",
       "      <td>gameofthrones</td>\n",
       "      <td>Abhishek Banerjee: Wiki, age, birthday &amp;amp; f...</td>\n",
       "      <td>23</td>\n",
       "      <td>154</td>\n",
       "      <td>1</td>\n",
       "    </tr>\n",
       "    <tr>\n",
       "      <th>...</th>\n",
       "      <td>...</td>\n",
       "      <td>...</td>\n",
       "      <td>...</td>\n",
       "      <td>...</td>\n",
       "      <td>...</td>\n",
       "    </tr>\n",
       "    <tr>\n",
       "      <th>10195</th>\n",
       "      <td>lotr</td>\n",
       "      <td>lotr is calling me back</td>\n",
       "      <td>5</td>\n",
       "      <td>23</td>\n",
       "      <td>0</td>\n",
       "    </tr>\n",
       "    <tr>\n",
       "      <th>10196</th>\n",
       "      <td>lotr</td>\n",
       "      <td>Fly, you fools!</td>\n",
       "      <td>3</td>\n",
       "      <td>15</td>\n",
       "      <td>0</td>\n",
       "    </tr>\n",
       "    <tr>\n",
       "      <th>10197</th>\n",
       "      <td>lotr</td>\n",
       "      <td>Cool fire pit</td>\n",
       "      <td>3</td>\n",
       "      <td>13</td>\n",
       "      <td>0</td>\n",
       "    </tr>\n",
       "    <tr>\n",
       "      <th>10198</th>\n",
       "      <td>lotr</td>\n",
       "      <td>Who remembers when LOTR first premiered?</td>\n",
       "      <td>6</td>\n",
       "      <td>40</td>\n",
       "      <td>0</td>\n",
       "    </tr>\n",
       "    <tr>\n",
       "      <th>10199</th>\n",
       "      <td>lotr</td>\n",
       "      <td>Lotr inspired pumpkin I carved for Halloween.</td>\n",
       "      <td>7</td>\n",
       "      <td>45</td>\n",
       "      <td>0</td>\n",
       "    </tr>\n",
       "  </tbody>\n",
       "</table>\n",
       "<p>10200 rows × 5 columns</p>\n",
       "</div>"
      ],
      "text/plain": [
       "           subreddit                                              title  \\\n",
       "0      gameofthrones  Some genius explains how the Trump riots is ‘G...   \n",
       "1      gameofthrones  Jagjeet Sandhu Age, Career, Personal Life- Bio...   \n",
       "2      gameofthrones  Kaagaz: plot, cast, review. Kaagaz is a 2021 I...   \n",
       "3      gameofthrones  Urvi Singh Age, Career, Personal Life- Biograp...   \n",
       "4      gameofthrones  Abhishek Banerjee: Wiki, age, birthday &amp; f...   \n",
       "...              ...                                                ...   \n",
       "10195           lotr                            lotr is calling me back   \n",
       "10196           lotr                                    Fly, you fools!   \n",
       "10197           lotr                                      Cool fire pit   \n",
       "10198           lotr           Who remembers when LOTR first premiered?   \n",
       "10199           lotr      Lotr inspired pumpkin I carved for Halloween.   \n",
       "\n",
       "       title_word_length  title_character_total  subreddit_map  \n",
       "0                     14                     78              1  \n",
       "1                     25                    160              1  \n",
       "2                     21                    129              1  \n",
       "3                     24                    156              1  \n",
       "4                     23                    154              1  \n",
       "...                  ...                    ...            ...  \n",
       "10195                  5                     23              0  \n",
       "10196                  3                     15              0  \n",
       "10197                  3                     13              0  \n",
       "10198                  6                     40              0  \n",
       "10199                  7                     45              0  \n",
       "\n",
       "[10200 rows x 5 columns]"
      ]
     },
     "execution_count": 33,
     "metadata": {},
     "output_type": "execute_result"
    }
   ],
   "source": [
    "all_titles"
   ]
  },
  {
   "cell_type": "code",
   "execution_count": 34,
   "metadata": {},
   "outputs": [
    {
     "data": {
      "text/plain": [
       "<matplotlib.axes._subplots.AxesSubplot at 0x7fcc25518970>"
      ]
     },
     "execution_count": 34,
     "metadata": {},
     "output_type": "execute_result"
    },
    {
     "data": {
      "image/png": "[encoded data removed]",
      "text/plain": [
       "<Figure size 432x288 with 2 Axes>"
      ]
     },
     "metadata": {
      "needs_background": "light"
     },
     "output_type": "display_data"
    }
   ],
   "source": [
    "sns.heatmap(all_titles.corr(), annot=True)"
   ]
  },
  {
   "cell_type": "markdown",
   "metadata": {},
   "source": [
    "It looks like there might be some initial correlations between title_word_length/title_character_total and the subreddit_map because the correlation numbers are 0.31/0.36. Not super high numbers, but it's not zero. Again, good to know! I might want to use the title_character_total column in my modelling. "
   ]
  },
  {
   "cell_type": "markdown",
   "metadata": {},
   "source": [
    "Alright, now I'm going to apply a CountVectorizer to my dataset and explore the results"
   ]
  },
  {
   "cell_type": "code",
   "execution_count": 36,
   "metadata": {},
   "outputs": [],
   "source": [
    "#I'm going to first initialize without any stop_words just to see what comes up\n",
    "cvect= CountVectorizer()"
   ]
  },
  {
   "cell_type": "code",
   "execution_count": 37,
   "metadata": {},
   "outputs": [],
   "source": [
    "all_cvect = all_titles['title'].copy()\n",
    "all_cvect = cvect.fit_transform(all_cvect)"
   ]
  },
  {
   "cell_type": "code",
   "execution_count": 38,
   "metadata": {},
   "outputs": [],
   "source": [
    "all_cvect_df = pd.DataFrame(all_cvect.toarray(), columns = cvect.get_feature_names())"
   ]
  },
  {
   "cell_type": "code",
   "execution_count": 39,
   "metadata": {},
   "outputs": [
    {
     "data": {
      "text/plain": [
       "(10200, 9708)"
      ]
     },
     "execution_count": 39,
     "metadata": {},
     "output_type": "execute_result"
    }
   ],
   "source": [
    "all_cvect_df.shape"
   ]
  },
  {
   "cell_type": "code",
   "execution_count": 40,
   "metadata": {},
   "outputs": [
    {
     "data": {
      "text/plain": [
       "the         6971\n",
       "of          3346\n",
       "and         2526\n",
       "to          2176\n",
       "in          1952\n",
       "is          1801\n",
       "for         1559\n",
       "spoilers    1469\n",
       "my          1378\n",
       "bigg        1198\n",
       "boss        1140\n",
       "14          1122\n",
       "this        1061\n",
       "no          1028\n",
       "it          1018\n",
       "dtype: int64"
      ]
     },
     "execution_count": 40,
     "metadata": {},
     "output_type": "execute_result"
    }
   ],
   "source": [
    "all_cvect_df.sum().sort_values(ascending=False).head(15)"
   ]
  },
  {
   "cell_type": "code",
   "execution_count": 41,
   "metadata": {},
   "outputs": [
    {
     "data": {
      "text/plain": [
       "lockscreen         1\n",
       "lotfmeme           1\n",
       "lors               1\n",
       "lorna              1\n",
       "lordsheogorath1    1\n",
       "looooooove         1\n",
       "longtime           1\n",
       "longbottom         1\n",
       "lothlorian         1\n",
       "loneliness         1\n",
       "lohri              1\n",
       "logic              1\n",
       "𝐏𝐂                 1\n",
       "locked             1\n",
       "lockdowns          1\n",
       "dtype: int64"
      ]
     },
     "execution_count": 41,
     "metadata": {},
     "output_type": "execute_result"
    }
   ],
   "source": [
    "all_cvect_df.sum().sort_values(ascending=True).head(15)"
   ]
  },
  {
   "cell_type": "code",
   "execution_count": 42,
   "metadata": {},
   "outputs": [],
   "source": [
    "#I'm going to run the CountVectorizer again, but this time I'm going to filter out the stop words since they\n",
    "#seem to coming up in the top word counts\n",
    "cvect_stop = CountVectorizer(stop_words = 'english')"
   ]
  },
  {
   "cell_type": "code",
   "execution_count": 44,
   "metadata": {},
   "outputs": [],
   "source": [
    "all_cvect = all_titles['title'].copy()\n",
    "all_cvect_stop = cvect_stop.fit_transform(all_cvect)"
   ]
  },
  {
   "cell_type": "code",
   "execution_count": 45,
   "metadata": {},
   "outputs": [],
   "source": [
    "all_cvect_stop_df = pd.DataFrame(all_cvect_stop.toarray(), columns = cvect_stop.get_feature_names())"
   ]
  },
  {
   "cell_type": "code",
   "execution_count": 46,
   "metadata": {},
   "outputs": [
    {
     "data": {
      "text/plain": [
       "(10200, 9442)"
      ]
     },
     "execution_count": 46,
     "metadata": {},
     "output_type": "execute_result"
    }
   ],
   "source": [
    "all_cvect_stop_df.shape"
   ]
  },
  {
   "cell_type": "code",
   "execution_count": 204,
   "metadata": {},
   "outputs": [
    {
     "data": {
      "text/plain": [
       "spoilers      1469\n",
       "bigg          1198\n",
       "boss          1140\n",
       "14            1122\n",
       "episode        955\n",
       "roadies        859\n",
       "revolution     805\n",
       "mtv            608\n",
       "lotr           579\n",
       "got            538\n",
       "new            449\n",
       "season         393\n",
       "game           355\n",
       "series         351\n",
       "just           341\n",
       "4k             320\n",
       "indian         310\n",
       "rubina         299\n",
       "rahul          299\n",
       "hobbit         297\n",
       "dtype: int64"
      ]
     },
     "execution_count": 204,
     "metadata": {},
     "output_type": "execute_result"
    }
   ],
   "source": [
    "all_cvect_stop_df.sum().sort_values(ascending=False).head(20)"
   ]
  },
  {
   "cell_type": "code",
   "execution_count": 228,
   "metadata": {},
   "outputs": [],
   "source": [
    "top_words = all_cvect_stop_df.sum().sort_values(ascending=False).head(10)"
   ]
  },
  {
   "cell_type": "code",
   "execution_count": 236,
   "metadata": {},
   "outputs": [
    {
     "data": {
      "image/png": "[encoded data removed]",
      "text/plain": [
       "<Figure size 1080x576 with 1 Axes>"
      ]
     },
     "metadata": {
      "needs_background": "light"
     },
     "output_type": "display_data"
    }
   ],
   "source": [
    "fig, ax = plt.subplots(figsize = (15, 8))\n",
    "\n",
    "top_words.plot.barh(color='royalblue', edgecolor = 'black')\n",
    "plt.title('10 Most Frequent Words in Dataset After CountVectorizer Applied')\n",
    "plt.xlabel('Frequency');"
   ]
  },
  {
   "cell_type": "code",
   "execution_count": 48,
   "metadata": {},
   "outputs": [
    {
     "data": {
      "text/plain": [
       "𝟐𝟎𝟕𝟕             1\n",
       "experts          1\n",
       "recruit          1\n",
       "recreating       1\n",
       "recovery         1\n",
       "records          1\n",
       "explicitly       1\n",
       "explore          1\n",
       "exponentially    1\n",
       "exposed          1\n",
       "reconstructed    1\n",
       "recommended      1\n",
       "exquisite        1\n",
       "ext              1\n",
       "recruitment      1\n",
       "dtype: int64"
      ]
     },
     "execution_count": 48,
     "metadata": {},
     "output_type": "execute_result"
    }
   ],
   "source": [
    "all_cvect_stop_df.sum().sort_values(ascending=True).head(15)"
   ]
  },
  {
   "cell_type": "markdown",
   "metadata": {},
   "source": [
    "From my initial Naive Bayes modelling in the 03_Naive_Bayes_Modelling notebook, I've learned that I have emojis and lots of symbols in this dataset that I'd like to get rid of. So, I'm going to try get rid of them here using the re/Regular Expressions library tools."
   ]
  },
  {
   "cell_type": "code",
   "execution_count": 175,
   "metadata": {},
   "outputs": [],
   "source": [
    "all_titles['title_token'] = all_titles['title'].copy()"
   ]
  },
  {
   "cell_type": "code",
   "execution_count": 176,
   "metadata": {},
   "outputs": [],
   "source": [
    "tokenizer_regex = RegexpTokenizer('[a-zA-Z\\d]+')"
   ]
  },
  {
   "cell_type": "code",
   "execution_count": 170,
   "metadata": {},
   "outputs": [],
   "source": [
    "test_title = all_titles['title'][4117]"
   ]
  },
  {
   "cell_type": "code",
   "execution_count": 171,
   "metadata": {},
   "outputs": [
    {
     "data": {
      "text/plain": [
       "'BIGG BOSS 14: राहुल वैद्य के प्रशंसक रोस्ट टास्क के बाद रुबीना से नाखुश हाल ही में बिग बॉस के एपिसोड में उन्होंने एक सेगमेंट को दिखाया, जहां हाउसफुल को अच्छी आस्थ...'"
      ]
     },
     "execution_count": 171,
     "metadata": {},
     "output_type": "execute_result"
    }
   ],
   "source": [
    "test_title"
   ]
  },
  {
   "cell_type": "code",
   "execution_count": 174,
   "metadata": {},
   "outputs": [
    {
     "data": {
      "text/plain": [
       "['BIGG', 'BOSS', '14']"
      ]
     },
     "execution_count": 174,
     "metadata": {},
     "output_type": "execute_result"
    }
   ],
   "source": [
    "tokenizer_regex.tokenize(test_title)"
   ]
  },
  {
   "cell_type": "code",
   "execution_count": null,
   "metadata": {},
   "outputs": [],
   "source": [
    "#Okay, that did what I wanted, I'm going to apply it to my dataset now"
   ]
  },
  {
   "cell_type": "code",
   "execution_count": 177,
   "metadata": {},
   "outputs": [
    {
     "data": {
      "text/html": [
       "<div>\n",
       "<style scoped>\n",
       "    .dataframe tbody tr th:only-of-type {\n",
       "        vertical-align: middle;\n",
       "    }\n",
       "\n",
       "    .dataframe tbody tr th {\n",
       "        vertical-align: top;\n",
       "    }\n",
       "\n",
       "    .dataframe thead th {\n",
       "        text-align: right;\n",
       "    }\n",
       "</style>\n",
       "<table border=\"1\" class=\"dataframe\">\n",
       "  <thead>\n",
       "    <tr style=\"text-align: right;\">\n",
       "      <th></th>\n",
       "      <th>subreddit</th>\n",
       "      <th>title</th>\n",
       "      <th>title_word_length</th>\n",
       "      <th>title_character_total</th>\n",
       "      <th>subreddit_map</th>\n",
       "      <th>title_token</th>\n",
       "    </tr>\n",
       "  </thead>\n",
       "  <tbody>\n",
       "    <tr>\n",
       "      <th>0</th>\n",
       "      <td>gameofthrones</td>\n",
       "      <td>Some genius explains how the Trump riots is ‘G...</td>\n",
       "      <td>14</td>\n",
       "      <td>78</td>\n",
       "      <td>1</td>\n",
       "      <td>Some genius explains how the Trump riots is ‘G...</td>\n",
       "    </tr>\n",
       "    <tr>\n",
       "      <th>1</th>\n",
       "      <td>gameofthrones</td>\n",
       "      <td>Jagjeet Sandhu Age, Career, Personal Life- Bio...</td>\n",
       "      <td>25</td>\n",
       "      <td>160</td>\n",
       "      <td>1</td>\n",
       "      <td>Jagjeet Sandhu Age, Career, Personal Life- Bio...</td>\n",
       "    </tr>\n",
       "  </tbody>\n",
       "</table>\n",
       "</div>"
      ],
      "text/plain": [
       "       subreddit                                              title  \\\n",
       "0  gameofthrones  Some genius explains how the Trump riots is ‘G...   \n",
       "1  gameofthrones  Jagjeet Sandhu Age, Career, Personal Life- Bio...   \n",
       "\n",
       "   title_word_length  title_character_total  subreddit_map  \\\n",
       "0                 14                     78              1   \n",
       "1                 25                    160              1   \n",
       "\n",
       "                                         title_token  \n",
       "0  Some genius explains how the Trump riots is ‘G...  \n",
       "1  Jagjeet Sandhu Age, Career, Personal Life- Bio...  "
      ]
     },
     "execution_count": 177,
     "metadata": {},
     "output_type": "execute_result"
    }
   ],
   "source": [
    "all_titles.head(2)"
   ]
  },
  {
   "cell_type": "code",
   "execution_count": 178,
   "metadata": {},
   "outputs": [
    {
     "name": "stderr",
     "output_type": "stream",
     "text": [
      "<ipython-input-178-cd9aa0d317ee>:2: SettingWithCopyWarning: \n",
      "A value is trying to be set on a copy of a slice from a DataFrame\n",
      "\n",
      "See the caveats in the documentation: https://pandas.pydata.org/pandas-docs/stable/user_guide/indexing.html#returning-a-view-versus-a-copy\n",
      "  all_titles['title_token'][idx] = tokenizer_regex.tokenize(all_titles['title_token'][idx])\n"
     ]
    }
   ],
   "source": [
    "for idx, element in enumerate(all_titles['title_token']):\n",
    "    all_titles['title_token'][idx] = tokenizer_regex.tokenize(all_titles['title_token'][idx]) "
   ]
  },
  {
   "cell_type": "code",
   "execution_count": 179,
   "metadata": {},
   "outputs": [
    {
     "data": {
      "text/plain": [
       "0    Some genius explains how the Trump riots is ‘G...\n",
       "1    Jagjeet Sandhu Age, Career, Personal Life- Bio...\n",
       "Name: title, dtype: object"
      ]
     },
     "execution_count": 179,
     "metadata": {},
     "output_type": "execute_result"
    }
   ],
   "source": [
    "all_titles['title'].head(2)"
   ]
  },
  {
   "cell_type": "code",
   "execution_count": 180,
   "metadata": {},
   "outputs": [
    {
     "data": {
      "text/plain": [
       "0    [Some, genius, explains, how, the, Trump, riot...\n",
       "1    [Jagjeet, Sandhu, Age, Career, Personal, Life,...\n",
       "2    [Kaagaz, plot, cast, review, Kaagaz, is, a, 20...\n",
       "3    [Urvi, Singh, Age, Career, Personal, Life, Bio...\n",
       "4    [Abhishek, Banerjee, Wiki, age, birthday, amp,...\n",
       "Name: title_token, dtype: object"
      ]
     },
     "execution_count": 180,
     "metadata": {},
     "output_type": "execute_result"
    }
   ],
   "source": [
    "all_titles['title_token'].head()"
   ]
  },
  {
   "cell_type": "code",
   "execution_count": 181,
   "metadata": {},
   "outputs": [
    {
     "data": {
      "text/plain": [
       "['Some',\n",
       " 'genius',\n",
       " 'explains',\n",
       " 'how',\n",
       " 'the',\n",
       " 'Trump',\n",
       " 'riots',\n",
       " 'is',\n",
       " 'Game',\n",
       " 'Of',\n",
       " 'Thrones',\n",
       " 'S8',\n",
       " 'but',\n",
       " 'better']"
      ]
     },
     "execution_count": 181,
     "metadata": {},
     "output_type": "execute_result"
    }
   ],
   "source": [
    "all_titles['title_token'][0]"
   ]
  },
  {
   "cell_type": "code",
   "execution_count": 182,
   "metadata": {},
   "outputs": [
    {
     "data": {
      "text/plain": [
       "'Some genius explains how the Trump riots is Game Of Thrones S8 but better'"
      ]
     },
     "execution_count": 182,
     "metadata": {},
     "output_type": "execute_result"
    }
   ],
   "source": [
    "\" \".join(all_titles['title_token'][0])"
   ]
  },
  {
   "cell_type": "code",
   "execution_count": 183,
   "metadata": {},
   "outputs": [
    {
     "name": "stderr",
     "output_type": "stream",
     "text": [
      "<ipython-input-183-9f00df1db2e1>:2: SettingWithCopyWarning: \n",
      "A value is trying to be set on a copy of a slice from a DataFrame\n",
      "\n",
      "See the caveats in the documentation: https://pandas.pydata.org/pandas-docs/stable/user_guide/indexing.html#returning-a-view-versus-a-copy\n",
      "  all_titles['title_token'][idx] = \" \".join(all_titles['title_token'][idx])\n"
     ]
    }
   ],
   "source": [
    "for idx, element in enumerate(all_titles['title_token']):\n",
    "    all_titles['title_token'][idx] = \" \".join(all_titles['title_token'][idx])"
   ]
  },
  {
   "cell_type": "code",
   "execution_count": 184,
   "metadata": {},
   "outputs": [
    {
     "data": {
      "text/plain": [
       "'Some genius explains how the Trump riots is Game Of Thrones S8 but better'"
      ]
     },
     "execution_count": 184,
     "metadata": {},
     "output_type": "execute_result"
    }
   ],
   "source": [
    "all_titles['title_token'][0]"
   ]
  },
  {
   "cell_type": "code",
   "execution_count": 185,
   "metadata": {},
   "outputs": [
    {
     "data": {
      "text/html": [
       "<div>\n",
       "<style scoped>\n",
       "    .dataframe tbody tr th:only-of-type {\n",
       "        vertical-align: middle;\n",
       "    }\n",
       "\n",
       "    .dataframe tbody tr th {\n",
       "        vertical-align: top;\n",
       "    }\n",
       "\n",
       "    .dataframe thead th {\n",
       "        text-align: right;\n",
       "    }\n",
       "</style>\n",
       "<table border=\"1\" class=\"dataframe\">\n",
       "  <thead>\n",
       "    <tr style=\"text-align: right;\">\n",
       "      <th></th>\n",
       "      <th>subreddit</th>\n",
       "      <th>title</th>\n",
       "      <th>title_word_length</th>\n",
       "      <th>title_character_total</th>\n",
       "      <th>subreddit_map</th>\n",
       "      <th>title_token</th>\n",
       "    </tr>\n",
       "  </thead>\n",
       "  <tbody>\n",
       "    <tr>\n",
       "      <th>0</th>\n",
       "      <td>gameofthrones</td>\n",
       "      <td>Some genius explains how the Trump riots is ‘G...</td>\n",
       "      <td>14</td>\n",
       "      <td>78</td>\n",
       "      <td>1</td>\n",
       "      <td>Some genius explains how the Trump riots is Ga...</td>\n",
       "    </tr>\n",
       "    <tr>\n",
       "      <th>1</th>\n",
       "      <td>gameofthrones</td>\n",
       "      <td>Jagjeet Sandhu Age, Career, Personal Life- Bio...</td>\n",
       "      <td>25</td>\n",
       "      <td>160</td>\n",
       "      <td>1</td>\n",
       "      <td>Jagjeet Sandhu Age Career Personal Life Biogra...</td>\n",
       "    </tr>\n",
       "  </tbody>\n",
       "</table>\n",
       "</div>"
      ],
      "text/plain": [
       "       subreddit                                              title  \\\n",
       "0  gameofthrones  Some genius explains how the Trump riots is ‘G...   \n",
       "1  gameofthrones  Jagjeet Sandhu Age, Career, Personal Life- Bio...   \n",
       "\n",
       "   title_word_length  title_character_total  subreddit_map  \\\n",
       "0                 14                     78              1   \n",
       "1                 25                    160              1   \n",
       "\n",
       "                                         title_token  \n",
       "0  Some genius explains how the Trump riots is Ga...  \n",
       "1  Jagjeet Sandhu Age Career Personal Life Biogra...  "
      ]
     },
     "execution_count": 185,
     "metadata": {},
     "output_type": "execute_result"
    }
   ],
   "source": [
    "all_titles.head(2)"
   ]
  },
  {
   "cell_type": "code",
   "execution_count": 186,
   "metadata": {},
   "outputs": [],
   "source": [
    "#remember above: cvect_stop = CountVectorizer(stop_words = 'english')\n",
    "cvect_test = all_titles['title_token'].copy()\n",
    "cvect_test_token_stop = cvect_stop.fit_transform(cvect_test)"
   ]
  },
  {
   "cell_type": "code",
   "execution_count": 187,
   "metadata": {},
   "outputs": [],
   "source": [
    "cvect_test_token_stop_df = pd.DataFrame(cvect_test_token_stop.toarray(), \n",
    "                                 columns = cvect_stop.get_feature_names())"
   ]
  },
  {
   "cell_type": "code",
   "execution_count": 188,
   "metadata": {},
   "outputs": [
    {
     "data": {
      "text/plain": [
       "(10200, 8914)"
      ]
     },
     "execution_count": 188,
     "metadata": {},
     "output_type": "execute_result"
    }
   ],
   "source": [
    "cvect_test_token_stop_df.shape"
   ]
  },
  {
   "cell_type": "code",
   "execution_count": 189,
   "metadata": {},
   "outputs": [
    {
     "data": {
      "text/plain": [
       "spoilers      1469\n",
       "bigg          1198\n",
       "boss          1140\n",
       "14            1125\n",
       "episode        955\n",
       "roadies        859\n",
       "revolution     805\n",
       "mtv            608\n",
       "lotr           579\n",
       "got            538\n",
       "new            449\n",
       "season         393\n",
       "game           355\n",
       "series         351\n",
       "just           342\n",
       "dtype: int64"
      ]
     },
     "execution_count": 189,
     "metadata": {},
     "output_type": "execute_result"
    }
   ],
   "source": [
    "cvect_test_token_stop_df.sum().sort_values(ascending=False).head(15)"
   ]
  },
  {
   "cell_type": "code",
   "execution_count": 190,
   "metadata": {},
   "outputs": [
    {
     "data": {
      "text/plain": [
       "𝟐𝟎𝟕𝟕           1\n",
       "prepares       1\n",
       "envy           1\n",
       "enya           1\n",
       "preparation    1\n",
       "eorlingas      1\n",
       "preordered     1\n",
       "ep02           1\n",
       "prenamed       1\n",
       "ep9            1\n",
       "premiums       1\n",
       "epics          1\n",
       "epipdes        1\n",
       "presence       1\n",
       "premiering     1\n",
       "dtype: int64"
      ]
     },
     "execution_count": 190,
     "metadata": {},
     "output_type": "execute_result"
    }
   ],
   "source": [
    "cvect_test_token_stop_df.sum().sort_values(ascending=True).head(15)"
   ]
  },
  {
   "cell_type": "code",
   "execution_count": 191,
   "metadata": {},
   "outputs": [
    {
     "data": {
      "text/html": [
       "<div>\n",
       "<style scoped>\n",
       "    .dataframe tbody tr th:only-of-type {\n",
       "        vertical-align: middle;\n",
       "    }\n",
       "\n",
       "    .dataframe tbody tr th {\n",
       "        vertical-align: top;\n",
       "    }\n",
       "\n",
       "    .dataframe thead th {\n",
       "        text-align: right;\n",
       "    }\n",
       "</style>\n",
       "<table border=\"1\" class=\"dataframe\">\n",
       "  <thead>\n",
       "    <tr style=\"text-align: right;\">\n",
       "      <th></th>\n",
       "      <th>subreddit</th>\n",
       "      <th>title</th>\n",
       "      <th>title_word_length</th>\n",
       "      <th>title_character_total</th>\n",
       "      <th>subreddit_map</th>\n",
       "      <th>title_token</th>\n",
       "    </tr>\n",
       "  </thead>\n",
       "  <tbody>\n",
       "    <tr>\n",
       "      <th>0</th>\n",
       "      <td>gameofthrones</td>\n",
       "      <td>Some genius explains how the Trump riots is ‘G...</td>\n",
       "      <td>14</td>\n",
       "      <td>78</td>\n",
       "      <td>1</td>\n",
       "      <td>Some genius explains how the Trump riots is Ga...</td>\n",
       "    </tr>\n",
       "    <tr>\n",
       "      <th>1</th>\n",
       "      <td>gameofthrones</td>\n",
       "      <td>Jagjeet Sandhu Age, Career, Personal Life- Bio...</td>\n",
       "      <td>25</td>\n",
       "      <td>160</td>\n",
       "      <td>1</td>\n",
       "      <td>Jagjeet Sandhu Age Career Personal Life Biogra...</td>\n",
       "    </tr>\n",
       "    <tr>\n",
       "      <th>2</th>\n",
       "      <td>gameofthrones</td>\n",
       "      <td>Kaagaz: plot, cast, review. Kaagaz is a 2021 I...</td>\n",
       "      <td>21</td>\n",
       "      <td>129</td>\n",
       "      <td>1</td>\n",
       "      <td>Kaagaz plot cast review Kaagaz is a 2021 India...</td>\n",
       "    </tr>\n",
       "    <tr>\n",
       "      <th>3</th>\n",
       "      <td>gameofthrones</td>\n",
       "      <td>Urvi Singh Age, Career, Personal Life- Biograp...</td>\n",
       "      <td>24</td>\n",
       "      <td>156</td>\n",
       "      <td>1</td>\n",
       "      <td>Urvi Singh Age Career Personal Life Biography ...</td>\n",
       "    </tr>\n",
       "    <tr>\n",
       "      <th>4</th>\n",
       "      <td>gameofthrones</td>\n",
       "      <td>Abhishek Banerjee: Wiki, age, birthday &amp;amp; f...</td>\n",
       "      <td>23</td>\n",
       "      <td>154</td>\n",
       "      <td>1</td>\n",
       "      <td>Abhishek Banerjee Wiki age birthday amp facts ...</td>\n",
       "    </tr>\n",
       "  </tbody>\n",
       "</table>\n",
       "</div>"
      ],
      "text/plain": [
       "       subreddit                                              title  \\\n",
       "0  gameofthrones  Some genius explains how the Trump riots is ‘G...   \n",
       "1  gameofthrones  Jagjeet Sandhu Age, Career, Personal Life- Bio...   \n",
       "2  gameofthrones  Kaagaz: plot, cast, review. Kaagaz is a 2021 I...   \n",
       "3  gameofthrones  Urvi Singh Age, Career, Personal Life- Biograp...   \n",
       "4  gameofthrones  Abhishek Banerjee: Wiki, age, birthday &amp; f...   \n",
       "\n",
       "   title_word_length  title_character_total  subreddit_map  \\\n",
       "0                 14                     78              1   \n",
       "1                 25                    160              1   \n",
       "2                 21                    129              1   \n",
       "3                 24                    156              1   \n",
       "4                 23                    154              1   \n",
       "\n",
       "                                         title_token  \n",
       "0  Some genius explains how the Trump riots is Ga...  \n",
       "1  Jagjeet Sandhu Age Career Personal Life Biogra...  \n",
       "2  Kaagaz plot cast review Kaagaz is a 2021 India...  \n",
       "3  Urvi Singh Age Career Personal Life Biography ...  \n",
       "4  Abhishek Banerjee Wiki age birthday amp facts ...  "
      ]
     },
     "execution_count": 191,
     "metadata": {},
     "output_type": "execute_result"
    }
   ],
   "source": [
    "all_titles.head()"
   ]
  },
  {
   "cell_type": "code",
   "execution_count": 192,
   "metadata": {},
   "outputs": [
    {
     "data": {
      "text/plain": [
       "subreddit                0\n",
       "title                    0\n",
       "title_word_length        0\n",
       "title_character_total    0\n",
       "subreddit_map            0\n",
       "title_token              0\n",
       "dtype: int64"
      ]
     },
     "execution_count": 192,
     "metadata": {},
     "output_type": "execute_result"
    }
   ],
   "source": [
    "all_titles.isna().sum()"
   ]
  },
  {
   "cell_type": "code",
   "execution_count": 193,
   "metadata": {},
   "outputs": [],
   "source": [
    "all_titles.to_csv('./data/combined_data_cleaned_with_regexp.csv')"
   ]
  },
  {
   "cell_type": "markdown",
   "metadata": {},
   "source": [
    "Now that I've cleaned up the data quite a bit, I wonder if the distributions of title word length and title character total are the same for the two subreddits. I'm going to remake those plots and find out."
   ]
  },
  {
   "cell_type": "code",
   "execution_count": 200,
   "metadata": {},
   "outputs": [],
   "source": [
    "all_titles['title_token_word_length'] = all_titles['title_token'].str.lower().str.split(\" \").str.len()\n",
    "all_titles['title_token_character_total']  = all_titles['title_token'].str.len()"
   ]
  },
  {
   "cell_type": "code",
   "execution_count": 201,
   "metadata": {},
   "outputs": [
    {
     "data": {
      "text/html": [
       "<div>\n",
       "<style scoped>\n",
       "    .dataframe tbody tr th:only-of-type {\n",
       "        vertical-align: middle;\n",
       "    }\n",
       "\n",
       "    .dataframe tbody tr th {\n",
       "        vertical-align: top;\n",
       "    }\n",
       "\n",
       "    .dataframe thead th {\n",
       "        text-align: right;\n",
       "    }\n",
       "</style>\n",
       "<table border=\"1\" class=\"dataframe\">\n",
       "  <thead>\n",
       "    <tr style=\"text-align: right;\">\n",
       "      <th></th>\n",
       "      <th>subreddit</th>\n",
       "      <th>title</th>\n",
       "      <th>title_word_length</th>\n",
       "      <th>title_character_total</th>\n",
       "      <th>subreddit_map</th>\n",
       "      <th>title_token</th>\n",
       "      <th>title_token_character_total</th>\n",
       "      <th>title_token_word_length</th>\n",
       "    </tr>\n",
       "  </thead>\n",
       "  <tbody>\n",
       "    <tr>\n",
       "      <th>0</th>\n",
       "      <td>gameofthrones</td>\n",
       "      <td>Some genius explains how the Trump riots is ‘G...</td>\n",
       "      <td>14</td>\n",
       "      <td>78</td>\n",
       "      <td>1</td>\n",
       "      <td>Some genius explains how the Trump riots is Ga...</td>\n",
       "      <td>73</td>\n",
       "      <td>14</td>\n",
       "    </tr>\n",
       "    <tr>\n",
       "      <th>1</th>\n",
       "      <td>gameofthrones</td>\n",
       "      <td>Jagjeet Sandhu Age, Career, Personal Life- Bio...</td>\n",
       "      <td>25</td>\n",
       "      <td>160</td>\n",
       "      <td>1</td>\n",
       "      <td>Jagjeet Sandhu Age Career Personal Life Biogra...</td>\n",
       "      <td>151</td>\n",
       "      <td>25</td>\n",
       "    </tr>\n",
       "  </tbody>\n",
       "</table>\n",
       "</div>"
      ],
      "text/plain": [
       "       subreddit                                              title  \\\n",
       "0  gameofthrones  Some genius explains how the Trump riots is ‘G...   \n",
       "1  gameofthrones  Jagjeet Sandhu Age, Career, Personal Life- Bio...   \n",
       "\n",
       "   title_word_length  title_character_total  subreddit_map  \\\n",
       "0                 14                     78              1   \n",
       "1                 25                    160              1   \n",
       "\n",
       "                                         title_token  \\\n",
       "0  Some genius explains how the Trump riots is Ga...   \n",
       "1  Jagjeet Sandhu Age Career Personal Life Biogra...   \n",
       "\n",
       "   title_token_character_total  title_token_word_length  \n",
       "0                           73                       14  \n",
       "1                          151                       25  "
      ]
     },
     "execution_count": 201,
     "metadata": {},
     "output_type": "execute_result"
    }
   ],
   "source": [
    "all_titles.head(2)"
   ]
  },
  {
   "cell_type": "code",
   "execution_count": 202,
   "metadata": {},
   "outputs": [
    {
     "name": "stderr",
     "output_type": "stream",
     "text": [
      "/Users/melissamcmillan/opt/anaconda3/lib/python3.8/site-packages/seaborn/distributions.py:2551: FutureWarning: `distplot` is a deprecated function and will be removed in a future version. Please adapt your code to use either `displot` (a figure-level function with similar flexibility) or `histplot` (an axes-level function for histograms).\n",
      "  warnings.warn(msg, FutureWarning)\n",
      "/Users/melissamcmillan/opt/anaconda3/lib/python3.8/site-packages/seaborn/distributions.py:2551: FutureWarning: `distplot` is a deprecated function and will be removed in a future version. Please adapt your code to use either `displot` (a figure-level function with similar flexibility) or `histplot` (an axes-level function for histograms).\n",
      "  warnings.warn(msg, FutureWarning)\n"
     ]
    },
    {
     "data": {
      "text/plain": [
       "<matplotlib.legend.Legend at 0x7fcbea050ca0>"
      ]
     },
     "execution_count": 202,
     "metadata": {},
     "output_type": "execute_result"
    },
    {
     "data": {
      "image/png": "[encoded data removed]",
      "text/plain": [
       "<Figure size 792x504 with 1 Axes>"
      ]
     },
     "metadata": {
      "needs_background": "light"
     },
     "output_type": "display_data"
    }
   ],
   "source": [
    "all_titles_got = all_titles[all_titles['subreddit'] == 'gameofthrones']\n",
    "all_titles_lotr = all_titles[all_titles['subreddit'] == 'lotr']\n",
    "\n",
    "fig, ax = plt.subplots(figsize=(11,7))\n",
    "sns.distplot(all_titles_got['title_token_word_length'], color = 'blue', label = 'GoT')\n",
    "sns.distplot(all_titles_lotr['title_token_word_length'], color = 'orange', label = 'LOTR')\n",
    "plt.title('Post Title Word Count by Subreddit After Tokenization')\n",
    "plt.legend()"
   ]
  },
  {
   "cell_type": "code",
   "execution_count": 203,
   "metadata": {},
   "outputs": [
    {
     "name": "stderr",
     "output_type": "stream",
     "text": [
      "/Users/melissamcmillan/opt/anaconda3/lib/python3.8/site-packages/seaborn/distributions.py:2551: FutureWarning: `distplot` is a deprecated function and will be removed in a future version. Please adapt your code to use either `displot` (a figure-level function with similar flexibility) or `histplot` (an axes-level function for histograms).\n",
      "  warnings.warn(msg, FutureWarning)\n",
      "/Users/melissamcmillan/opt/anaconda3/lib/python3.8/site-packages/seaborn/distributions.py:2551: FutureWarning: `distplot` is a deprecated function and will be removed in a future version. Please adapt your code to use either `displot` (a figure-level function with similar flexibility) or `histplot` (an axes-level function for histograms).\n",
      "  warnings.warn(msg, FutureWarning)\n"
     ]
    },
    {
     "data": {
      "image/png": "[encoded data removed]",
      "text/plain": [
       "<Figure size 792x504 with 1 Axes>"
      ]
     },
     "metadata": {
      "needs_background": "light"
     },
     "output_type": "display_data"
    }
   ],
   "source": [
    "all_titles_got = all_titles[all_titles['subreddit'] == 'gameofthrones']\n",
    "all_titles_lotr = all_titles[all_titles['subreddit'] == 'lotr']\n",
    "\n",
    "fig, ax = plt.subplots(figsize=(11,7))\n",
    "sns.distplot(all_titles_got['title_token_character_total'], color = 'blue', label = 'GoT')\n",
    "sns.distplot(all_titles_lotr['title_token_character_total'], color = 'orange', label = 'LOTR')\n",
    "plt.title('Post Title Character Count by Subreddit After Tokenization')\n",
    "plt.legend();"
   ]
  },
  {
   "cell_type": "markdown",
   "metadata": {},
   "source": [
    "Hmm, it looks like they didn't change too much. Glad those emojis and non-english characters/symbols didn't have too much impact on the data distributions."
   ]
  },
  {
   "cell_type": "code",
   "execution_count": null,
   "metadata": {},
   "outputs": [],
   "source": []
  }
 ],
 "metadata": {
  "kernelspec": {
   "display_name": "Python 3",
   "language": "python",
   "name": "python3"
  },
  "language_info": {
   "codemirror_mode": {
    "name": "ipython",
    "version": 3
   },
   "file_extension": ".py",
   "mimetype": "text/x-python",
   "name": "python",
   "nbconvert_exporter": "python",
   "pygments_lexer": "ipython3",
   "version": "3.8.3"
  }
 },
 "nbformat": 4,
 "nbformat_minor": 4
}
