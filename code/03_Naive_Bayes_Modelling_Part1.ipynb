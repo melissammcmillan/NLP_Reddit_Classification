{
 "cells": [
  {
   "cell_type": "markdown",
   "metadata": {},
   "source": [
    "### Notebook 3: Getting Started on Modelling with Multinomial Naive Bayes"
   ]
  },
  {
   "cell_type": "markdown",
   "metadata": {},
   "source": [
    "In this notebook I will experiment with preprocessing tools and hyperparameter tuning to try to acheive the best Naive Bayes Classifier model that can discern which subreddit page a submission title corresponds to."
   ]
  },
  {
   "cell_type": "markdown",
   "metadata": {},
   "source": [
    "A quick note about this notebook: it contains ALOT of models, like 15 of them. I like to be intentional about each model and tweak one variable at a time to get a good feel for how one model compares to the next. If you don't want to look through all of the models, please go down to Model 4 (Pipe4/GS4) and check that one out- it turned out to be the best model in this notebook. It utilized the custom Lemmatizer with TfidfVectorizer, which gave me a test score of ~93%. It also had the best Recall/Sensitivity score of .89 and lowest false negative value of 11%. I tested many more models after this one, but used this one as best and then moved on to the next notebook (Notebook 04) after realizing below that I had further cleaning to do to my data as a result of the modelling here. So, if you like, you can move on to Notebook 04 to see my final Naive Bayes models, or scroll down below to follow my modelling process from the very beginning. Enjoy!"
   ]
  },
  {
   "cell_type": "markdown",
   "metadata": {},
   "source": [
    "Step 1: Imports and my model evaluation functions to make life easier."
   ]
  },
  {
   "cell_type": "code",
   "execution_count": 84,
   "metadata": {},
   "outputs": [],
   "source": [
    "import pandas as pd\n",
    "import numpy as np\n",
    "import matplotlib.pyplot as plt\n",
    "import seaborn as sns\n",
    "\n",
    "from sklearn.feature_extraction.text import CountVectorizer, TfidfVectorizer\n",
    "from sklearn.dummy import DummyClassifier\n",
    "from sklearn.model_selection import train_test_split, GridSearchCV, cross_val_score\n",
    "from sklearn.pipeline import make_pipeline\n",
    "from sklearn.preprocessing import StandardScaler\n",
    "from sklearn.naive_bayes import MultinomialNB\n",
    "\n",
    "from sklearn.metrics import recall_score, confusion_matrix\n",
    "\n",
    "from nltk.tokenize import word_tokenize\n",
    "from nltk.stem import WordNetLemmatizer, PorterStemmer\n",
    "\n",
    "import warnings\n",
    "warnings.filterwarnings('ignore')"
   ]
  },
  {
   "cell_type": "code",
   "execution_count": 2,
   "metadata": {},
   "outputs": [],
   "source": [
    "def eval_model(pipe, X_train, X_test, y_train, y_test):\n",
    "    \"\"\"function for evaluating a model inside of a pipeline.\"\"\"\n",
    "#     y_train_preds = pipe.predict(X_train)\n",
    "#     rmse_train = mean_squared_error(y_train, y_train_preds, squared=False)\n",
    "    y_test_preds = pipe.predict(X_test)\n",
    "    print(f'Your train score is: {cross_val_score(pipe, X_train, y_train)}')\n",
    "    print(f'Your mean train score is: {np.mean(cross_val_score(pipe, X_train, y_train))}')\n",
    "    print(f'Your test score is: {cross_val_score(pipe, X_test, y_test)}')\n",
    "    print(f'Your mean test score is: {np.mean(cross_val_score(pipe, X_test, y_test))}')\n",
    "    print(f'Your test recall/sensitivity score is: {recall_score(y_test, y_test_preds)}')\n",
    "    print(f'Your confusion matrix is: {confusion_matrix(y_test, y_test_preds, normalize = \"true\")}')\n",
    "#    plot_confusion_matrix(logreg, X_test, y_test, display_labels=['alive', 'dead'])\n",
    "#     plot_roc_curve(logreg, X_test, y_test);\n",
    "#     print(f'Your train RMSE is: {rmse_train}')\n",
    "#     print(f'Your test RMSE is: {rmse_test}')"
   ]
  },
  {
   "cell_type": "code",
   "execution_count": 3,
   "metadata": {},
   "outputs": [],
   "source": [
    "def pipe_coefs(pipe, vectorizer):\n",
    "    \"\"\" This function will give you a dataframe with your features and their coefficients/importances so you can sort them\"\"\"\n",
    "    features = pipe.named_steps[vectorizer].get_feature_names()\n",
    "    coefficients = pipe.named_steps['multinomialnb'].coef_\n",
    "    flattened_coefs = [val for sublist in coefficients for val in sublist]\n",
    "    pipe_coefs_df = pd.DataFrame({'coefs': flattened_coefs, 'names': features})\n",
    "    return pipe_coefs_df"
   ]
  },
  {
   "cell_type": "code",
   "execution_count": 4,
   "metadata": {},
   "outputs": [],
   "source": [
    "def eval_model_gs(gs, X_train, X_test, y_train, y_test):\n",
    "    \"\"\"function to get the model results when using GridSearchCV\"\"\"\n",
    "#     y_train_preds = gs.predict(X_train)\n",
    "#     rmse_train = mean_squared_error(y_train, y_train_preds, squared=False)\n",
    "    y_test_preds = gs.predict(X_test)\n",
    "#     rmse_test = mean_squared_error(y_test, y_test_preds, squared=False)\n",
    "    print(f'Your train score is: {gs.score(X_train, y_train)}')\n",
    "    print(f'Your test score is: {gs.score(X_test, y_test)}')\n",
    "    print(f'Your best test params were: {gs.best_params_}')\n",
    "    print(f'Your test recall/sensitivity score is: {recall_score(y_test, y_test_preds)}')\n",
    "    print(f'Your confusion matrix is: {confusion_matrix(y_test, y_test_preds, normalize = \"true\")}')\n",
    "#     print(f'Your train RMSE is: {rmse_train}')\n",
    "#     print(f'Your test RMSE is: {rmse_test}')"
   ]
  },
  {
   "cell_type": "code",
   "execution_count": 5,
   "metadata": {},
   "outputs": [],
   "source": [
    "def get_coefs_gs(gs, vectorizer):\n",
    "    \"\"\"function to get the coefficients when using GridSearchCV\"\"\"\n",
    "    coefs = gs.best_estimator_.named_steps['multinomialnb'].coef_\n",
    "    flattened_coefs = [val for sublist in coefs for val in sublist]\n",
    "    feats = gs.best_estimator_.named_steps[vectorizer].get_feature_names()\n",
    "    gs_coef_df = pd.DataFrame({'coefs': flattened_coefs, 'names': feats})\n",
    "    return gs_coef_df"
   ]
  },
  {
   "cell_type": "markdown",
   "metadata": {},
   "source": [
    "Step 2: Read in the combined dataset I saved in Notebook 2"
   ]
  },
  {
   "cell_type": "code",
   "execution_count": 6,
   "metadata": {},
   "outputs": [],
   "source": [
    "all_titles = pd.read_csv('./data/combined_data_with_selftext.csv', index_col=0)"
   ]
  },
  {
   "cell_type": "code",
   "execution_count": 7,
   "metadata": {},
   "outputs": [
    {
     "data": {
      "text/html": [
       "<div>\n",
       "<style scoped>\n",
       "    .dataframe tbody tr th:only-of-type {\n",
       "        vertical-align: middle;\n",
       "    }\n",
       "\n",
       "    .dataframe tbody tr th {\n",
       "        vertical-align: top;\n",
       "    }\n",
       "\n",
       "    .dataframe thead th {\n",
       "        text-align: right;\n",
       "    }\n",
       "</style>\n",
       "<table border=\"1\" class=\"dataframe\">\n",
       "  <thead>\n",
       "    <tr style=\"text-align: right;\">\n",
       "      <th></th>\n",
       "      <th>subreddit</th>\n",
       "      <th>selftext</th>\n",
       "      <th>title</th>\n",
       "    </tr>\n",
       "  </thead>\n",
       "  <tbody>\n",
       "    <tr>\n",
       "      <th>0</th>\n",
       "      <td>gameofthrones</td>\n",
       "      <td>NaN</td>\n",
       "      <td>Some genius explains how the Trump riots is ‘G...</td>\n",
       "    </tr>\n",
       "    <tr>\n",
       "      <th>1</th>\n",
       "      <td>gameofthrones</td>\n",
       "      <td>NaN</td>\n",
       "      <td>Jagjeet Sandhu Age, Career, Personal Life- Bio...</td>\n",
       "    </tr>\n",
       "    <tr>\n",
       "      <th>2</th>\n",
       "      <td>gameofthrones</td>\n",
       "      <td>NaN</td>\n",
       "      <td>Kaagaz: plot, cast, review. Kaagaz is a 2021 I...</td>\n",
       "    </tr>\n",
       "    <tr>\n",
       "      <th>3</th>\n",
       "      <td>gameofthrones</td>\n",
       "      <td>NaN</td>\n",
       "      <td>Urvi Singh Age, Career, Personal Life- Biograp...</td>\n",
       "    </tr>\n",
       "    <tr>\n",
       "      <th>4</th>\n",
       "      <td>gameofthrones</td>\n",
       "      <td>NaN</td>\n",
       "      <td>Abhishek Banerjee: Wiki, age, birthday &amp;amp; f...</td>\n",
       "    </tr>\n",
       "    <tr>\n",
       "      <th>...</th>\n",
       "      <td>...</td>\n",
       "      <td>...</td>\n",
       "      <td>...</td>\n",
       "    </tr>\n",
       "    <tr>\n",
       "      <th>10195</th>\n",
       "      <td>lotr</td>\n",
       "      <td>I read the lotr for the first time a few month...</td>\n",
       "      <td>lotr is calling me back</td>\n",
       "    </tr>\n",
       "    <tr>\n",
       "      <th>10196</th>\n",
       "      <td>lotr</td>\n",
       "      <td>NaN</td>\n",
       "      <td>Fly, you fools!</td>\n",
       "    </tr>\n",
       "    <tr>\n",
       "      <th>10197</th>\n",
       "      <td>lotr</td>\n",
       "      <td>NaN</td>\n",
       "      <td>Cool fire pit</td>\n",
       "    </tr>\n",
       "    <tr>\n",
       "      <th>10198</th>\n",
       "      <td>lotr</td>\n",
       "      <td>NaN</td>\n",
       "      <td>Who remembers when LOTR first premiered?</td>\n",
       "    </tr>\n",
       "    <tr>\n",
       "      <th>10199</th>\n",
       "      <td>lotr</td>\n",
       "      <td>NaN</td>\n",
       "      <td>Lotr inspired pumpkin I carved for Halloween.</td>\n",
       "    </tr>\n",
       "  </tbody>\n",
       "</table>\n",
       "<p>10200 rows × 3 columns</p>\n",
       "</div>"
      ],
      "text/plain": [
       "           subreddit                                           selftext  \\\n",
       "0      gameofthrones                                                NaN   \n",
       "1      gameofthrones                                                NaN   \n",
       "2      gameofthrones                                                NaN   \n",
       "3      gameofthrones                                                NaN   \n",
       "4      gameofthrones                                                NaN   \n",
       "...              ...                                                ...   \n",
       "10195           lotr  I read the lotr for the first time a few month...   \n",
       "10196           lotr                                                NaN   \n",
       "10197           lotr                                                NaN   \n",
       "10198           lotr                                                NaN   \n",
       "10199           lotr                                                NaN   \n",
       "\n",
       "                                                   title  \n",
       "0      Some genius explains how the Trump riots is ‘G...  \n",
       "1      Jagjeet Sandhu Age, Career, Personal Life- Bio...  \n",
       "2      Kaagaz: plot, cast, review. Kaagaz is a 2021 I...  \n",
       "3      Urvi Singh Age, Career, Personal Life- Biograp...  \n",
       "4      Abhishek Banerjee: Wiki, age, birthday &amp; f...  \n",
       "...                                                  ...  \n",
       "10195                            lotr is calling me back  \n",
       "10196                                    Fly, you fools!  \n",
       "10197                                      Cool fire pit  \n",
       "10198           Who remembers when LOTR first premiered?  \n",
       "10199      Lotr inspired pumpkin I carved for Halloween.  \n",
       "\n",
       "[10200 rows x 3 columns]"
      ]
     },
     "execution_count": 7,
     "metadata": {},
     "output_type": "execute_result"
    }
   ],
   "source": [
    "all_titles"
   ]
  },
  {
   "cell_type": "markdown",
   "metadata": {},
   "source": [
    "Now I will drop the 'selftext' column so we can just model using the submission titles."
   ]
  },
  {
   "cell_type": "code",
   "execution_count": 8,
   "metadata": {},
   "outputs": [],
   "source": [
    "data = all_titles.drop('selftext', axis=1)"
   ]
  },
  {
   "cell_type": "markdown",
   "metadata": {},
   "source": [
    "To begin my modelling with Naive Bayes, my plan of attack is to first run a null model for comparison, then run a first-pass simple model using CountVectorizer with stop words (since we learned that would probably be helpful in Notebook 2), Standard Scaler, and Naive Bayes. After those first two steps, I will add complexity and use GridSearch to optimize hyperparameters."
   ]
  },
  {
   "cell_type": "markdown",
   "metadata": {},
   "source": [
    "Additionally, I'm using accuracy score, recall/sensitivity score, and the confusion matrix to evaluate my models. The accuracy score will be assessed on both the train and test sets, and I'll be keeping an eye out for overfitting (when train score is much higher than test score). The Recall/Sensitivity score will give me an estimate of which model optimizes the True Positive Rate best (how well I'm doing at getting the best True Positive Predictions and minimizing the False Negative Predictions). I'm also going to be looking at the lower left value of a confusion matrix after each model, as that will give me the False Negative value, which I want to be as low as possible. I would rather my friend let in some Lord of the Rings posts rather than filter out some legit Game of Thrones posts, so I'm looking to reduce the False Negative score as much as positive (remember that LOTR is 0, so getting that prediction wrong would be a false negative)."
   ]
  },
  {
   "cell_type": "markdown",
   "metadata": {},
   "source": [
    "First Step: Set up my X and Y and split into train and test sets"
   ]
  },
  {
   "cell_type": "code",
   "execution_count": 9,
   "metadata": {},
   "outputs": [],
   "source": [
    "X = all_titles['title']\n",
    "y = all_titles['subreddit'].map({'gameofthrones': 1, 'lotr': 0})"
   ]
  },
  {
   "cell_type": "code",
   "execution_count": 10,
   "metadata": {},
   "outputs": [
    {
     "data": {
      "text/plain": [
       "1"
      ]
     },
     "execution_count": 10,
     "metadata": {},
     "output_type": "execute_result"
    }
   ],
   "source": [
    "y[0]"
   ]
  },
  {
   "cell_type": "code",
   "execution_count": 11,
   "metadata": {},
   "outputs": [],
   "source": [
    "X_train, X_test, y_train, y_test = train_test_split(X, y)"
   ]
  },
  {
   "cell_type": "code",
   "execution_count": 12,
   "metadata": {},
   "outputs": [
    {
     "data": {
      "text/plain": [
       "(7650,)"
      ]
     },
     "execution_count": 12,
     "metadata": {},
     "output_type": "execute_result"
    }
   ],
   "source": [
    "X_train.shape"
   ]
  },
  {
   "cell_type": "code",
   "execution_count": 13,
   "metadata": {},
   "outputs": [
    {
     "data": {
      "text/plain": [
       "(7650,)"
      ]
     },
     "execution_count": 13,
     "metadata": {},
     "output_type": "execute_result"
    }
   ],
   "source": [
    "y_train.shape"
   ]
  },
  {
   "cell_type": "markdown",
   "metadata": {},
   "source": [
    "Second Step: Make a null model using DummyClassifier"
   ]
  },
  {
   "cell_type": "code",
   "execution_count": 14,
   "metadata": {},
   "outputs": [],
   "source": [
    "dc = DummyClassifier(strategy='most_frequent')"
   ]
  },
  {
   "cell_type": "code",
   "execution_count": 15,
   "metadata": {},
   "outputs": [
    {
     "data": {
      "text/plain": [
       "array([1, 1, 1, ..., 1, 1, 1])"
      ]
     },
     "execution_count": 15,
     "metadata": {},
     "output_type": "execute_result"
    }
   ],
   "source": [
    "dc.fit(X_train, y_train)\n",
    "y_dummy_preds = dc.predict(X_test)\n",
    "y_dummy_preds"
   ]
  },
  {
   "cell_type": "code",
   "execution_count": 16,
   "metadata": {},
   "outputs": [],
   "source": [
    "#My dummy predictions are ready for when we run our first simple model"
   ]
  },
  {
   "cell_type": "markdown",
   "metadata": {},
   "source": [
    "Third Step: Run a first-pass simple model and evaluate initial scores"
   ]
  },
  {
   "cell_type": "code",
   "execution_count": 17,
   "metadata": {},
   "outputs": [],
   "source": [
    "pipe1 = make_pipeline(CountVectorizer(stop_words='english'), StandardScaler(with_mean=False), MultinomialNB())"
   ]
  },
  {
   "cell_type": "code",
   "execution_count": 18,
   "metadata": {},
   "outputs": [
    {
     "data": {
      "text/plain": [
       "Pipeline(steps=[('countvectorizer', CountVectorizer(stop_words='english')),\n",
       "                ('standardscaler', StandardScaler(with_mean=False)),\n",
       "                ('multinomialnb', MultinomialNB())])"
      ]
     },
     "execution_count": 18,
     "metadata": {},
     "output_type": "execute_result"
    }
   ],
   "source": [
    "pipe1.fit(X_train, y_train)"
   ]
  },
  {
   "cell_type": "code",
   "execution_count": 19,
   "metadata": {},
   "outputs": [
    {
     "name": "stdout",
     "output_type": "stream",
     "text": [
      "Your train score is: [0.88235294 0.85686275 0.86078431 0.87320261 0.84836601]\n",
      "Your mean train score is: 0.864313725490196\n",
      "Your test score is: [0.84117647 0.85882353 0.86666667 0.84313725 0.83921569]\n",
      "Your mean test score is: 0.8498039215686275\n",
      "Your test recall/sensitivity score is: 0.8592\n",
      "Your confusion matrix is: [[0.87   0.13  ]\n",
      " [0.1408 0.8592]]\n"
     ]
    }
   ],
   "source": [
    "eval_model(pipe1, X_train, X_test, y_train, y_test)"
   ]
  },
  {
   "cell_type": "code",
   "execution_count": 20,
   "metadata": {},
   "outputs": [
    {
     "data": {
      "text/plain": [
       "0.48745098039215684"
      ]
     },
     "execution_count": 20,
     "metadata": {},
     "output_type": "execute_result"
    }
   ],
   "source": [
    "pipe1.score(X_test, y_dummy_preds)"
   ]
  },
  {
   "cell_type": "markdown",
   "metadata": {},
   "source": [
    "Initial model assessment: scores are starting out pretty high. It looks like I might have some overfitting going on because my train score is a little higher than my test score, but overall I think I'm seeing some initial success. Also, I would expect my null model to be around 50% accuracy, since I have an equal number of titles from both classes. So a dummy score of ~50% makes sense."
   ]
  },
  {
   "cell_type": "markdown",
   "metadata": {},
   "source": [
    "Now I will move onto my Step Three: Making a GridSearchCV to test more CountVectorizer parameters and experiment with alpha values in the Naive Bayes algorithm. "
   ]
  },
  {
   "cell_type": "code",
   "execution_count": 21,
   "metadata": {},
   "outputs": [],
   "source": [
    "pipe2 = make_pipeline(CountVectorizer(), StandardScaler(with_mean=False), MultinomialNB())\n",
    "params2 = {'countvectorizer__stop_words': [None, 'english'],\n",
    "          'countvectorizer__max_features': [None, 250, 500],\n",
    "          'countvectorizer__ngram_range': [(1,1),(1,3)],\n",
    "          'multinomialnb__alpha': [0, 0.00001, 0.5, 1.0]}"
   ]
  },
  {
   "cell_type": "code",
   "execution_count": 22,
   "metadata": {},
   "outputs": [],
   "source": [
    "gs2 = GridSearchCV(pipe2, param_grid=params2, n_jobs=-1)"
   ]
  },
  {
   "cell_type": "code",
   "execution_count": 23,
   "metadata": {},
   "outputs": [
    {
     "data": {
      "text/plain": [
       "GridSearchCV(estimator=Pipeline(steps=[('countvectorizer', CountVectorizer()),\n",
       "                                       ('standardscaler',\n",
       "                                        StandardScaler(with_mean=False)),\n",
       "                                       ('multinomialnb', MultinomialNB())]),\n",
       "             n_jobs=-1,\n",
       "             param_grid={'countvectorizer__max_features': [None, 250, 500],\n",
       "                         'countvectorizer__ngram_range': [(1, 1), (1, 3)],\n",
       "                         'countvectorizer__stop_words': [None, 'english'],\n",
       "                         'multinomialnb__alpha': [0, 1e-05, 0.5, 1.0]})"
      ]
     },
     "execution_count": 23,
     "metadata": {},
     "output_type": "execute_result"
    }
   ],
   "source": [
    "gs2.fit(X_train, y_train)"
   ]
  },
  {
   "cell_type": "code",
   "execution_count": 24,
   "metadata": {},
   "outputs": [
    {
     "name": "stdout",
     "output_type": "stream",
     "text": [
      "Your train score is: 0.9959477124183006\n",
      "Your test score is: 0.903921568627451\n",
      "Your best test params were: {'countvectorizer__max_features': None, 'countvectorizer__ngram_range': (1, 3), 'countvectorizer__stop_words': None, 'multinomialnb__alpha': 1.0}\n",
      "Your test recall/sensitivity score is: 0.9112\n",
      "Your confusion matrix is: [[0.89692308 0.10307692]\n",
      " [0.0888     0.9112    ]]\n"
     ]
    }
   ],
   "source": [
    "eval_model_gs(gs2, X_train, X_test, y_train, y_test)"
   ]
  },
  {
   "cell_type": "markdown",
   "metadata": {},
   "source": [
    "Wow, pretty good recall score and very low false negative score of .088."
   ]
  },
  {
   "cell_type": "code",
   "execution_count": 25,
   "metadata": {},
   "outputs": [
    {
     "data": {
      "text/html": [
       "<div>\n",
       "<style scoped>\n",
       "    .dataframe tbody tr th:only-of-type {\n",
       "        vertical-align: middle;\n",
       "    }\n",
       "\n",
       "    .dataframe tbody tr th {\n",
       "        vertical-align: top;\n",
       "    }\n",
       "\n",
       "    .dataframe thead th {\n",
       "        text-align: right;\n",
       "    }\n",
       "</style>\n",
       "<table border=\"1\" class=\"dataframe\">\n",
       "  <thead>\n",
       "    <tr style=\"text-align: right;\">\n",
       "      <th></th>\n",
       "      <th>coefs</th>\n",
       "      <th>names</th>\n",
       "    </tr>\n",
       "  </thead>\n",
       "  <tbody>\n",
       "    <tr>\n",
       "      <th>0</th>\n",
       "      <td>-12.014657</td>\n",
       "      <td>00</td>\n",
       "    </tr>\n",
       "    <tr>\n",
       "      <th>1</th>\n",
       "      <td>-15.542960</td>\n",
       "      <td>00 00</td>\n",
       "    </tr>\n",
       "    <tr>\n",
       "      <th>2</th>\n",
       "      <td>-15.542960</td>\n",
       "      <td>00 00 you</td>\n",
       "    </tr>\n",
       "    <tr>\n",
       "      <th>3</th>\n",
       "      <td>-15.542960</td>\n",
       "      <td>00 cad</td>\n",
       "    </tr>\n",
       "    <tr>\n",
       "      <th>4</th>\n",
       "      <td>-15.542960</td>\n",
       "      <td>00 cad on</td>\n",
       "    </tr>\n",
       "    <tr>\n",
       "      <th>...</th>\n",
       "      <td>...</td>\n",
       "      <td>...</td>\n",
       "    </tr>\n",
       "    <tr>\n",
       "      <th>95673</th>\n",
       "      <td>-11.060297</td>\n",
       "      <td>𝐏𝐂 2gb</td>\n",
       "    </tr>\n",
       "    <tr>\n",
       "      <th>95674</th>\n",
       "      <td>-11.060297</td>\n",
       "      <td>𝐏𝐂 2gb ram</td>\n",
       "    </tr>\n",
       "    <tr>\n",
       "      <th>95675</th>\n",
       "      <td>-11.060297</td>\n",
       "      <td>𝟐𝟎𝟕𝟕</td>\n",
       "    </tr>\n",
       "    <tr>\n",
       "      <th>95676</th>\n",
       "      <td>-11.060297</td>\n",
       "      <td>𝟐𝟎𝟕𝟕 in</td>\n",
       "    </tr>\n",
       "    <tr>\n",
       "      <th>95677</th>\n",
       "      <td>-11.060297</td>\n",
       "      <td>𝟐𝟎𝟕𝟕 in 𝐋𝐨𝐰</td>\n",
       "    </tr>\n",
       "  </tbody>\n",
       "</table>\n",
       "<p>95678 rows × 2 columns</p>\n",
       "</div>"
      ],
      "text/plain": [
       "           coefs        names\n",
       "0     -12.014657           00\n",
       "1     -15.542960        00 00\n",
       "2     -15.542960    00 00 you\n",
       "3     -15.542960       00 cad\n",
       "4     -15.542960    00 cad on\n",
       "...          ...          ...\n",
       "95673 -11.060297       𝐏𝐂 2gb\n",
       "95674 -11.060297   𝐏𝐂 2gb ram\n",
       "95675 -11.060297         𝟐𝟎𝟕𝟕\n",
       "95676 -11.060297      𝟐𝟎𝟕𝟕 in\n",
       "95677 -11.060297  𝟐𝟎𝟕𝟕 in 𝐋𝐨𝐰\n",
       "\n",
       "[95678 rows x 2 columns]"
      ]
     },
     "execution_count": 25,
     "metadata": {},
     "output_type": "execute_result"
    }
   ],
   "source": [
    "gs2_coefs = get_coefs_gs(gs2, 'countvectorizer')\n",
    "gs2_coefs"
   ]
  },
  {
   "cell_type": "code",
   "execution_count": 26,
   "metadata": {},
   "outputs": [
    {
     "data": {
      "text/html": [
       "<div>\n",
       "<style scoped>\n",
       "    .dataframe tbody tr th:only-of-type {\n",
       "        vertical-align: middle;\n",
       "    }\n",
       "\n",
       "    .dataframe tbody tr th {\n",
       "        vertical-align: top;\n",
       "    }\n",
       "\n",
       "    .dataframe thead th {\n",
       "        text-align: right;\n",
       "    }\n",
       "</style>\n",
       "<table border=\"1\" class=\"dataframe\">\n",
       "  <thead>\n",
       "    <tr style=\"text-align: right;\">\n",
       "      <th></th>\n",
       "      <th>coefs</th>\n",
       "      <th>names</th>\n",
       "    </tr>\n",
       "  </thead>\n",
       "  <tbody>\n",
       "    <tr>\n",
       "      <th>70145</th>\n",
       "      <td>-7.499172</td>\n",
       "      <td>spoilers</td>\n",
       "    </tr>\n",
       "    <tr>\n",
       "      <th>74476</th>\n",
       "      <td>-7.630729</td>\n",
       "      <td>the</td>\n",
       "    </tr>\n",
       "    <tr>\n",
       "      <th>52122</th>\n",
       "      <td>-7.773456</td>\n",
       "      <td>no</td>\n",
       "    </tr>\n",
       "    <tr>\n",
       "      <th>4890</th>\n",
       "      <td>-7.787469</td>\n",
       "      <td>and</td>\n",
       "    </tr>\n",
       "    <tr>\n",
       "      <th>52241</th>\n",
       "      <td>-7.798127</td>\n",
       "      <td>no spoilers</td>\n",
       "    </tr>\n",
       "    <tr>\n",
       "      <th>216</th>\n",
       "      <td>-7.855833</td>\n",
       "      <td>14</td>\n",
       "    </tr>\n",
       "    <tr>\n",
       "      <th>38983</th>\n",
       "      <td>-7.885475</td>\n",
       "      <td>is</td>\n",
       "    </tr>\n",
       "    <tr>\n",
       "      <th>11436</th>\n",
       "      <td>-7.890171</td>\n",
       "      <td>bigg</td>\n",
       "    </tr>\n",
       "    <tr>\n",
       "      <th>12500</th>\n",
       "      <td>-7.913962</td>\n",
       "      <td>boss</td>\n",
       "    </tr>\n",
       "    <tr>\n",
       "      <th>11439</th>\n",
       "      <td>-7.914966</td>\n",
       "      <td>bigg boss</td>\n",
       "    </tr>\n",
       "  </tbody>\n",
       "</table>\n",
       "</div>"
      ],
      "text/plain": [
       "          coefs        names\n",
       "70145 -7.499172     spoilers\n",
       "74476 -7.630729          the\n",
       "52122 -7.773456           no\n",
       "4890  -7.787469          and\n",
       "52241 -7.798127  no spoilers\n",
       "216   -7.855833           14\n",
       "38983 -7.885475           is\n",
       "11436 -7.890171         bigg\n",
       "12500 -7.913962         boss\n",
       "11439 -7.914966    bigg boss"
      ]
     },
     "execution_count": 26,
     "metadata": {},
     "output_type": "execute_result"
    }
   ],
   "source": [
    "gs2_coefs.nlargest(10, 'coefs')"
   ]
  },
  {
   "cell_type": "markdown",
   "metadata": {},
   "source": [
    "Well my scores improved, but I'm still a little overfit. There is a delta of ~7-8% between my train set and my test set. My best model did not utilize the stop words parameter, no max feature limits, and an ngram range of (1,3) in the count vectorizer, and the Naive Bayes algorithm preferred the default alpha value of 1.0. This is good to know! I think next model I'd like to run will utilize a Tokenizer. "
   ]
  },
  {
   "cell_type": "markdown",
   "metadata": {},
   "source": [
    "A brief recap on what each of these NLP terms are because I want to make sure I understand what I'm doing. So, a Tokenizer takes in a string and breaks it up according to a pattern, and different tokenizers have their own unique algorthim to identify patterns (for example a sentence tokenizer vs a word tokenizer, each are different patterns). A vectorizer splits the text string up such that each word (or combo of words if using ngrams) is a vector, which can then be used for modelling. The CountVectorizer works differently than a Tfidf Vectorizer, although we can use a tokenizer in both and both vectorizers utilize similar hyperparameters. The CountVector simply vectorizes based on the words, whereas the Tfidf Vectorizer assigns a score based on which words (or ngram group of words) appear less frequently (but importantly) across all of our \"documents\". The words (or combination of words) that appear often in one document vs another get more importance, or predictive power, because they make some documents unique relative to the others. Finally, it is sometimes useful to use a tokenizer inside of a vectorizer, because pre-emptively splitting up words that belong to a pattern can help optimize the vectorizer's separation of the words. Plus, tokenizers can help ensure we are removing useless word items like symbols, or keeping money-related strings together, before passing them into a vectorizer. "
   ]
  },
  {
   "cell_type": "code",
   "execution_count": 27,
   "metadata": {},
   "outputs": [],
   "source": [
    "#write a custom class\n",
    "class LemmaTokenizer:\n",
    "    def __init__(self):\n",
    "        self.lemmatizer = WordNetLemmatizer()\n",
    "    def __call__(self, doc):\n",
    "        return [self.lemmatizer.lemmatize(t) for t in word_tokenize(doc)]"
   ]
  },
  {
   "cell_type": "code",
   "execution_count": 79,
   "metadata": {},
   "outputs": [],
   "source": [
    "pipe2b = make_pipeline(CountVectorizer(tokenizer = LemmaTokenizer()), MultinomialNB())"
   ]
  },
  {
   "cell_type": "code",
   "execution_count": 80,
   "metadata": {},
   "outputs": [
    {
     "data": {
      "text/plain": [
       "Pipeline(steps=[('countvectorizer',\n",
       "                 CountVectorizer(tokenizer=<__main__.LemmaTokenizer object at 0x7f8906c19850>)),\n",
       "                ('multinomialnb', MultinomialNB())])"
      ]
     },
     "execution_count": 80,
     "metadata": {},
     "output_type": "execute_result"
    }
   ],
   "source": [
    "pipe2b.fit(X_train, y_train)"
   ]
  },
  {
   "cell_type": "code",
   "execution_count": 83,
   "metadata": {},
   "outputs": [
    {
     "name": "stdout",
     "output_type": "stream",
     "text": [
      "Your train score is: [0.9124183  0.91568627 0.93398693 0.91895425 0.90784314]\n",
      "Your mean train score is: 0.9177777777777777\n",
      "Your test score is: [0.91372549 0.91764706 0.91568627 0.90980392 0.90588235]\n",
      "Your mean test score is: 0.9125490196078431\n",
      "Your test recall/sensitivity score is: 0.8472\n",
      "Your confusion matrix is: [[0.97461538 0.02538462]\n",
      " [0.1528     0.8472    ]]\n"
     ]
    }
   ],
   "source": [
    "eval_model(pipe2b, X_train, X_test, y_train, y_test)"
   ]
  },
  {
   "cell_type": "markdown",
   "metadata": {},
   "source": [
    "It appears that although my overall scores are lower, I have reduced the overfitting problem quite a bit, so that is good. A ~92% test score is pretty decent, I would say."
   ]
  },
  {
   "cell_type": "code",
   "execution_count": 32,
   "metadata": {},
   "outputs": [],
   "source": [
    "pipe3 = make_pipeline(CountVectorizer(tokenizer = LemmaTokenizer()), StandardScaler(with_mean=False), MultinomialNB())"
   ]
  },
  {
   "cell_type": "code",
   "execution_count": 33,
   "metadata": {},
   "outputs": [
    {
     "data": {
      "text/plain": [
       "Pipeline(steps=[('countvectorizer',\n",
       "                 CountVectorizer(tokenizer=<__main__.LemmaTokenizer object at 0x7f891ffdd1f0>)),\n",
       "                ('standardscaler', StandardScaler(with_mean=False)),\n",
       "                ('multinomialnb', MultinomialNB())])"
      ]
     },
     "execution_count": 33,
     "metadata": {},
     "output_type": "execute_result"
    }
   ],
   "source": [
    "pipe3.fit(X_train, y_train)"
   ]
  },
  {
   "cell_type": "code",
   "execution_count": 53,
   "metadata": {},
   "outputs": [
    {
     "name": "stdout",
     "output_type": "stream",
     "text": [
      "Your train score is: [0.89215686 0.86470588 0.87908497 0.87843137 0.86666667]\n",
      "Your mean train score is: 0.8762091503267975\n",
      "Your test score is: [0.84901961 0.85294118 0.85490196 0.82941176 0.84313725]\n",
      "Your mean test score is: 0.8458823529411765\n",
      "Your test recall/sensitivity score is: 0.852\n",
      "Your confusion matrix is: [[0.90769231 0.09230769]\n",
      " [0.148      0.852     ]]\n"
     ]
    }
   ],
   "source": [
    "eval_model(pipe3, X_train, X_test, y_train, y_test)"
   ]
  },
  {
   "cell_type": "markdown",
   "metadata": {},
   "source": [
    "Interesting observation: I just noticed that if I add in StandardScaler, my results become overfit again. Interesting..."
   ]
  },
  {
   "cell_type": "markdown",
   "metadata": {},
   "source": [
    "Now I would like to try a similar pipeline using Tfidf."
   ]
  },
  {
   "cell_type": "code",
   "execution_count": 36,
   "metadata": {},
   "outputs": [],
   "source": [
    "pipe4 = make_pipeline(TfidfVectorizer(tokenizer = LemmaTokenizer()), MultinomialNB())"
   ]
  },
  {
   "cell_type": "code",
   "execution_count": 37,
   "metadata": {},
   "outputs": [],
   "source": [
    "params_4= {'tfidfvectorizer__stop_words': [None, 'english'],\n",
    "         'tfidfvectorizer__max_features': [None, 500, 1000],\n",
    "         'multinomialnb__alpha': [0, 0.00001, 0.5, 1.0]}"
   ]
  },
  {
   "cell_type": "code",
   "execution_count": 38,
   "metadata": {},
   "outputs": [],
   "source": [
    "gs4 = GridSearchCV(pipe4, param_grid=params_4, n_jobs=-1)"
   ]
  },
  {
   "cell_type": "code",
   "execution_count": 39,
   "metadata": {},
   "outputs": [
    {
     "data": {
      "text/plain": [
       "GridSearchCV(estimator=Pipeline(steps=[('tfidfvectorizer',\n",
       "                                        TfidfVectorizer(tokenizer=<__main__.LemmaTokenizer object at 0x7f8919d90550>)),\n",
       "                                       ('multinomialnb', MultinomialNB())]),\n",
       "             n_jobs=-1,\n",
       "             param_grid={'multinomialnb__alpha': [0, 1e-05, 0.5, 1.0],\n",
       "                         'tfidfvectorizer__max_features': [None, 500, 1000],\n",
       "                         'tfidfvectorizer__stop_words': [None, 'english']})"
      ]
     },
     "execution_count": 39,
     "metadata": {},
     "output_type": "execute_result"
    }
   ],
   "source": [
    "gs4.fit(X_train, y_train)"
   ]
  },
  {
   "cell_type": "code",
   "execution_count": 40,
   "metadata": {},
   "outputs": [
    {
     "name": "stdout",
     "output_type": "stream",
     "text": [
      "Your train score is: 0.9626143790849673\n",
      "Your test score is: 0.9243137254901961\n",
      "Your best test params were: {'multinomialnb__alpha': 1.0, 'tfidfvectorizer__max_features': None, 'tfidfvectorizer__stop_words': 'english'}\n",
      "Your test recall/sensitivity score is: 0.8928\n",
      "Your confusion matrix is: [[0.95461538 0.04538462]\n",
      " [0.1072     0.8928    ]]\n"
     ]
    }
   ],
   "source": [
    "eval_model_gs(gs4, X_train, X_test, y_train, y_test)"
   ]
  },
  {
   "cell_type": "markdown",
   "metadata": {},
   "source": [
    "Okay, this is interesting. I still have a bit of overfitting with this model, and the TfidfVectorizer wanted to utilize the stop words parameter. "
   ]
  },
  {
   "cell_type": "code",
   "execution_count": 41,
   "metadata": {},
   "outputs": [
    {
     "data": {
      "text/html": [
       "<div>\n",
       "<style scoped>\n",
       "    .dataframe tbody tr th:only-of-type {\n",
       "        vertical-align: middle;\n",
       "    }\n",
       "\n",
       "    .dataframe tbody tr th {\n",
       "        vertical-align: top;\n",
       "    }\n",
       "\n",
       "    .dataframe thead th {\n",
       "        text-align: right;\n",
       "    }\n",
       "</style>\n",
       "<table border=\"1\" class=\"dataframe\">\n",
       "  <thead>\n",
       "    <tr style=\"text-align: right;\">\n",
       "      <th></th>\n",
       "      <th>coefs</th>\n",
       "      <th>names</th>\n",
       "    </tr>\n",
       "  </thead>\n",
       "  <tbody>\n",
       "    <tr>\n",
       "      <th>0</th>\n",
       "      <td>-5.810685</td>\n",
       "      <td>!</td>\n",
       "    </tr>\n",
       "    <tr>\n",
       "      <th>1</th>\n",
       "      <td>-8.173463</td>\n",
       "      <td>#</td>\n",
       "    </tr>\n",
       "    <tr>\n",
       "      <th>2</th>\n",
       "      <td>-8.706905</td>\n",
       "      <td>$</td>\n",
       "    </tr>\n",
       "    <tr>\n",
       "      <th>3</th>\n",
       "      <td>-8.988022</td>\n",
       "      <td>%</td>\n",
       "    </tr>\n",
       "    <tr>\n",
       "      <th>4</th>\n",
       "      <td>-6.674939</td>\n",
       "      <td>&amp;</td>\n",
       "    </tr>\n",
       "    <tr>\n",
       "      <th>...</th>\n",
       "      <td>...</td>\n",
       "      <td>...</td>\n",
       "    </tr>\n",
       "    <tr>\n",
       "      <th>9149</th>\n",
       "      <td>-9.977482</td>\n",
       "      <td>🧙🏻‍♂️🧝🏼‍♂️🧙🏻‍♀️🧝🏻‍♀️</td>\n",
       "    </tr>\n",
       "    <tr>\n",
       "      <th>9150</th>\n",
       "      <td>-9.977482</td>\n",
       "      <td>🧝‍♀️</td>\n",
       "    </tr>\n",
       "    <tr>\n",
       "      <th>9151</th>\n",
       "      <td>-9.977482</td>\n",
       "      <td>🧝‍♂️</td>\n",
       "    </tr>\n",
       "    <tr>\n",
       "      <th>9152</th>\n",
       "      <td>-9.977482</td>\n",
       "      <td>🧝🏻‍♂️</td>\n",
       "    </tr>\n",
       "    <tr>\n",
       "      <th>9153</th>\n",
       "      <td>-9.977482</td>\n",
       "      <td>🧭</td>\n",
       "    </tr>\n",
       "  </tbody>\n",
       "</table>\n",
       "<p>9154 rows × 2 columns</p>\n",
       "</div>"
      ],
      "text/plain": [
       "         coefs                 names\n",
       "0    -5.810685                     !\n",
       "1    -8.173463                     #\n",
       "2    -8.706905                     $\n",
       "3    -8.988022                     %\n",
       "4    -6.674939                     &\n",
       "...        ...                   ...\n",
       "9149 -9.977482  🧙🏻‍♂️🧝🏼‍♂️🧙🏻‍♀️🧝🏻‍♀️\n",
       "9150 -9.977482                  🧝‍♀️\n",
       "9151 -9.977482                  🧝‍♂️\n",
       "9152 -9.977482                 🧝🏻‍♂️\n",
       "9153 -9.977482                     🧭\n",
       "\n",
       "[9154 rows x 2 columns]"
      ]
     },
     "execution_count": 41,
     "metadata": {},
     "output_type": "execute_result"
    }
   ],
   "source": [
    "gs4_coefs = get_coefs_gs(gs4, 'tfidfvectorizer')\n",
    "gs4_coefs"
   ]
  },
  {
   "cell_type": "code",
   "execution_count": 42,
   "metadata": {},
   "outputs": [
    {
     "data": {
      "text/html": [
       "<div>\n",
       "<style scoped>\n",
       "    .dataframe tbody tr th:only-of-type {\n",
       "        vertical-align: middle;\n",
       "    }\n",
       "\n",
       "    .dataframe tbody tr th {\n",
       "        vertical-align: top;\n",
       "    }\n",
       "\n",
       "    .dataframe thead th {\n",
       "        text-align: right;\n",
       "    }\n",
       "</style>\n",
       "<table border=\"1\" class=\"dataframe\">\n",
       "  <thead>\n",
       "    <tr style=\"text-align: right;\">\n",
       "      <th></th>\n",
       "      <th>coefs</th>\n",
       "      <th>names</th>\n",
       "    </tr>\n",
       "  </thead>\n",
       "  <tbody>\n",
       "    <tr>\n",
       "      <th>30</th>\n",
       "      <td>-9.627042</td>\n",
       "      <td>'jealous</td>\n",
       "    </tr>\n",
       "    <tr>\n",
       "      <th>31</th>\n",
       "      <td>-9.622338</td>\n",
       "      <td>'kaleshi</td>\n",
       "    </tr>\n",
       "    <tr>\n",
       "      <th>32</th>\n",
       "      <td>-9.565730</td>\n",
       "      <td>'light</td>\n",
       "    </tr>\n",
       "    <tr>\n",
       "      <th>33</th>\n",
       "      <td>-8.995924</td>\n",
       "      <td>'ll</td>\n",
       "    </tr>\n",
       "    <tr>\n",
       "      <th>34</th>\n",
       "      <td>-9.977482</td>\n",
       "      <td>'lord</td>\n",
       "    </tr>\n",
       "    <tr>\n",
       "      <th>35</th>\n",
       "      <td>-8.238271</td>\n",
       "      <td>'m</td>\n",
       "    </tr>\n",
       "    <tr>\n",
       "      <th>36</th>\n",
       "      <td>-9.033606</td>\n",
       "      <td>'main</td>\n",
       "    </tr>\n",
       "    <tr>\n",
       "      <th>37</th>\n",
       "      <td>-9.781624</td>\n",
       "      <td>'mera</td>\n",
       "    </tr>\n",
       "    <tr>\n",
       "      <th>38</th>\n",
       "      <td>-9.977482</td>\n",
       "      <td>'mountains</td>\n",
       "    </tr>\n",
       "    <tr>\n",
       "      <th>39</th>\n",
       "      <td>-9.977482</td>\n",
       "      <td>'only</td>\n",
       "    </tr>\n",
       "    <tr>\n",
       "      <th>40</th>\n",
       "      <td>-9.726469</td>\n",
       "      <td>'pavitra</td>\n",
       "    </tr>\n",
       "    <tr>\n",
       "      <th>41</th>\n",
       "      <td>-9.977482</td>\n",
       "      <td>'potential</td>\n",
       "    </tr>\n",
       "    <tr>\n",
       "      <th>42</th>\n",
       "      <td>-9.605365</td>\n",
       "      <td>'re</td>\n",
       "    </tr>\n",
       "    <tr>\n",
       "      <th>43</th>\n",
       "      <td>-9.507144</td>\n",
       "      <td>'red</td>\n",
       "    </tr>\n",
       "    <tr>\n",
       "      <th>44</th>\n",
       "      <td>-6.091130</td>\n",
       "      <td>'s</td>\n",
       "    </tr>\n",
       "    <tr>\n",
       "      <th>45</th>\n",
       "      <td>-9.430508</td>\n",
       "      <td>'saand</td>\n",
       "    </tr>\n",
       "    <tr>\n",
       "      <th>46</th>\n",
       "      <td>-9.478782</td>\n",
       "      <td>'sarpanch</td>\n",
       "    </tr>\n",
       "    <tr>\n",
       "      <th>47</th>\n",
       "      <td>-9.977482</td>\n",
       "      <td>'shire</td>\n",
       "    </tr>\n",
       "    <tr>\n",
       "      <th>48</th>\n",
       "      <td>-9.476598</td>\n",
       "      <td>'tharki'nikki</td>\n",
       "    </tr>\n",
       "    <tr>\n",
       "      <th>49</th>\n",
       "      <td>-9.643358</td>\n",
       "      <td>'the</td>\n",
       "    </tr>\n",
       "  </tbody>\n",
       "</table>\n",
       "</div>"
      ],
      "text/plain": [
       "       coefs          names\n",
       "30 -9.627042       'jealous\n",
       "31 -9.622338       'kaleshi\n",
       "32 -9.565730         'light\n",
       "33 -8.995924            'll\n",
       "34 -9.977482          'lord\n",
       "35 -8.238271             'm\n",
       "36 -9.033606          'main\n",
       "37 -9.781624          'mera\n",
       "38 -9.977482     'mountains\n",
       "39 -9.977482          'only\n",
       "40 -9.726469       'pavitra\n",
       "41 -9.977482     'potential\n",
       "42 -9.605365            're\n",
       "43 -9.507144           'red\n",
       "44 -6.091130             's\n",
       "45 -9.430508         'saand\n",
       "46 -9.478782      'sarpanch\n",
       "47 -9.977482         'shire\n",
       "48 -9.476598  'tharki'nikki\n",
       "49 -9.643358           'the"
      ]
     },
     "execution_count": 42,
     "metadata": {},
     "output_type": "execute_result"
    }
   ],
   "source": [
    "gs4_coefs.iloc[30:50,]"
   ]
  },
  {
   "cell_type": "code",
   "execution_count": 43,
   "metadata": {},
   "outputs": [
    {
     "data": {
      "text/plain": [
       "'🧭'"
      ]
     },
     "execution_count": 43,
     "metadata": {},
     "output_type": "execute_result"
    }
   ],
   "source": [
    "gs4_coefs.iloc[-1,-1]"
   ]
  },
  {
   "cell_type": "code",
   "execution_count": 44,
   "metadata": {},
   "outputs": [
    {
     "data": {
      "text/plain": [
       "str"
      ]
     },
     "execution_count": 44,
     "metadata": {},
     "output_type": "execute_result"
    }
   ],
   "source": [
    "type(gs4_coefs.iloc[-1, -1])"
   ]
  },
  {
   "cell_type": "code",
   "execution_count": 45,
   "metadata": {},
   "outputs": [
    {
     "data": {
      "text/html": [
       "<div>\n",
       "<style scoped>\n",
       "    .dataframe tbody tr th:only-of-type {\n",
       "        vertical-align: middle;\n",
       "    }\n",
       "\n",
       "    .dataframe tbody tr th {\n",
       "        vertical-align: top;\n",
       "    }\n",
       "\n",
       "    .dataframe thead th {\n",
       "        text-align: right;\n",
       "    }\n",
       "</style>\n",
       "<table border=\"1\" class=\"dataframe\">\n",
       "  <thead>\n",
       "    <tr style=\"text-align: right;\">\n",
       "      <th></th>\n",
       "      <th>coefs</th>\n",
       "      <th>names</th>\n",
       "    </tr>\n",
       "  </thead>\n",
       "  <tbody>\n",
       "    <tr>\n",
       "      <th>6538</th>\n",
       "      <td>-4.480256</td>\n",
       "      <td>spoiler</td>\n",
       "    </tr>\n",
       "    <tr>\n",
       "      <th>403</th>\n",
       "      <td>-4.560347</td>\n",
       "      <td>]</td>\n",
       "    </tr>\n",
       "    <tr>\n",
       "      <th>401</th>\n",
       "      <td>-4.561278</td>\n",
       "      <td>[</td>\n",
       "    </tr>\n",
       "    <tr>\n",
       "      <th>67</th>\n",
       "      <td>-4.765667</td>\n",
       "      <td>,</td>\n",
       "    </tr>\n",
       "    <tr>\n",
       "      <th>395</th>\n",
       "      <td>-4.890906</td>\n",
       "      <td>:</td>\n",
       "    </tr>\n",
       "    <tr>\n",
       "      <th>79</th>\n",
       "      <td>-4.938346</td>\n",
       "      <td>...</td>\n",
       "    </tr>\n",
       "    <tr>\n",
       "      <th>77</th>\n",
       "      <td>-5.154512</td>\n",
       "      <td>.</td>\n",
       "    </tr>\n",
       "    <tr>\n",
       "      <th>2520</th>\n",
       "      <td>-5.169738</td>\n",
       "      <td>episode</td>\n",
       "    </tr>\n",
       "    <tr>\n",
       "      <th>5858</th>\n",
       "      <td>-5.297313</td>\n",
       "      <td>roadies</td>\n",
       "    </tr>\n",
       "    <tr>\n",
       "      <th>5801</th>\n",
       "      <td>-5.331101</td>\n",
       "      <td>revolution</td>\n",
       "    </tr>\n",
       "  </tbody>\n",
       "</table>\n",
       "</div>"
      ],
      "text/plain": [
       "         coefs       names\n",
       "6538 -4.480256     spoiler\n",
       "403  -4.560347           ]\n",
       "401  -4.561278           [\n",
       "67   -4.765667           ,\n",
       "395  -4.890906           :\n",
       "79   -4.938346         ...\n",
       "77   -5.154512           .\n",
       "2520 -5.169738     episode\n",
       "5858 -5.297313     roadies\n",
       "5801 -5.331101  revolution"
      ]
     },
     "execution_count": 45,
     "metadata": {},
     "output_type": "execute_result"
    }
   ],
   "source": [
    "gs4_coefs.nlargest(10, 'coefs')"
   ]
  },
  {
   "cell_type": "markdown",
   "metadata": {},
   "source": [
    "Alright! I clearly need to get some of these symbols and emojies out of my models! I'm going to try to do that by utilizing max_features for both the CountVectorizer and Tfidf model scenarios. We'll see if that strategy improves my modelling at all."
   ]
  },
  {
   "cell_type": "code",
   "execution_count": 46,
   "metadata": {},
   "outputs": [],
   "source": [
    "pipe5 = make_pipeline(CountVectorizer(tokenizer = LemmaTokenizer(), lowercase=True, stop_words='english', max_features = 1_000), MultinomialNB())"
   ]
  },
  {
   "cell_type": "code",
   "execution_count": 47,
   "metadata": {},
   "outputs": [
    {
     "data": {
      "text/plain": [
       "Pipeline(steps=[('countvectorizer',\n",
       "                 CountVectorizer(max_features=1000, stop_words='english',\n",
       "                                 tokenizer=<__main__.LemmaTokenizer object at 0x7f8920159760>)),\n",
       "                ('multinomialnb', MultinomialNB())])"
      ]
     },
     "execution_count": 47,
     "metadata": {},
     "output_type": "execute_result"
    }
   ],
   "source": [
    "pipe5.fit(X_train, y_train)"
   ]
  },
  {
   "cell_type": "code",
   "execution_count": 54,
   "metadata": {},
   "outputs": [
    {
     "name": "stdout",
     "output_type": "stream",
     "text": [
      "Your train score is: [0.89869281 0.90784314 0.91372549 0.89542484 0.89411765]\n",
      "Your mean train score is: 0.9019607843137255\n",
      "Your test score is: [0.90588235 0.90980392 0.90588235 0.9        0.89803922]\n",
      "Your mean test score is: 0.903921568627451\n",
      "Your test recall/sensitivity score is: 0.8488\n",
      "Your confusion matrix is: [[0.93076923 0.06923077]\n",
      " [0.1512     0.8488    ]]\n"
     ]
    }
   ],
   "source": [
    "eval_model(pipe5, X_train, X_test, y_train, y_test)"
   ]
  },
  {
   "cell_type": "code",
   "execution_count": 50,
   "metadata": {},
   "outputs": [],
   "source": [
    "pipe5_coefs_df = pipe_coefs(pipe5, 'countvectorizer')"
   ]
  },
  {
   "cell_type": "code",
   "execution_count": 51,
   "metadata": {},
   "outputs": [
    {
     "data": {
      "text/html": [
       "<div>\n",
       "<style scoped>\n",
       "    .dataframe tbody tr th:only-of-type {\n",
       "        vertical-align: middle;\n",
       "    }\n",
       "\n",
       "    .dataframe tbody tr th {\n",
       "        vertical-align: top;\n",
       "    }\n",
       "\n",
       "    .dataframe thead th {\n",
       "        text-align: right;\n",
       "    }\n",
       "</style>\n",
       "<table border=\"1\" class=\"dataframe\">\n",
       "  <thead>\n",
       "    <tr style=\"text-align: right;\">\n",
       "      <th></th>\n",
       "      <th>coefs</th>\n",
       "      <th>names</th>\n",
       "    </tr>\n",
       "  </thead>\n",
       "  <tbody>\n",
       "    <tr>\n",
       "      <th>14</th>\n",
       "      <td>-3.030385</td>\n",
       "      <td>,</td>\n",
       "    </tr>\n",
       "    <tr>\n",
       "      <th>18</th>\n",
       "      <td>-3.277778</td>\n",
       "      <td>...</td>\n",
       "    </tr>\n",
       "    <tr>\n",
       "      <th>59</th>\n",
       "      <td>-3.290517</td>\n",
       "      <td>:</td>\n",
       "    </tr>\n",
       "    <tr>\n",
       "      <th>16</th>\n",
       "      <td>-3.579315</td>\n",
       "      <td>.</td>\n",
       "    </tr>\n",
       "    <tr>\n",
       "      <th>751</th>\n",
       "      <td>-3.689315</td>\n",
       "      <td>spoiler</td>\n",
       "    </tr>\n",
       "    <tr>\n",
       "      <th>64</th>\n",
       "      <td>-3.749214</td>\n",
       "      <td>[</td>\n",
       "    </tr>\n",
       "    <tr>\n",
       "      <th>65</th>\n",
       "      <td>-3.750979</td>\n",
       "      <td>]</td>\n",
       "    </tr>\n",
       "    <tr>\n",
       "      <th>144</th>\n",
       "      <td>-4.037484</td>\n",
       "      <td>bigg</td>\n",
       "    </tr>\n",
       "    <tr>\n",
       "      <th>159</th>\n",
       "      <td>-4.086921</td>\n",
       "      <td>bos</td>\n",
       "    </tr>\n",
       "    <tr>\n",
       "      <th>28</th>\n",
       "      <td>-4.114492</td>\n",
       "      <td>14</td>\n",
       "    </tr>\n",
       "  </tbody>\n",
       "</table>\n",
       "</div>"
      ],
      "text/plain": [
       "        coefs    names\n",
       "14  -3.030385        ,\n",
       "18  -3.277778      ...\n",
       "59  -3.290517        :\n",
       "16  -3.579315        .\n",
       "751 -3.689315  spoiler\n",
       "64  -3.749214        [\n",
       "65  -3.750979        ]\n",
       "144 -4.037484     bigg\n",
       "159 -4.086921      bos\n",
       "28  -4.114492       14"
      ]
     },
     "execution_count": 51,
     "metadata": {},
     "output_type": "execute_result"
    }
   ],
   "source": [
    "pipe5_coefs_df.nlargest(10, 'coefs')"
   ]
  },
  {
   "cell_type": "code",
   "execution_count": 55,
   "metadata": {},
   "outputs": [
    {
     "data": {
      "text/html": [
       "<div>\n",
       "<style scoped>\n",
       "    .dataframe tbody tr th:only-of-type {\n",
       "        vertical-align: middle;\n",
       "    }\n",
       "\n",
       "    .dataframe tbody tr th {\n",
       "        vertical-align: top;\n",
       "    }\n",
       "\n",
       "    .dataframe thead th {\n",
       "        text-align: right;\n",
       "    }\n",
       "</style>\n",
       "<table border=\"1\" class=\"dataframe\">\n",
       "  <thead>\n",
       "    <tr style=\"text-align: right;\">\n",
       "      <th></th>\n",
       "      <th>coefs</th>\n",
       "      <th>names</th>\n",
       "    </tr>\n",
       "  </thead>\n",
       "  <tbody>\n",
       "    <tr>\n",
       "      <th>77</th>\n",
       "      <td>-10.78272</td>\n",
       "      <td>added</td>\n",
       "    </tr>\n",
       "    <tr>\n",
       "      <th>95</th>\n",
       "      <td>-10.78272</td>\n",
       "      <td>anniversary</td>\n",
       "    </tr>\n",
       "    <tr>\n",
       "      <th>102</th>\n",
       "      <td>-10.78272</td>\n",
       "      <td>aragorn</td>\n",
       "    </tr>\n",
       "    <tr>\n",
       "      <th>110</th>\n",
       "      <td>-10.78272</td>\n",
       "      <td>arwen</td>\n",
       "    </tr>\n",
       "    <tr>\n",
       "      <th>116</th>\n",
       "      <td>-10.78272</td>\n",
       "      <td>audiobook</td>\n",
       "    </tr>\n",
       "    <tr>\n",
       "      <th>128</th>\n",
       "      <td>-10.78272</td>\n",
       "      <td>balrog</td>\n",
       "    </tr>\n",
       "    <tr>\n",
       "      <th>145</th>\n",
       "      <td>-10.78272</td>\n",
       "      <td>bilbo</td>\n",
       "    </tr>\n",
       "    <tr>\n",
       "      <th>151</th>\n",
       "      <td>-10.78272</td>\n",
       "      <td>blockchain</td>\n",
       "    </tr>\n",
       "    <tr>\n",
       "      <th>152</th>\n",
       "      <td>-10.78272</td>\n",
       "      <td>blu</td>\n",
       "    </tr>\n",
       "    <tr>\n",
       "      <th>154</th>\n",
       "      <td>-10.78272</td>\n",
       "      <td>blue</td>\n",
       "    </tr>\n",
       "  </tbody>\n",
       "</table>\n",
       "</div>"
      ],
      "text/plain": [
       "        coefs        names\n",
       "77  -10.78272        added\n",
       "95  -10.78272  anniversary\n",
       "102 -10.78272      aragorn\n",
       "110 -10.78272        arwen\n",
       "116 -10.78272    audiobook\n",
       "128 -10.78272       balrog\n",
       "145 -10.78272        bilbo\n",
       "151 -10.78272   blockchain\n",
       "152 -10.78272          blu\n",
       "154 -10.78272         blue"
      ]
     },
     "execution_count": 55,
     "metadata": {},
     "output_type": "execute_result"
    }
   ],
   "source": [
    "pipe5_coefs_df.nsmallest(10, 'coefs')"
   ]
  },
  {
   "cell_type": "code",
   "execution_count": 56,
   "metadata": {},
   "outputs": [],
   "source": [
    "pipe6 = make_pipeline(CountVectorizer(tokenizer = LemmaTokenizer(), lowercase=True, stop_words='english', max_features = 500), MultinomialNB())"
   ]
  },
  {
   "cell_type": "code",
   "execution_count": 57,
   "metadata": {},
   "outputs": [
    {
     "data": {
      "text/plain": [
       "Pipeline(steps=[('countvectorizer',\n",
       "                 CountVectorizer(max_features=500, stop_words='english',\n",
       "                                 tokenizer=<__main__.LemmaTokenizer object at 0x7f891a7436d0>)),\n",
       "                ('multinomialnb', MultinomialNB())])"
      ]
     },
     "execution_count": 57,
     "metadata": {},
     "output_type": "execute_result"
    }
   ],
   "source": [
    "pipe6.fit(X_train, y_train)"
   ]
  },
  {
   "cell_type": "code",
   "execution_count": 58,
   "metadata": {},
   "outputs": [
    {
     "name": "stdout",
     "output_type": "stream",
     "text": [
      "Your train score is: [0.88300654 0.89019608 0.89346405 0.87777778 0.87254902]\n",
      "Your mean train score is: 0.8833986928104576\n",
      "Your test score is: [0.89411765 0.90980392 0.90392157 0.89607843 0.90392157]\n",
      "Your mean test score is: 0.9015686274509804\n",
      "Your test recall/sensitivity score is: 0.856\n",
      "Your confusion matrix is: [[0.89846154 0.10153846]\n",
      " [0.144      0.856     ]]\n"
     ]
    }
   ],
   "source": [
    "eval_model(pipe6, X_train, X_test, y_train, y_test)"
   ]
  },
  {
   "cell_type": "code",
   "execution_count": 59,
   "metadata": {},
   "outputs": [],
   "source": [
    "pipe6_coefs_df = pipe_coefs(pipe6, 'countvectorizer')"
   ]
  },
  {
   "cell_type": "code",
   "execution_count": 60,
   "metadata": {},
   "outputs": [
    {
     "data": {
      "text/html": [
       "<div>\n",
       "<style scoped>\n",
       "    .dataframe tbody tr th:only-of-type {\n",
       "        vertical-align: middle;\n",
       "    }\n",
       "\n",
       "    .dataframe tbody tr th {\n",
       "        vertical-align: top;\n",
       "    }\n",
       "\n",
       "    .dataframe thead th {\n",
       "        text-align: right;\n",
       "    }\n",
       "</style>\n",
       "<table border=\"1\" class=\"dataframe\">\n",
       "  <thead>\n",
       "    <tr style=\"text-align: right;\">\n",
       "      <th></th>\n",
       "      <th>coefs</th>\n",
       "      <th>names</th>\n",
       "    </tr>\n",
       "  </thead>\n",
       "  <tbody>\n",
       "    <tr>\n",
       "      <th>11</th>\n",
       "      <td>-2.918316</td>\n",
       "      <td>,</td>\n",
       "    </tr>\n",
       "    <tr>\n",
       "      <th>15</th>\n",
       "      <td>-3.165710</td>\n",
       "      <td>...</td>\n",
       "    </tr>\n",
       "    <tr>\n",
       "      <th>39</th>\n",
       "      <td>-3.178449</td>\n",
       "      <td>:</td>\n",
       "    </tr>\n",
       "    <tr>\n",
       "      <th>13</th>\n",
       "      <td>-3.467246</td>\n",
       "      <td>.</td>\n",
       "    </tr>\n",
       "    <tr>\n",
       "      <th>379</th>\n",
       "      <td>-3.577247</td>\n",
       "      <td>spoiler</td>\n",
       "    </tr>\n",
       "    <tr>\n",
       "      <th>43</th>\n",
       "      <td>-3.637145</td>\n",
       "      <td>[</td>\n",
       "    </tr>\n",
       "    <tr>\n",
       "      <th>44</th>\n",
       "      <td>-3.638910</td>\n",
       "      <td>]</td>\n",
       "    </tr>\n",
       "    <tr>\n",
       "      <th>82</th>\n",
       "      <td>-3.925415</td>\n",
       "      <td>bigg</td>\n",
       "    </tr>\n",
       "    <tr>\n",
       "      <th>91</th>\n",
       "      <td>-3.974853</td>\n",
       "      <td>bos</td>\n",
       "    </tr>\n",
       "    <tr>\n",
       "      <th>20</th>\n",
       "      <td>-4.002423</td>\n",
       "      <td>14</td>\n",
       "    </tr>\n",
       "  </tbody>\n",
       "</table>\n",
       "</div>"
      ],
      "text/plain": [
       "        coefs    names\n",
       "11  -2.918316        ,\n",
       "15  -3.165710      ...\n",
       "39  -3.178449        :\n",
       "13  -3.467246        .\n",
       "379 -3.577247  spoiler\n",
       "43  -3.637145        [\n",
       "44  -3.638910        ]\n",
       "82  -3.925415     bigg\n",
       "91  -3.974853      bos\n",
       "20  -4.002423       14"
      ]
     },
     "execution_count": 60,
     "metadata": {},
     "output_type": "execute_result"
    }
   ],
   "source": [
    "pipe6_coefs_df.nlargest(10, 'coefs')"
   ]
  },
  {
   "cell_type": "code",
   "execution_count": 61,
   "metadata": {},
   "outputs": [
    {
     "data": {
      "text/html": [
       "<div>\n",
       "<style scoped>\n",
       "    .dataframe tbody tr th:only-of-type {\n",
       "        vertical-align: middle;\n",
       "    }\n",
       "\n",
       "    .dataframe tbody tr th {\n",
       "        vertical-align: top;\n",
       "    }\n",
       "\n",
       "    .dataframe thead th {\n",
       "        text-align: right;\n",
       "    }\n",
       "</style>\n",
       "<table border=\"1\" class=\"dataframe\">\n",
       "  <thead>\n",
       "    <tr style=\"text-align: right;\">\n",
       "      <th></th>\n",
       "      <th>coefs</th>\n",
       "      <th>names</th>\n",
       "    </tr>\n",
       "  </thead>\n",
       "  <tbody>\n",
       "    <tr>\n",
       "      <th>61</th>\n",
       "      <td>-10.670652</td>\n",
       "      <td>aragorn</td>\n",
       "    </tr>\n",
       "    <tr>\n",
       "      <th>83</th>\n",
       "      <td>-10.670652</td>\n",
       "      <td>bilbo</td>\n",
       "    </tr>\n",
       "    <tr>\n",
       "      <th>87</th>\n",
       "      <td>-10.670652</td>\n",
       "      <td>blockchain</td>\n",
       "    </tr>\n",
       "    <tr>\n",
       "      <th>154</th>\n",
       "      <td>-10.670652</td>\n",
       "      <td>elf</td>\n",
       "    </tr>\n",
       "    <tr>\n",
       "      <th>156</th>\n",
       "      <td>-10.670652</td>\n",
       "      <td>elvish</td>\n",
       "    </tr>\n",
       "    <tr>\n",
       "      <th>176</th>\n",
       "      <td>-10.670652</td>\n",
       "      <td>fellowship</td>\n",
       "    </tr>\n",
       "    <tr>\n",
       "      <th>184</th>\n",
       "      <td>-10.670652</td>\n",
       "      <td>frodo</td>\n",
       "    </tr>\n",
       "    <tr>\n",
       "      <th>187</th>\n",
       "      <td>-10.670652</td>\n",
       "      <td>galadriel</td>\n",
       "    </tr>\n",
       "    <tr>\n",
       "      <th>189</th>\n",
       "      <td>-10.670652</td>\n",
       "      <td>gandalf</td>\n",
       "    </tr>\n",
       "    <tr>\n",
       "      <th>194</th>\n",
       "      <td>-10.670652</td>\n",
       "      <td>gollum</td>\n",
       "    </tr>\n",
       "  </tbody>\n",
       "</table>\n",
       "</div>"
      ],
      "text/plain": [
       "         coefs       names\n",
       "61  -10.670652     aragorn\n",
       "83  -10.670652       bilbo\n",
       "87  -10.670652  blockchain\n",
       "154 -10.670652         elf\n",
       "156 -10.670652      elvish\n",
       "176 -10.670652  fellowship\n",
       "184 -10.670652       frodo\n",
       "187 -10.670652   galadriel\n",
       "189 -10.670652     gandalf\n",
       "194 -10.670652      gollum"
      ]
     },
     "execution_count": 61,
     "metadata": {},
     "output_type": "execute_result"
    }
   ],
   "source": [
    "pipe6_coefs_df.nsmallest(10, 'coefs')"
   ]
  },
  {
   "cell_type": "code",
   "execution_count": 62,
   "metadata": {},
   "outputs": [],
   "source": [
    "pipe7 = make_pipeline(TfidfVectorizer(tokenizer = LemmaTokenizer(), lowercase=True, stop_words='english', max_features = 1_000), MultinomialNB())"
   ]
  },
  {
   "cell_type": "code",
   "execution_count": 63,
   "metadata": {},
   "outputs": [
    {
     "data": {
      "text/plain": [
       "Pipeline(steps=[('tfidfvectorizer',\n",
       "                 TfidfVectorizer(max_features=1000, stop_words='english',\n",
       "                                 tokenizer=<__main__.LemmaTokenizer object at 0x7f891ed2d730>)),\n",
       "                ('multinomialnb', MultinomialNB())])"
      ]
     },
     "execution_count": 63,
     "metadata": {},
     "output_type": "execute_result"
    }
   ],
   "source": [
    "pipe7.fit(X_train, y_train)"
   ]
  },
  {
   "cell_type": "code",
   "execution_count": 64,
   "metadata": {},
   "outputs": [
    {
     "name": "stdout",
     "output_type": "stream",
     "text": [
      "Your train score is: [0.90849673 0.91503268 0.92156863 0.90718954 0.90522876]\n",
      "Your mean train score is: 0.9115032679738562\n",
      "Your test score is: [0.91960784 0.91960784 0.90980392 0.90588235 0.90196078]\n",
      "Your mean test score is: 0.9113725490196078\n",
      "Your test recall/sensitivity score is: 0.872\n",
      "Your confusion matrix is: [[0.92538462 0.07461538]\n",
      " [0.128      0.872     ]]\n"
     ]
    }
   ],
   "source": [
    "eval_model(pipe7, X_train, X_test, y_train, y_test)"
   ]
  },
  {
   "cell_type": "code",
   "execution_count": 65,
   "metadata": {},
   "outputs": [],
   "source": [
    "pipe7_coefs_df = pipe_coefs(pipe7, 'tfidfvectorizer')"
   ]
  },
  {
   "cell_type": "code",
   "execution_count": 66,
   "metadata": {},
   "outputs": [
    {
     "data": {
      "text/html": [
       "<div>\n",
       "<style scoped>\n",
       "    .dataframe tbody tr th:only-of-type {\n",
       "        vertical-align: middle;\n",
       "    }\n",
       "\n",
       "    .dataframe tbody tr th {\n",
       "        vertical-align: top;\n",
       "    }\n",
       "\n",
       "    .dataframe thead th {\n",
       "        text-align: right;\n",
       "    }\n",
       "</style>\n",
       "<table border=\"1\" class=\"dataframe\">\n",
       "  <thead>\n",
       "    <tr style=\"text-align: right;\">\n",
       "      <th></th>\n",
       "      <th>coefs</th>\n",
       "      <th>names</th>\n",
       "    </tr>\n",
       "  </thead>\n",
       "  <tbody>\n",
       "    <tr>\n",
       "      <th>751</th>\n",
       "      <td>-3.578532</td>\n",
       "      <td>spoiler</td>\n",
       "    </tr>\n",
       "    <tr>\n",
       "      <th>65</th>\n",
       "      <td>-3.644315</td>\n",
       "      <td>]</td>\n",
       "    </tr>\n",
       "    <tr>\n",
       "      <th>64</th>\n",
       "      <td>-3.644775</td>\n",
       "      <td>[</td>\n",
       "    </tr>\n",
       "    <tr>\n",
       "      <th>14</th>\n",
       "      <td>-3.947578</td>\n",
       "      <td>,</td>\n",
       "    </tr>\n",
       "    <tr>\n",
       "      <th>59</th>\n",
       "      <td>-4.083258</td>\n",
       "      <td>:</td>\n",
       "    </tr>\n",
       "    <tr>\n",
       "      <th>18</th>\n",
       "      <td>-4.129737</td>\n",
       "      <td>...</td>\n",
       "    </tr>\n",
       "    <tr>\n",
       "      <th>16</th>\n",
       "      <td>-4.314560</td>\n",
       "      <td>.</td>\n",
       "    </tr>\n",
       "    <tr>\n",
       "      <th>297</th>\n",
       "      <td>-4.509051</td>\n",
       "      <td>episode</td>\n",
       "    </tr>\n",
       "    <tr>\n",
       "      <th>144</th>\n",
       "      <td>-4.515464</td>\n",
       "      <td>bigg</td>\n",
       "    </tr>\n",
       "    <tr>\n",
       "      <th>62</th>\n",
       "      <td>-4.523469</td>\n",
       "      <td>?</td>\n",
       "    </tr>\n",
       "  </tbody>\n",
       "</table>\n",
       "</div>"
      ],
      "text/plain": [
       "        coefs    names\n",
       "751 -3.578532  spoiler\n",
       "65  -3.644315        ]\n",
       "64  -3.644775        [\n",
       "14  -3.947578        ,\n",
       "59  -4.083258        :\n",
       "18  -4.129737      ...\n",
       "16  -4.314560        .\n",
       "297 -4.509051  episode\n",
       "144 -4.515464     bigg\n",
       "62  -4.523469        ?"
      ]
     },
     "execution_count": 66,
     "metadata": {},
     "output_type": "execute_result"
    }
   ],
   "source": [
    "pipe7_coefs_df.nlargest(10, 'coefs')"
   ]
  },
  {
   "cell_type": "code",
   "execution_count": 67,
   "metadata": {},
   "outputs": [
    {
     "data": {
      "text/html": [
       "<div>\n",
       "<style scoped>\n",
       "    .dataframe tbody tr th:only-of-type {\n",
       "        vertical-align: middle;\n",
       "    }\n",
       "\n",
       "    .dataframe tbody tr th {\n",
       "        vertical-align: top;\n",
       "    }\n",
       "\n",
       "    .dataframe thead th {\n",
       "        text-align: right;\n",
       "    }\n",
       "</style>\n",
       "<table border=\"1\" class=\"dataframe\">\n",
       "  <thead>\n",
       "    <tr style=\"text-align: right;\">\n",
       "      <th></th>\n",
       "      <th>coefs</th>\n",
       "      <th>names</th>\n",
       "    </tr>\n",
       "  </thead>\n",
       "  <tbody>\n",
       "    <tr>\n",
       "      <th>77</th>\n",
       "      <td>-9.387544</td>\n",
       "      <td>added</td>\n",
       "    </tr>\n",
       "    <tr>\n",
       "      <th>95</th>\n",
       "      <td>-9.387544</td>\n",
       "      <td>anniversary</td>\n",
       "    </tr>\n",
       "    <tr>\n",
       "      <th>102</th>\n",
       "      <td>-9.387544</td>\n",
       "      <td>aragorn</td>\n",
       "    </tr>\n",
       "    <tr>\n",
       "      <th>110</th>\n",
       "      <td>-9.387544</td>\n",
       "      <td>arwen</td>\n",
       "    </tr>\n",
       "    <tr>\n",
       "      <th>116</th>\n",
       "      <td>-9.387544</td>\n",
       "      <td>audiobook</td>\n",
       "    </tr>\n",
       "    <tr>\n",
       "      <th>128</th>\n",
       "      <td>-9.387544</td>\n",
       "      <td>balrog</td>\n",
       "    </tr>\n",
       "    <tr>\n",
       "      <th>145</th>\n",
       "      <td>-9.387544</td>\n",
       "      <td>bilbo</td>\n",
       "    </tr>\n",
       "    <tr>\n",
       "      <th>151</th>\n",
       "      <td>-9.387544</td>\n",
       "      <td>blockchain</td>\n",
       "    </tr>\n",
       "    <tr>\n",
       "      <th>152</th>\n",
       "      <td>-9.387544</td>\n",
       "      <td>blu</td>\n",
       "    </tr>\n",
       "    <tr>\n",
       "      <th>154</th>\n",
       "      <td>-9.387544</td>\n",
       "      <td>blue</td>\n",
       "    </tr>\n",
       "  </tbody>\n",
       "</table>\n",
       "</div>"
      ],
      "text/plain": [
       "        coefs        names\n",
       "77  -9.387544        added\n",
       "95  -9.387544  anniversary\n",
       "102 -9.387544      aragorn\n",
       "110 -9.387544        arwen\n",
       "116 -9.387544    audiobook\n",
       "128 -9.387544       balrog\n",
       "145 -9.387544        bilbo\n",
       "151 -9.387544   blockchain\n",
       "152 -9.387544          blu\n",
       "154 -9.387544         blue"
      ]
     },
     "execution_count": 67,
     "metadata": {},
     "output_type": "execute_result"
    }
   ],
   "source": [
    "pipe7_coefs_df.nsmallest(10, 'coefs')"
   ]
  },
  {
   "cell_type": "code",
   "execution_count": 68,
   "metadata": {},
   "outputs": [],
   "source": [
    "pipe8 = make_pipeline(TfidfVectorizer(tokenizer = LemmaTokenizer(), lowercase=True, stop_words='english', max_features = 500), MultinomialNB())"
   ]
  },
  {
   "cell_type": "code",
   "execution_count": 69,
   "metadata": {},
   "outputs": [
    {
     "data": {
      "text/plain": [
       "Pipeline(steps=[('tfidfvectorizer',\n",
       "                 TfidfVectorizer(max_features=500, stop_words='english',\n",
       "                                 tokenizer=<__main__.LemmaTokenizer object at 0x7f8906253d60>)),\n",
       "                ('multinomialnb', MultinomialNB())])"
      ]
     },
     "execution_count": 69,
     "metadata": {},
     "output_type": "execute_result"
    }
   ],
   "source": [
    "pipe8.fit(X_train, y_train)"
   ]
  },
  {
   "cell_type": "code",
   "execution_count": 70,
   "metadata": {},
   "outputs": [
    {
     "name": "stdout",
     "output_type": "stream",
     "text": [
      "Your train score is: [0.8875817  0.89869281 0.90392157 0.88431373 0.88039216]\n",
      "Your mean train score is: 0.8909803921568628\n",
      "Your test score is: [0.89215686 0.91176471 0.90980392 0.90588235 0.90196078]\n",
      "Your mean test score is: 0.9043137254901961\n",
      "Your test recall/sensitivity score is: 0.876\n",
      "Your confusion matrix is: [[0.89461538 0.10538462]\n",
      " [0.124      0.876     ]]\n"
     ]
    }
   ],
   "source": [
    "eval_model(pipe8, X_train, X_test, y_train, y_test)"
   ]
  },
  {
   "cell_type": "code",
   "execution_count": 71,
   "metadata": {},
   "outputs": [],
   "source": [
    "pipe8_coefs_df = pipe_coefs(pipe8, 'tfidfvectorizer')"
   ]
  },
  {
   "cell_type": "code",
   "execution_count": 72,
   "metadata": {},
   "outputs": [
    {
     "data": {
      "text/html": [
       "<div>\n",
       "<style scoped>\n",
       "    .dataframe tbody tr th:only-of-type {\n",
       "        vertical-align: middle;\n",
       "    }\n",
       "\n",
       "    .dataframe tbody tr th {\n",
       "        vertical-align: top;\n",
       "    }\n",
       "\n",
       "    .dataframe thead th {\n",
       "        text-align: right;\n",
       "    }\n",
       "</style>\n",
       "<table border=\"1\" class=\"dataframe\">\n",
       "  <thead>\n",
       "    <tr style=\"text-align: right;\">\n",
       "      <th></th>\n",
       "      <th>coefs</th>\n",
       "      <th>names</th>\n",
       "    </tr>\n",
       "  </thead>\n",
       "  <tbody>\n",
       "    <tr>\n",
       "      <th>379</th>\n",
       "      <td>-3.363346</td>\n",
       "      <td>spoiler</td>\n",
       "    </tr>\n",
       "    <tr>\n",
       "      <th>44</th>\n",
       "      <td>-3.425938</td>\n",
       "      <td>]</td>\n",
       "    </tr>\n",
       "    <tr>\n",
       "      <th>43</th>\n",
       "      <td>-3.427465</td>\n",
       "      <td>[</td>\n",
       "    </tr>\n",
       "    <tr>\n",
       "      <th>11</th>\n",
       "      <td>-3.722264</td>\n",
       "      <td>,</td>\n",
       "    </tr>\n",
       "    <tr>\n",
       "      <th>39</th>\n",
       "      <td>-3.883598</td>\n",
       "      <td>:</td>\n",
       "    </tr>\n",
       "    <tr>\n",
       "      <th>15</th>\n",
       "      <td>-3.919770</td>\n",
       "      <td>...</td>\n",
       "    </tr>\n",
       "    <tr>\n",
       "      <th>13</th>\n",
       "      <td>-4.059590</td>\n",
       "      <td>.</td>\n",
       "    </tr>\n",
       "    <tr>\n",
       "      <th>42</th>\n",
       "      <td>-4.311691</td>\n",
       "      <td>?</td>\n",
       "    </tr>\n",
       "    <tr>\n",
       "      <th>82</th>\n",
       "      <td>-4.328895</td>\n",
       "      <td>bigg</td>\n",
       "    </tr>\n",
       "    <tr>\n",
       "      <th>91</th>\n",
       "      <td>-4.366611</td>\n",
       "      <td>bos</td>\n",
       "    </tr>\n",
       "  </tbody>\n",
       "</table>\n",
       "</div>"
      ],
      "text/plain": [
       "        coefs    names\n",
       "379 -3.363346  spoiler\n",
       "44  -3.425938        ]\n",
       "43  -3.427465        [\n",
       "11  -3.722264        ,\n",
       "39  -3.883598        :\n",
       "15  -3.919770      ...\n",
       "13  -4.059590        .\n",
       "42  -4.311691        ?\n",
       "82  -4.328895     bigg\n",
       "91  -4.366611      bos"
      ]
     },
     "execution_count": 72,
     "metadata": {},
     "output_type": "execute_result"
    }
   ],
   "source": [
    "pipe8_coefs_df.nlargest(10, 'coefs')"
   ]
  },
  {
   "cell_type": "code",
   "execution_count": 73,
   "metadata": {},
   "outputs": [
    {
     "data": {
      "text/html": [
       "<div>\n",
       "<style scoped>\n",
       "    .dataframe tbody tr th:only-of-type {\n",
       "        vertical-align: middle;\n",
       "    }\n",
       "\n",
       "    .dataframe tbody tr th {\n",
       "        vertical-align: top;\n",
       "    }\n",
       "\n",
       "    .dataframe thead th {\n",
       "        text-align: right;\n",
       "    }\n",
       "</style>\n",
       "<table border=\"1\" class=\"dataframe\">\n",
       "  <thead>\n",
       "    <tr style=\"text-align: right;\">\n",
       "      <th></th>\n",
       "      <th>coefs</th>\n",
       "      <th>names</th>\n",
       "    </tr>\n",
       "  </thead>\n",
       "  <tbody>\n",
       "    <tr>\n",
       "      <th>61</th>\n",
       "      <td>-9.297688</td>\n",
       "      <td>aragorn</td>\n",
       "    </tr>\n",
       "    <tr>\n",
       "      <th>83</th>\n",
       "      <td>-9.297688</td>\n",
       "      <td>bilbo</td>\n",
       "    </tr>\n",
       "    <tr>\n",
       "      <th>87</th>\n",
       "      <td>-9.297688</td>\n",
       "      <td>blockchain</td>\n",
       "    </tr>\n",
       "    <tr>\n",
       "      <th>154</th>\n",
       "      <td>-9.297688</td>\n",
       "      <td>elf</td>\n",
       "    </tr>\n",
       "    <tr>\n",
       "      <th>156</th>\n",
       "      <td>-9.297688</td>\n",
       "      <td>elvish</td>\n",
       "    </tr>\n",
       "    <tr>\n",
       "      <th>176</th>\n",
       "      <td>-9.297688</td>\n",
       "      <td>fellowship</td>\n",
       "    </tr>\n",
       "    <tr>\n",
       "      <th>184</th>\n",
       "      <td>-9.297688</td>\n",
       "      <td>frodo</td>\n",
       "    </tr>\n",
       "    <tr>\n",
       "      <th>187</th>\n",
       "      <td>-9.297688</td>\n",
       "      <td>galadriel</td>\n",
       "    </tr>\n",
       "    <tr>\n",
       "      <th>189</th>\n",
       "      <td>-9.297688</td>\n",
       "      <td>gandalf</td>\n",
       "    </tr>\n",
       "    <tr>\n",
       "      <th>194</th>\n",
       "      <td>-9.297688</td>\n",
       "      <td>gollum</td>\n",
       "    </tr>\n",
       "  </tbody>\n",
       "</table>\n",
       "</div>"
      ],
      "text/plain": [
       "        coefs       names\n",
       "61  -9.297688     aragorn\n",
       "83  -9.297688       bilbo\n",
       "87  -9.297688  blockchain\n",
       "154 -9.297688         elf\n",
       "156 -9.297688      elvish\n",
       "176 -9.297688  fellowship\n",
       "184 -9.297688       frodo\n",
       "187 -9.297688   galadriel\n",
       "189 -9.297688     gandalf\n",
       "194 -9.297688      gollum"
      ]
     },
     "execution_count": 73,
     "metadata": {},
     "output_type": "execute_result"
    }
   ],
   "source": [
    "pipe8_coefs_df.nsmallest(10, 'coefs')"
   ]
  },
  {
   "cell_type": "markdown",
   "metadata": {},
   "source": [
    "Well, I think I have completed my first/initial round of modelling using Multinomial Naive Bayes. My best model was number 4, utilizing the custom Lemmatizer with TfidfVectorizer, which gave me a test score of ~93%. It also had the best Recall/Sensitivity score of .89 and lowest false negative value of 11%. I'm fairly happy with that, but I wonder if cleaning the data of the symbols and emojis will give me a better result. I'm going to make a nice plot of this model's largest/most important features for my presentation."
   ]
  },
  {
   "cell_type": "code",
   "execution_count": 74,
   "metadata": {},
   "outputs": [
    {
     "data": {
      "text/html": [
       "<div>\n",
       "<style scoped>\n",
       "    .dataframe tbody tr th:only-of-type {\n",
       "        vertical-align: middle;\n",
       "    }\n",
       "\n",
       "    .dataframe tbody tr th {\n",
       "        vertical-align: top;\n",
       "    }\n",
       "\n",
       "    .dataframe thead th {\n",
       "        text-align: right;\n",
       "    }\n",
       "</style>\n",
       "<table border=\"1\" class=\"dataframe\">\n",
       "  <thead>\n",
       "    <tr style=\"text-align: right;\">\n",
       "      <th></th>\n",
       "      <th>coefs</th>\n",
       "      <th>names</th>\n",
       "    </tr>\n",
       "  </thead>\n",
       "  <tbody>\n",
       "    <tr>\n",
       "      <th>6538</th>\n",
       "      <td>-4.480256</td>\n",
       "      <td>spoiler</td>\n",
       "    </tr>\n",
       "    <tr>\n",
       "      <th>403</th>\n",
       "      <td>-4.560347</td>\n",
       "      <td>]</td>\n",
       "    </tr>\n",
       "  </tbody>\n",
       "</table>\n",
       "</div>"
      ],
      "text/plain": [
       "         coefs    names\n",
       "6538 -4.480256  spoiler\n",
       "403  -4.560347        ]"
      ]
     },
     "execution_count": 74,
     "metadata": {},
     "output_type": "execute_result"
    }
   ],
   "source": [
    "gs4_top_words = gs4_coefs.nlargest(10, 'coefs')\n",
    "gs4_top_words.head(2)"
   ]
  },
  {
   "cell_type": "code",
   "execution_count": 75,
   "metadata": {},
   "outputs": [],
   "source": [
    "gs4_top_words2 = gs4_top_words.copy()"
   ]
  },
  {
   "cell_type": "code",
   "execution_count": 76,
   "metadata": {},
   "outputs": [
    {
     "data": {
      "text/html": [
       "<div>\n",
       "<style scoped>\n",
       "    .dataframe tbody tr th:only-of-type {\n",
       "        vertical-align: middle;\n",
       "    }\n",
       "\n",
       "    .dataframe tbody tr th {\n",
       "        vertical-align: top;\n",
       "    }\n",
       "\n",
       "    .dataframe thead th {\n",
       "        text-align: right;\n",
       "    }\n",
       "</style>\n",
       "<table border=\"1\" class=\"dataframe\">\n",
       "  <thead>\n",
       "    <tr style=\"text-align: right;\">\n",
       "      <th></th>\n",
       "      <th>coefs</th>\n",
       "      <th>names</th>\n",
       "      <th>coefs_abs</th>\n",
       "    </tr>\n",
       "  </thead>\n",
       "  <tbody>\n",
       "    <tr>\n",
       "      <th>6538</th>\n",
       "      <td>-4.480256</td>\n",
       "      <td>spoiler</td>\n",
       "      <td>4.480256</td>\n",
       "    </tr>\n",
       "    <tr>\n",
       "      <th>403</th>\n",
       "      <td>-4.560347</td>\n",
       "      <td>]</td>\n",
       "      <td>4.560347</td>\n",
       "    </tr>\n",
       "  </tbody>\n",
       "</table>\n",
       "</div>"
      ],
      "text/plain": [
       "         coefs    names  coefs_abs\n",
       "6538 -4.480256  spoiler   4.480256\n",
       "403  -4.560347        ]   4.560347"
      ]
     },
     "execution_count": 76,
     "metadata": {},
     "output_type": "execute_result"
    }
   ],
   "source": [
    "gs4_top_words2['coefs_abs']  = np.absolute(gs4_top_words2['coefs'])\n",
    "gs4_top_words2.head(2)"
   ]
  },
  {
   "cell_type": "code",
   "execution_count": 77,
   "metadata": {},
   "outputs": [],
   "source": [
    "gs4_top_words2 = gs4_top_words2.drop('coefs', axis = 1)"
   ]
  },
  {
   "cell_type": "code",
   "execution_count": 78,
   "metadata": {},
   "outputs": [
    {
     "data": {
      "image/png": "[encoded data removed]",
      "text/plain": [
       "<Figure size 936x576 with 1 Axes>"
      ]
     },
     "metadata": {
      "needs_background": "light"
     },
     "output_type": "display_data"
    }
   ],
   "source": [
    "ax, fig = plt.subplots(figsize = (13, 8))\n",
    "\n",
    "sns.barplot(x=\"names\", y=\"coefs_abs\", data=gs4_top_words2, palette = 'crest')\n",
    "\n",
    "plt.title('10 Most Important Words in Best Naive Bayes Model');"
   ]
  },
  {
   "cell_type": "markdown",
   "metadata": {},
   "source": [
    "Overall, what have I learned here? The CountVectorizer and TfidfVectorizer are giving me very similar results when I test the similar hyperparameters. I don't see a need to use StandardScaler here, so I won't continue using it. Additionally, I was able to eliminate the emojis from my features by limiting the max_features, but I still have quite a few symbols in my features so I need to get rid of those next. I am going to go back to my EDA notebook and eliminate those features from my dataset and save it out, so they are just gone from my modelling moving forward. I may also start a new Naive Bayes modelling notebook so that I can continue modelling after what I've learned here, and then experiment with n_gram range as my next feature to test. "
   ]
  },
  {
   "cell_type": "code",
   "execution_count": null,
   "metadata": {},
   "outputs": [],
   "source": []
  }
 ],
 "metadata": {
  "kernelspec": {
   "display_name": "Python 3",
   "language": "python",
   "name": "python3"
  },
  "language_info": {
   "codemirror_mode": {
    "name": "ipython",
    "version": 3
   },
   "file_extension": ".py",
   "mimetype": "text/x-python",
   "name": "python",
   "nbconvert_exporter": "python",
   "pygments_lexer": "ipython3",
   "version": "3.8.3"
  }
 },
 "nbformat": 4,
 "nbformat_minor": 4
}
