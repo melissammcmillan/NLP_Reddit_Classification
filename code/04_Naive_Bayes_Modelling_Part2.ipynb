{
 "cells": [
  {
   "cell_type": "markdown",
   "metadata": {},
   "source": [
    "### Notebook 4: Final Naive Bayes Modelling Utilizing the Most Clean Dataset"
   ]
  },
  {
   "cell_type": "markdown",
   "metadata": {},
   "source": [
    "In this notebook, I read in the data that has been tokenized with RegexpTokenizer to try to remove the symbols and special characters. "
   ]
  },
  {
   "cell_type": "markdown",
   "metadata": {},
   "source": [
    "To get started, I will import the needed libraries"
   ]
  },
  {
   "cell_type": "code",
   "execution_count": 1,
   "metadata": {},
   "outputs": [],
   "source": [
    "import pandas as pd\n",
    "import numpy as np\n",
    "import matplotlib.pyplot as plt\n",
    "import seaborn as sns\n",
    "\n",
    "from sklearn.feature_extraction.text import CountVectorizer, TfidfVectorizer\n",
    "from sklearn.dummy import DummyClassifier\n",
    "from sklearn.model_selection import train_test_split, GridSearchCV, cross_val_score\n",
    "from sklearn.pipeline import make_pipeline\n",
    "from sklearn.preprocessing import StandardScaler\n",
    "from sklearn.naive_bayes import MultinomialNB\n",
    "\n",
    "from sklearn.metrics import recall_score, confusion_matrix\n",
    "\n",
    "from nltk.tokenize import word_tokenize\n",
    "from nltk.stem import WordNetLemmatizer, PorterStemmer\n",
    "\n",
    "import warnings\n",
    "warnings.filterwarnings('ignore')"
   ]
  },
  {
   "cell_type": "code",
   "execution_count": 2,
   "metadata": {},
   "outputs": [],
   "source": [
    "def eval_model(pipe, X_train, X_test, y_train, y_test):\n",
    "    \"\"\"function for evaluating a model inside of a pipeline.\"\"\"\n",
    "#     y_train_preds = pipe.predict(X_train)\n",
    "#     rmse_train = mean_squared_error(y_train, y_train_preds, squared=False)\n",
    "    y_test_preds = pipe.predict(X_test)\n",
    "#     rmse_test = mean_squared_error(y_test, y_test_preds, squared=False)\n",
    "    print(f'Your train score is: {cross_val_score(pipe, X_train, y_train)}')\n",
    "    print(f'Your mean train score is: {np.mean(cross_val_score(pipe, X_train, y_train))}')\n",
    "    print(f'Your test score is: {cross_val_score(pipe, X_test, y_test)}')\n",
    "    print(f'Your mean test score is: {np.mean(cross_val_score(pipe, X_test, y_test))}')\n",
    "    print(f'Your test recall/sensitivity score is: {recall_score(y_test, y_test_preds)}')\n",
    "    print(f'Your confusion matrix is: {confusion_matrix(y_test, y_test_preds, normalize = \"true\")}')\n",
    "#     print(f'Your train RMSE is: {rmse_train}')\n",
    "#     print(f'Your test RMSE is: {rmse_test}')"
   ]
  },
  {
   "cell_type": "code",
   "execution_count": 3,
   "metadata": {},
   "outputs": [],
   "source": [
    "def pipe_coefs(pipe, vectorizer):\n",
    "    \"\"\" This function will give you a dataframe with your features and their coefficients/importances so you can sort them\"\"\"\n",
    "    features = pipe.named_steps[vectorizer].get_feature_names()\n",
    "    coefficients = pipe.named_steps['multinomialnb'].coef_\n",
    "    flattened_coefs = [val for sublist in coefficients for val in sublist]\n",
    "    pipe_coefs_df = pd.DataFrame({'coefs': flattened_coefs, 'names': features})\n",
    "    return pipe_coefs_df"
   ]
  },
  {
   "cell_type": "code",
   "execution_count": 4,
   "metadata": {},
   "outputs": [],
   "source": [
    "def eval_model_gs(gs, X_train, X_test, y_train, y_test):\n",
    "    \"\"\"function to get the model results when using GridSearchCV\"\"\"\n",
    "#     y_train_preds = gs.predict(X_train)\n",
    "#     rmse_train = mean_squared_error(y_train, y_train_preds, squared=False)\n",
    "    y_test_preds = gs.predict(X_test)\n",
    "#     rmse_test = mean_squared_error(y_test, y_test_preds, squared=False)\n",
    "    print(f'Your train score is: {gs.score(X_train, y_train)}')\n",
    "    print(f'Your test score is: {gs.score(X_test, y_test)}')\n",
    "    print(f'Your best test params were: {gs.best_params_}')\n",
    "    print(f'Your test recall/sensitivity score is: {recall_score(y_test, y_test_preds)}')\n",
    "    print(f'Your confusion matrix is: {confusion_matrix(y_test, y_test_preds, normalize = \"true\")}')\n",
    "#     print(f'Your train RMSE is: {rmse_train}')\n",
    "#     print(f'Your test RMSE is: {rmse_test}')"
   ]
  },
  {
   "cell_type": "code",
   "execution_count": 5,
   "metadata": {},
   "outputs": [],
   "source": [
    "def get_coefs_gs(gs, vectorizer):\n",
    "    \"\"\"function to get the coefficients when using GridSearchCV\"\"\"\n",
    "    coefs = gs.best_estimator_.named_steps['multinomialnb'].coef_\n",
    "    flattened_coefs = [val for sublist in coefs for val in sublist]\n",
    "    feats = gs.best_estimator_.named_steps[vectorizer].get_feature_names()\n",
    "    gs_coef_df = pd.DataFrame({'coefs': flattened_coefs, 'names': feats})\n",
    "    return gs_coef_df"
   ]
  },
  {
   "cell_type": "code",
   "execution_count": 6,
   "metadata": {},
   "outputs": [],
   "source": [
    "class LemmaTokenizer:\n",
    "    def __init__(self):\n",
    "        self.lemmatizer = WordNetLemmatizer()\n",
    "    def __call__(self, doc):\n",
    "        return [self.lemmatizer.lemmatize(t) for t in word_tokenize(doc)]"
   ]
  },
  {
   "cell_type": "markdown",
   "metadata": {},
   "source": [
    "Step 2: Read in the combined and tokenized dataset I saved in Notebook 2"
   ]
  },
  {
   "cell_type": "code",
   "execution_count": 7,
   "metadata": {},
   "outputs": [],
   "source": [
    "token_titles = pd.read_csv('./data/combined_data_cleaned_with_regexp.csv', index_col=0)"
   ]
  },
  {
   "cell_type": "code",
   "execution_count": 8,
   "metadata": {},
   "outputs": [
    {
     "data": {
      "text/html": [
       "<div>\n",
       "<style scoped>\n",
       "    .dataframe tbody tr th:only-of-type {\n",
       "        vertical-align: middle;\n",
       "    }\n",
       "\n",
       "    .dataframe tbody tr th {\n",
       "        vertical-align: top;\n",
       "    }\n",
       "\n",
       "    .dataframe thead th {\n",
       "        text-align: right;\n",
       "    }\n",
       "</style>\n",
       "<table border=\"1\" class=\"dataframe\">\n",
       "  <thead>\n",
       "    <tr style=\"text-align: right;\">\n",
       "      <th></th>\n",
       "      <th>subreddit</th>\n",
       "      <th>title</th>\n",
       "      <th>title_word_length</th>\n",
       "      <th>title_character_total</th>\n",
       "      <th>subreddit_map</th>\n",
       "      <th>title_token</th>\n",
       "    </tr>\n",
       "  </thead>\n",
       "  <tbody>\n",
       "    <tr>\n",
       "      <th>0</th>\n",
       "      <td>gameofthrones</td>\n",
       "      <td>Some genius explains how the Trump riots is ‘G...</td>\n",
       "      <td>14</td>\n",
       "      <td>78</td>\n",
       "      <td>1</td>\n",
       "      <td>Some genius explains how the Trump riots is Ga...</td>\n",
       "    </tr>\n",
       "    <tr>\n",
       "      <th>1</th>\n",
       "      <td>gameofthrones</td>\n",
       "      <td>Jagjeet Sandhu Age, Career, Personal Life- Bio...</td>\n",
       "      <td>25</td>\n",
       "      <td>160</td>\n",
       "      <td>1</td>\n",
       "      <td>Jagjeet Sandhu Age Career Personal Life Biogra...</td>\n",
       "    </tr>\n",
       "    <tr>\n",
       "      <th>2</th>\n",
       "      <td>gameofthrones</td>\n",
       "      <td>Kaagaz: plot, cast, review. Kaagaz is a 2021 I...</td>\n",
       "      <td>21</td>\n",
       "      <td>129</td>\n",
       "      <td>1</td>\n",
       "      <td>Kaagaz plot cast review Kaagaz is a 2021 India...</td>\n",
       "    </tr>\n",
       "    <tr>\n",
       "      <th>3</th>\n",
       "      <td>gameofthrones</td>\n",
       "      <td>Urvi Singh Age, Career, Personal Life- Biograp...</td>\n",
       "      <td>24</td>\n",
       "      <td>156</td>\n",
       "      <td>1</td>\n",
       "      <td>Urvi Singh Age Career Personal Life Biography ...</td>\n",
       "    </tr>\n",
       "    <tr>\n",
       "      <th>4</th>\n",
       "      <td>gameofthrones</td>\n",
       "      <td>Abhishek Banerjee: Wiki, age, birthday &amp;amp; f...</td>\n",
       "      <td>23</td>\n",
       "      <td>154</td>\n",
       "      <td>1</td>\n",
       "      <td>Abhishek Banerjee Wiki age birthday amp facts ...</td>\n",
       "    </tr>\n",
       "  </tbody>\n",
       "</table>\n",
       "</div>"
      ],
      "text/plain": [
       "       subreddit                                              title  \\\n",
       "0  gameofthrones  Some genius explains how the Trump riots is ‘G...   \n",
       "1  gameofthrones  Jagjeet Sandhu Age, Career, Personal Life- Bio...   \n",
       "2  gameofthrones  Kaagaz: plot, cast, review. Kaagaz is a 2021 I...   \n",
       "3  gameofthrones  Urvi Singh Age, Career, Personal Life- Biograp...   \n",
       "4  gameofthrones  Abhishek Banerjee: Wiki, age, birthday &amp; f...   \n",
       "\n",
       "   title_word_length  title_character_total  subreddit_map  \\\n",
       "0                 14                     78              1   \n",
       "1                 25                    160              1   \n",
       "2                 21                    129              1   \n",
       "3                 24                    156              1   \n",
       "4                 23                    154              1   \n",
       "\n",
       "                                         title_token  \n",
       "0  Some genius explains how the Trump riots is Ga...  \n",
       "1  Jagjeet Sandhu Age Career Personal Life Biogra...  \n",
       "2  Kaagaz plot cast review Kaagaz is a 2021 India...  \n",
       "3  Urvi Singh Age Career Personal Life Biography ...  \n",
       "4  Abhishek Banerjee Wiki age birthday amp facts ...  "
      ]
     },
     "execution_count": 8,
     "metadata": {},
     "output_type": "execute_result"
    }
   ],
   "source": [
    "token_titles.head()"
   ]
  },
  {
   "cell_type": "code",
   "execution_count": 9,
   "metadata": {},
   "outputs": [
    {
     "data": {
      "text/plain": [
       "(10200, 6)"
      ]
     },
     "execution_count": 9,
     "metadata": {},
     "output_type": "execute_result"
    }
   ],
   "source": [
    "token_titles.shape"
   ]
  },
  {
   "cell_type": "code",
   "execution_count": 10,
   "metadata": {},
   "outputs": [
    {
     "data": {
      "text/plain": [
       "subreddit                 0\n",
       "title                     0\n",
       "title_word_length         0\n",
       "title_character_total     0\n",
       "subreddit_map             0\n",
       "title_token              76\n",
       "dtype: int64"
      ]
     },
     "execution_count": 10,
     "metadata": {},
     "output_type": "execute_result"
    }
   ],
   "source": [
    "token_titles.isna().sum()"
   ]
  },
  {
   "cell_type": "code",
   "execution_count": 11,
   "metadata": {},
   "outputs": [],
   "source": [
    "#This is strange, I didn't have any nulls when I exported the dataset. I'm just going to drop and move forward since its only 76 rows\n",
    "token_titles = token_titles.dropna()"
   ]
  },
  {
   "cell_type": "code",
   "execution_count": 12,
   "metadata": {},
   "outputs": [
    {
     "data": {
      "text/plain": [
       "subreddit                0\n",
       "title                    0\n",
       "title_word_length        0\n",
       "title_character_total    0\n",
       "subreddit_map            0\n",
       "title_token              0\n",
       "dtype: int64"
      ]
     },
     "execution_count": 12,
     "metadata": {},
     "output_type": "execute_result"
    }
   ],
   "source": [
    "token_titles.isna().sum()"
   ]
  },
  {
   "cell_type": "markdown",
   "metadata": {},
   "source": [
    "My modelling plan is to first run through a similar pipe for both CountVectorizer and Tfidf Vectorizer with this new 'title_token' column. "
   ]
  },
  {
   "cell_type": "markdown",
   "metadata": {},
   "source": [
    "Going to set up X and y and do a train_test_split on the data."
   ]
  },
  {
   "cell_type": "code",
   "execution_count": 13,
   "metadata": {},
   "outputs": [],
   "source": [
    "X = token_titles['title_token']\n",
    "y = token_titles['subreddit_map']"
   ]
  },
  {
   "cell_type": "code",
   "execution_count": 14,
   "metadata": {},
   "outputs": [],
   "source": [
    "X_train, X_test, y_train, y_test = train_test_split(X, y)"
   ]
  },
  {
   "cell_type": "markdown",
   "metadata": {},
   "source": [
    "Now to run the CountVectorizer with stop_words and max_features=1000 with the MultinomialNB model"
   ]
  },
  {
   "cell_type": "code",
   "execution_count": 15,
   "metadata": {},
   "outputs": [],
   "source": [
    "pipe9 = make_pipeline(CountVectorizer(stop_words='english', max_features=1000), MultinomialNB())"
   ]
  },
  {
   "cell_type": "code",
   "execution_count": 16,
   "metadata": {},
   "outputs": [
    {
     "data": {
      "text/plain": [
       "Pipeline(steps=[('countvectorizer',\n",
       "                 CountVectorizer(max_features=1000, stop_words='english')),\n",
       "                ('multinomialnb', MultinomialNB())])"
      ]
     },
     "execution_count": 16,
     "metadata": {},
     "output_type": "execute_result"
    }
   ],
   "source": [
    "pipe9.fit(X_train, y_train)"
   ]
  },
  {
   "cell_type": "code",
   "execution_count": 17,
   "metadata": {},
   "outputs": [
    {
     "name": "stdout",
     "output_type": "stream",
     "text": [
      "Your train score is: [0.9124424  0.89795918 0.91507571 0.91040843 0.90316206]\n",
      "Your mean train score is: 0.9078095550345602\n",
      "Your test score is: [0.87968442 0.86363636 0.88142292 0.87351779 0.88735178]\n",
      "Your mean test score is: 0.8771226543801796\n",
      "Your test recall/sensitivity score is: 0.8287292817679558\n",
      "Your confusion matrix is: [[0.97310127 0.02689873]\n",
      " [0.17127072 0.82872928]]\n"
     ]
    }
   ],
   "source": [
    "eval_model(pipe9, X_train, X_test, y_train, y_test)"
   ]
  },
  {
   "cell_type": "code",
   "execution_count": 18,
   "metadata": {},
   "outputs": [
    {
     "data": {
      "text/html": [
       "<div>\n",
       "<style scoped>\n",
       "    .dataframe tbody tr th:only-of-type {\n",
       "        vertical-align: middle;\n",
       "    }\n",
       "\n",
       "    .dataframe tbody tr th {\n",
       "        vertical-align: top;\n",
       "    }\n",
       "\n",
       "    .dataframe thead th {\n",
       "        text-align: right;\n",
       "    }\n",
       "</style>\n",
       "<table border=\"1\" class=\"dataframe\">\n",
       "  <thead>\n",
       "    <tr style=\"text-align: right;\">\n",
       "      <th></th>\n",
       "      <th>coefs</th>\n",
       "      <th>names</th>\n",
       "    </tr>\n",
       "  </thead>\n",
       "  <tbody>\n",
       "    <tr>\n",
       "      <th>0</th>\n",
       "      <td>-7.530859</td>\n",
       "      <td>10</td>\n",
       "    </tr>\n",
       "    <tr>\n",
       "      <th>1</th>\n",
       "      <td>-8.166847</td>\n",
       "      <td>100</td>\n",
       "    </tr>\n",
       "    <tr>\n",
       "      <th>2</th>\n",
       "      <td>-8.061487</td>\n",
       "      <td>11</td>\n",
       "    </tr>\n",
       "    <tr>\n",
       "      <th>3</th>\n",
       "      <td>-8.977778</td>\n",
       "      <td>12</td>\n",
       "    </tr>\n",
       "    <tr>\n",
       "      <th>4</th>\n",
       "      <td>-7.068235</td>\n",
       "      <td>13</td>\n",
       "    </tr>\n",
       "    <tr>\n",
       "      <th>...</th>\n",
       "      <td>...</td>\n",
       "      <td>...</td>\n",
       "    </tr>\n",
       "    <tr>\n",
       "      <th>995</th>\n",
       "      <td>-7.105975</td>\n",
       "      <td>years</td>\n",
       "    </tr>\n",
       "    <tr>\n",
       "      <th>996</th>\n",
       "      <td>-8.754634</td>\n",
       "      <td>yes</td>\n",
       "    </tr>\n",
       "    <tr>\n",
       "      <th>997</th>\n",
       "      <td>-8.418162</td>\n",
       "      <td>yesterday</td>\n",
       "    </tr>\n",
       "    <tr>\n",
       "      <th>998</th>\n",
       "      <td>-7.419633</td>\n",
       "      <td>young</td>\n",
       "    </tr>\n",
       "    <tr>\n",
       "      <th>999</th>\n",
       "      <td>-8.061487</td>\n",
       "      <td>youtube</td>\n",
       "    </tr>\n",
       "  </tbody>\n",
       "</table>\n",
       "<p>1000 rows × 2 columns</p>\n",
       "</div>"
      ],
      "text/plain": [
       "        coefs      names\n",
       "0   -7.530859         10\n",
       "1   -8.166847        100\n",
       "2   -8.061487         11\n",
       "3   -8.977778         12\n",
       "4   -7.068235         13\n",
       "..        ...        ...\n",
       "995 -7.105975      years\n",
       "996 -8.754634        yes\n",
       "997 -8.418162  yesterday\n",
       "998 -7.419633      young\n",
       "999 -8.061487    youtube\n",
       "\n",
       "[1000 rows x 2 columns]"
      ]
     },
     "execution_count": 18,
     "metadata": {},
     "output_type": "execute_result"
    }
   ],
   "source": [
    "pipe9_coefs = pipe_coefs(pipe9, 'countvectorizer')\n",
    "pipe9_coefs"
   ]
  },
  {
   "cell_type": "code",
   "execution_count": 19,
   "metadata": {},
   "outputs": [
    {
     "data": {
      "text/html": [
       "<div>\n",
       "<style scoped>\n",
       "    .dataframe tbody tr th:only-of-type {\n",
       "        vertical-align: middle;\n",
       "    }\n",
       "\n",
       "    .dataframe tbody tr th {\n",
       "        vertical-align: top;\n",
       "    }\n",
       "\n",
       "    .dataframe thead th {\n",
       "        text-align: right;\n",
       "    }\n",
       "</style>\n",
       "<table border=\"1\" class=\"dataframe\">\n",
       "  <thead>\n",
       "    <tr style=\"text-align: right;\">\n",
       "      <th></th>\n",
       "      <th>coefs</th>\n",
       "      <th>names</th>\n",
       "    </tr>\n",
       "  </thead>\n",
       "  <tbody>\n",
       "    <tr>\n",
       "      <th>816</th>\n",
       "      <td>-3.377506</td>\n",
       "      <td>spoilers</td>\n",
       "    </tr>\n",
       "    <tr>\n",
       "      <th>122</th>\n",
       "      <td>-3.547336</td>\n",
       "      <td>bigg</td>\n",
       "    </tr>\n",
       "    <tr>\n",
       "      <th>140</th>\n",
       "      <td>-3.592136</td>\n",
       "      <td>boss</td>\n",
       "    </tr>\n",
       "    <tr>\n",
       "      <th>5</th>\n",
       "      <td>-3.614141</td>\n",
       "      <td>14</td>\n",
       "    </tr>\n",
       "    <tr>\n",
       "      <th>298</th>\n",
       "      <td>-3.801628</td>\n",
       "      <td>episode</td>\n",
       "    </tr>\n",
       "    <tr>\n",
       "      <th>725</th>\n",
       "      <td>-3.924722</td>\n",
       "      <td>roadies</td>\n",
       "    </tr>\n",
       "    <tr>\n",
       "      <th>717</th>\n",
       "      <td>-3.990752</td>\n",
       "      <td>revolution</td>\n",
       "    </tr>\n",
       "    <tr>\n",
       "      <th>571</th>\n",
       "      <td>-4.302615</td>\n",
       "      <td>mtv</td>\n",
       "    </tr>\n",
       "    <tr>\n",
       "      <th>757</th>\n",
       "      <td>-4.643760</td>\n",
       "      <td>season</td>\n",
       "    </tr>\n",
       "    <tr>\n",
       "      <th>380</th>\n",
       "      <td>-4.795727</td>\n",
       "      <td>got</td>\n",
       "    </tr>\n",
       "  </tbody>\n",
       "</table>\n",
       "</div>"
      ],
      "text/plain": [
       "        coefs       names\n",
       "816 -3.377506    spoilers\n",
       "122 -3.547336        bigg\n",
       "140 -3.592136        boss\n",
       "5   -3.614141          14\n",
       "298 -3.801628     episode\n",
       "725 -3.924722     roadies\n",
       "717 -3.990752  revolution\n",
       "571 -4.302615         mtv\n",
       "757 -4.643760      season\n",
       "380 -4.795727         got"
      ]
     },
     "execution_count": 19,
     "metadata": {},
     "output_type": "execute_result"
    }
   ],
   "source": [
    "pipe9_coefs.nlargest(10, 'coefs')"
   ]
  },
  {
   "cell_type": "code",
   "execution_count": 20,
   "metadata": {},
   "outputs": [
    {
     "data": {
      "text/html": [
       "<div>\n",
       "<style scoped>\n",
       "    .dataframe tbody tr th:only-of-type {\n",
       "        vertical-align: middle;\n",
       "    }\n",
       "\n",
       "    .dataframe tbody tr th {\n",
       "        vertical-align: top;\n",
       "    }\n",
       "\n",
       "    .dataframe thead th {\n",
       "        text-align: right;\n",
       "    }\n",
       "</style>\n",
       "<table border=\"1\" class=\"dataframe\">\n",
       "  <thead>\n",
       "    <tr style=\"text-align: right;\">\n",
       "      <th></th>\n",
       "      <th>coefs</th>\n",
       "      <th>names</th>\n",
       "    </tr>\n",
       "  </thead>\n",
       "  <tbody>\n",
       "    <tr>\n",
       "      <th>35</th>\n",
       "      <td>-10.364072</td>\n",
       "      <td>50th</td>\n",
       "    </tr>\n",
       "    <tr>\n",
       "      <th>46</th>\n",
       "      <td>-10.364072</td>\n",
       "      <td>added</td>\n",
       "    </tr>\n",
       "    <tr>\n",
       "      <th>66</th>\n",
       "      <td>-10.364072</td>\n",
       "      <td>angmar</td>\n",
       "    </tr>\n",
       "    <tr>\n",
       "      <th>68</th>\n",
       "      <td>-10.364072</td>\n",
       "      <td>anniversary</td>\n",
       "    </tr>\n",
       "    <tr>\n",
       "      <th>77</th>\n",
       "      <td>-10.364072</td>\n",
       "      <td>aragorn</td>\n",
       "    </tr>\n",
       "    <tr>\n",
       "      <th>85</th>\n",
       "      <td>-10.364072</td>\n",
       "      <td>arwen</td>\n",
       "    </tr>\n",
       "    <tr>\n",
       "      <th>102</th>\n",
       "      <td>-10.364072</td>\n",
       "      <td>baggins</td>\n",
       "    </tr>\n",
       "    <tr>\n",
       "      <th>104</th>\n",
       "      <td>-10.364072</td>\n",
       "      <td>balrog</td>\n",
       "    </tr>\n",
       "    <tr>\n",
       "      <th>106</th>\n",
       "      <td>-10.364072</td>\n",
       "      <td>barad</td>\n",
       "    </tr>\n",
       "    <tr>\n",
       "      <th>123</th>\n",
       "      <td>-10.364072</td>\n",
       "      <td>bilbo</td>\n",
       "    </tr>\n",
       "  </tbody>\n",
       "</table>\n",
       "</div>"
      ],
      "text/plain": [
       "         coefs        names\n",
       "35  -10.364072         50th\n",
       "46  -10.364072        added\n",
       "66  -10.364072       angmar\n",
       "68  -10.364072  anniversary\n",
       "77  -10.364072      aragorn\n",
       "85  -10.364072        arwen\n",
       "102 -10.364072      baggins\n",
       "104 -10.364072       balrog\n",
       "106 -10.364072        barad\n",
       "123 -10.364072        bilbo"
      ]
     },
     "execution_count": 20,
     "metadata": {},
     "output_type": "execute_result"
    }
   ],
   "source": [
    "pipe9_coefs.nsmallest(10, 'coefs')"
   ]
  },
  {
   "cell_type": "code",
   "execution_count": 21,
   "metadata": {},
   "outputs": [],
   "source": [
    "pipe10 = make_pipeline(CountVectorizer(stop_words='english', max_features=500), MultinomialNB())"
   ]
  },
  {
   "cell_type": "code",
   "execution_count": 22,
   "metadata": {},
   "outputs": [
    {
     "data": {
      "text/plain": [
       "Pipeline(steps=[('countvectorizer',\n",
       "                 CountVectorizer(max_features=500, stop_words='english')),\n",
       "                ('multinomialnb', MultinomialNB())])"
      ]
     },
     "execution_count": 22,
     "metadata": {},
     "output_type": "execute_result"
    }
   ],
   "source": [
    "pipe10.fit(X_train, y_train)"
   ]
  },
  {
   "cell_type": "code",
   "execution_count": 23,
   "metadata": {},
   "outputs": [
    {
     "name": "stdout",
     "output_type": "stream",
     "text": [
      "Your train score is: [0.9005925  0.89664253 0.90980908 0.90777339 0.90118577]\n",
      "Your mean train score is: 0.9032006529502021\n",
      "Your test score is: [0.86390533 0.83201581 0.85968379 0.84387352 0.86363636]\n",
      "Your mean test score is: 0.8526229623219589\n",
      "Your test recall/sensitivity score is: 0.8334648776637726\n",
      "Your confusion matrix is: [[0.96914557 0.03085443]\n",
      " [0.16653512 0.83346488]]\n"
     ]
    }
   ],
   "source": [
    "eval_model(pipe10, X_train, X_test, y_train, y_test)"
   ]
  },
  {
   "cell_type": "code",
   "execution_count": 24,
   "metadata": {},
   "outputs": [
    {
     "data": {
      "text/html": [
       "<div>\n",
       "<style scoped>\n",
       "    .dataframe tbody tr th:only-of-type {\n",
       "        vertical-align: middle;\n",
       "    }\n",
       "\n",
       "    .dataframe tbody tr th {\n",
       "        vertical-align: top;\n",
       "    }\n",
       "\n",
       "    .dataframe thead th {\n",
       "        text-align: right;\n",
       "    }\n",
       "</style>\n",
       "<table border=\"1\" class=\"dataframe\">\n",
       "  <thead>\n",
       "    <tr style=\"text-align: right;\">\n",
       "      <th></th>\n",
       "      <th>coefs</th>\n",
       "      <th>names</th>\n",
       "    </tr>\n",
       "  </thead>\n",
       "  <tbody>\n",
       "    <tr>\n",
       "      <th>0</th>\n",
       "      <td>-7.380329</td>\n",
       "      <td>10</td>\n",
       "    </tr>\n",
       "    <tr>\n",
       "      <th>1</th>\n",
       "      <td>-6.917706</td>\n",
       "      <td>13</td>\n",
       "    </tr>\n",
       "    <tr>\n",
       "      <th>2</th>\n",
       "      <td>-3.463611</td>\n",
       "      <td>14</td>\n",
       "    </tr>\n",
       "    <tr>\n",
       "      <th>3</th>\n",
       "      <td>-7.574485</td>\n",
       "      <td>19</td>\n",
       "    </tr>\n",
       "    <tr>\n",
       "      <th>4</th>\n",
       "      <td>-5.202907</td>\n",
       "      <td>1992</td>\n",
       "    </tr>\n",
       "    <tr>\n",
       "      <th>...</th>\n",
       "      <td>...</td>\n",
       "      <td>...</td>\n",
       "    </tr>\n",
       "    <tr>\n",
       "      <th>495</th>\n",
       "      <td>-8.827248</td>\n",
       "      <td>xmas</td>\n",
       "    </tr>\n",
       "    <tr>\n",
       "      <th>496</th>\n",
       "      <td>-6.881338</td>\n",
       "      <td>year</td>\n",
       "    </tr>\n",
       "    <tr>\n",
       "      <th>497</th>\n",
       "      <td>-6.955446</td>\n",
       "      <td>years</td>\n",
       "    </tr>\n",
       "    <tr>\n",
       "      <th>498</th>\n",
       "      <td>-7.269103</td>\n",
       "      <td>young</td>\n",
       "    </tr>\n",
       "    <tr>\n",
       "      <th>499</th>\n",
       "      <td>-7.910957</td>\n",
       "      <td>youtube</td>\n",
       "    </tr>\n",
       "  </tbody>\n",
       "</table>\n",
       "<p>500 rows × 2 columns</p>\n",
       "</div>"
      ],
      "text/plain": [
       "        coefs    names\n",
       "0   -7.380329       10\n",
       "1   -6.917706       13\n",
       "2   -3.463611       14\n",
       "3   -7.574485       19\n",
       "4   -5.202907     1992\n",
       "..        ...      ...\n",
       "495 -8.827248     xmas\n",
       "496 -6.881338     year\n",
       "497 -6.955446    years\n",
       "498 -7.269103    young\n",
       "499 -7.910957  youtube\n",
       "\n",
       "[500 rows x 2 columns]"
      ]
     },
     "execution_count": 24,
     "metadata": {},
     "output_type": "execute_result"
    }
   ],
   "source": [
    "pipe10_coefs = pipe_coefs(pipe10, 'countvectorizer')\n",
    "pipe10_coefs"
   ]
  },
  {
   "cell_type": "code",
   "execution_count": 25,
   "metadata": {},
   "outputs": [
    {
     "data": {
      "text/html": [
       "<div>\n",
       "<style scoped>\n",
       "    .dataframe tbody tr th:only-of-type {\n",
       "        vertical-align: middle;\n",
       "    }\n",
       "\n",
       "    .dataframe tbody tr th {\n",
       "        vertical-align: top;\n",
       "    }\n",
       "\n",
       "    .dataframe thead th {\n",
       "        text-align: right;\n",
       "    }\n",
       "</style>\n",
       "<table border=\"1\" class=\"dataframe\">\n",
       "  <thead>\n",
       "    <tr style=\"text-align: right;\">\n",
       "      <th></th>\n",
       "      <th>coefs</th>\n",
       "      <th>names</th>\n",
       "    </tr>\n",
       "  </thead>\n",
       "  <tbody>\n",
       "    <tr>\n",
       "      <th>406</th>\n",
       "      <td>-3.226976</td>\n",
       "      <td>spoilers</td>\n",
       "    </tr>\n",
       "    <tr>\n",
       "      <th>54</th>\n",
       "      <td>-3.396807</td>\n",
       "      <td>bigg</td>\n",
       "    </tr>\n",
       "    <tr>\n",
       "      <th>65</th>\n",
       "      <td>-3.441607</td>\n",
       "      <td>boss</td>\n",
       "    </tr>\n",
       "    <tr>\n",
       "      <th>2</th>\n",
       "      <td>-3.463611</td>\n",
       "      <td>14</td>\n",
       "    </tr>\n",
       "    <tr>\n",
       "      <th>146</th>\n",
       "      <td>-3.651098</td>\n",
       "      <td>episode</td>\n",
       "    </tr>\n",
       "    <tr>\n",
       "      <th>362</th>\n",
       "      <td>-3.774192</td>\n",
       "      <td>roadies</td>\n",
       "    </tr>\n",
       "    <tr>\n",
       "      <th>357</th>\n",
       "      <td>-3.840223</td>\n",
       "      <td>revolution</td>\n",
       "    </tr>\n",
       "    <tr>\n",
       "      <th>286</th>\n",
       "      <td>-4.152086</td>\n",
       "      <td>mtv</td>\n",
       "    </tr>\n",
       "    <tr>\n",
       "      <th>378</th>\n",
       "      <td>-4.493231</td>\n",
       "      <td>season</td>\n",
       "    </tr>\n",
       "    <tr>\n",
       "      <th>192</th>\n",
       "      <td>-4.645198</td>\n",
       "      <td>got</td>\n",
       "    </tr>\n",
       "  </tbody>\n",
       "</table>\n",
       "</div>"
      ],
      "text/plain": [
       "        coefs       names\n",
       "406 -3.226976    spoilers\n",
       "54  -3.396807        bigg\n",
       "65  -3.441607        boss\n",
       "2   -3.463611          14\n",
       "146 -3.651098     episode\n",
       "362 -3.774192     roadies\n",
       "357 -3.840223  revolution\n",
       "286 -4.152086         mtv\n",
       "378 -4.493231      season\n",
       "192 -4.645198         got"
      ]
     },
     "execution_count": 25,
     "metadata": {},
     "output_type": "execute_result"
    }
   ],
   "source": [
    "pipe10_coefs.nlargest(10, 'coefs')"
   ]
  },
  {
   "cell_type": "code",
   "execution_count": 26,
   "metadata": {},
   "outputs": [
    {
     "data": {
      "text/html": [
       "<div>\n",
       "<style scoped>\n",
       "    .dataframe tbody tr th:only-of-type {\n",
       "        vertical-align: middle;\n",
       "    }\n",
       "\n",
       "    .dataframe tbody tr th {\n",
       "        vertical-align: top;\n",
       "    }\n",
       "\n",
       "    .dataframe thead th {\n",
       "        text-align: right;\n",
       "    }\n",
       "</style>\n",
       "<table border=\"1\" class=\"dataframe\">\n",
       "  <thead>\n",
       "    <tr style=\"text-align: right;\">\n",
       "      <th></th>\n",
       "      <th>coefs</th>\n",
       "      <th>names</th>\n",
       "    </tr>\n",
       "  </thead>\n",
       "  <tbody>\n",
       "    <tr>\n",
       "      <th>34</th>\n",
       "      <td>-10.213542</td>\n",
       "      <td>aragorn</td>\n",
       "    </tr>\n",
       "    <tr>\n",
       "      <th>55</th>\n",
       "      <td>-10.213542</td>\n",
       "      <td>bilbo</td>\n",
       "    </tr>\n",
       "    <tr>\n",
       "      <th>59</th>\n",
       "      <td>-10.213542</td>\n",
       "      <td>blockchain</td>\n",
       "    </tr>\n",
       "    <tr>\n",
       "      <th>139</th>\n",
       "      <td>-10.213542</td>\n",
       "      <td>elvish</td>\n",
       "    </tr>\n",
       "    <tr>\n",
       "      <th>173</th>\n",
       "      <td>-10.213542</td>\n",
       "      <td>frodo</td>\n",
       "    </tr>\n",
       "    <tr>\n",
       "      <th>176</th>\n",
       "      <td>-10.213542</td>\n",
       "      <td>galadriel</td>\n",
       "    </tr>\n",
       "    <tr>\n",
       "      <th>179</th>\n",
       "      <td>-10.213542</td>\n",
       "      <td>gandalf</td>\n",
       "    </tr>\n",
       "    <tr>\n",
       "      <th>184</th>\n",
       "      <td>-10.213542</td>\n",
       "      <td>gimli</td>\n",
       "    </tr>\n",
       "    <tr>\n",
       "      <th>188</th>\n",
       "      <td>-10.213542</td>\n",
       "      <td>gollum</td>\n",
       "    </tr>\n",
       "    <tr>\n",
       "      <th>189</th>\n",
       "      <td>-10.213542</td>\n",
       "      <td>gondor</td>\n",
       "    </tr>\n",
       "  </tbody>\n",
       "</table>\n",
       "</div>"
      ],
      "text/plain": [
       "         coefs       names\n",
       "34  -10.213542     aragorn\n",
       "55  -10.213542       bilbo\n",
       "59  -10.213542  blockchain\n",
       "139 -10.213542      elvish\n",
       "173 -10.213542       frodo\n",
       "176 -10.213542   galadriel\n",
       "179 -10.213542     gandalf\n",
       "184 -10.213542       gimli\n",
       "188 -10.213542      gollum\n",
       "189 -10.213542      gondor"
      ]
     },
     "execution_count": 26,
     "metadata": {},
     "output_type": "execute_result"
    }
   ],
   "source": [
    "pipe10_coefs.nsmallest(10, 'coefs')"
   ]
  },
  {
   "cell_type": "markdown",
   "metadata": {},
   "source": [
    "Check out all of those Lord of the Rings terms in my nsmallest coefficients! That's great! Clearly the modelling is picking up on those words unique to the LOTR films. The largest coefficients/features are also specific to Game of Thrones, and it makes sense that people were referring more to the show overall than the characters specifically. Especially the word 'spoilers'! This is really fun!"
   ]
  },
  {
   "cell_type": "markdown",
   "metadata": {},
   "source": [
    "Now for the model with TfidfVectorizer."
   ]
  },
  {
   "cell_type": "code",
   "execution_count": 27,
   "metadata": {},
   "outputs": [],
   "source": [
    "pipe11 = make_pipeline(TfidfVectorizer(lowercase=True, stop_words='english', max_features = 1_000), MultinomialNB())"
   ]
  },
  {
   "cell_type": "code",
   "execution_count": 28,
   "metadata": {},
   "outputs": [
    {
     "data": {
      "text/plain": [
       "Pipeline(steps=[('tfidfvectorizer',\n",
       "                 TfidfVectorizer(max_features=1000, stop_words='english')),\n",
       "                ('multinomialnb', MultinomialNB())])"
      ]
     },
     "execution_count": 28,
     "metadata": {},
     "output_type": "execute_result"
    }
   ],
   "source": [
    "pipe11.fit(X_train, y_train)"
   ]
  },
  {
   "cell_type": "code",
   "execution_count": 29,
   "metadata": {},
   "outputs": [
    {
     "name": "stdout",
     "output_type": "stream",
     "text": [
      "Your train score is: [0.9124424  0.90388413 0.92165899 0.90711462 0.91238472]\n",
      "Your mean train score is: 0.9114969716051663\n",
      "Your test score is: [0.88757396 0.86956522 0.88735178 0.88339921 0.88735178]\n",
      "Your mean test score is: 0.8830483897373529\n",
      "Your test recall/sensitivity score is: 0.8453038674033149\n",
      "Your confusion matrix is: [[0.96281646 0.03718354]\n",
      " [0.15469613 0.84530387]]\n"
     ]
    }
   ],
   "source": [
    "eval_model(pipe11, X_train, X_test, y_train, y_test)"
   ]
  },
  {
   "cell_type": "code",
   "execution_count": 30,
   "metadata": {},
   "outputs": [
    {
     "data": {
      "text/html": [
       "<div>\n",
       "<style scoped>\n",
       "    .dataframe tbody tr th:only-of-type {\n",
       "        vertical-align: middle;\n",
       "    }\n",
       "\n",
       "    .dataframe tbody tr th {\n",
       "        vertical-align: top;\n",
       "    }\n",
       "\n",
       "    .dataframe thead th {\n",
       "        text-align: right;\n",
       "    }\n",
       "</style>\n",
       "<table border=\"1\" class=\"dataframe\">\n",
       "  <thead>\n",
       "    <tr style=\"text-align: right;\">\n",
       "      <th></th>\n",
       "      <th>coefs</th>\n",
       "      <th>names</th>\n",
       "    </tr>\n",
       "  </thead>\n",
       "  <tbody>\n",
       "    <tr>\n",
       "      <th>0</th>\n",
       "      <td>-7.270352</td>\n",
       "      <td>10</td>\n",
       "    </tr>\n",
       "    <tr>\n",
       "      <th>1</th>\n",
       "      <td>-7.626506</td>\n",
       "      <td>100</td>\n",
       "    </tr>\n",
       "    <tr>\n",
       "      <th>2</th>\n",
       "      <td>-7.736474</td>\n",
       "      <td>11</td>\n",
       "    </tr>\n",
       "    <tr>\n",
       "      <th>3</th>\n",
       "      <td>-8.243927</td>\n",
       "      <td>12</td>\n",
       "    </tr>\n",
       "    <tr>\n",
       "      <th>4</th>\n",
       "      <td>-6.839485</td>\n",
       "      <td>13</td>\n",
       "    </tr>\n",
       "    <tr>\n",
       "      <th>...</th>\n",
       "      <td>...</td>\n",
       "      <td>...</td>\n",
       "    </tr>\n",
       "    <tr>\n",
       "      <th>995</th>\n",
       "      <td>-6.885367</td>\n",
       "      <td>years</td>\n",
       "    </tr>\n",
       "    <tr>\n",
       "      <th>996</th>\n",
       "      <td>-8.298711</td>\n",
       "      <td>yes</td>\n",
       "    </tr>\n",
       "    <tr>\n",
       "      <th>997</th>\n",
       "      <td>-7.984261</td>\n",
       "      <td>yesterday</td>\n",
       "    </tr>\n",
       "    <tr>\n",
       "      <th>998</th>\n",
       "      <td>-6.816824</td>\n",
       "      <td>young</td>\n",
       "    </tr>\n",
       "    <tr>\n",
       "      <th>999</th>\n",
       "      <td>-7.624115</td>\n",
       "      <td>youtube</td>\n",
       "    </tr>\n",
       "  </tbody>\n",
       "</table>\n",
       "<p>1000 rows × 2 columns</p>\n",
       "</div>"
      ],
      "text/plain": [
       "        coefs      names\n",
       "0   -7.270352         10\n",
       "1   -7.626506        100\n",
       "2   -7.736474         11\n",
       "3   -8.243927         12\n",
       "4   -6.839485         13\n",
       "..        ...        ...\n",
       "995 -6.885367      years\n",
       "996 -8.298711        yes\n",
       "997 -7.984261  yesterday\n",
       "998 -6.816824      young\n",
       "999 -7.624115    youtube\n",
       "\n",
       "[1000 rows x 2 columns]"
      ]
     },
     "execution_count": 30,
     "metadata": {},
     "output_type": "execute_result"
    }
   ],
   "source": [
    "pipe11_coefs = pipe_coefs(pipe11, 'tfidfvectorizer')\n",
    "pipe11_coefs"
   ]
  },
  {
   "cell_type": "code",
   "execution_count": 31,
   "metadata": {},
   "outputs": [
    {
     "data": {
      "text/html": [
       "<div>\n",
       "<style scoped>\n",
       "    .dataframe tbody tr th:only-of-type {\n",
       "        vertical-align: middle;\n",
       "    }\n",
       "\n",
       "    .dataframe tbody tr th {\n",
       "        vertical-align: top;\n",
       "    }\n",
       "\n",
       "    .dataframe thead th {\n",
       "        text-align: right;\n",
       "    }\n",
       "</style>\n",
       "<table border=\"1\" class=\"dataframe\">\n",
       "  <thead>\n",
       "    <tr style=\"text-align: right;\">\n",
       "      <th></th>\n",
       "      <th>coefs</th>\n",
       "      <th>names</th>\n",
       "    </tr>\n",
       "  </thead>\n",
       "  <tbody>\n",
       "    <tr>\n",
       "      <th>816</th>\n",
       "      <td>-3.225543</td>\n",
       "      <td>spoilers</td>\n",
       "    </tr>\n",
       "    <tr>\n",
       "      <th>5</th>\n",
       "      <td>-3.790598</td>\n",
       "      <td>14</td>\n",
       "    </tr>\n",
       "    <tr>\n",
       "      <th>122</th>\n",
       "      <td>-4.167152</td>\n",
       "      <td>bigg</td>\n",
       "    </tr>\n",
       "    <tr>\n",
       "      <th>140</th>\n",
       "      <td>-4.207121</td>\n",
       "      <td>boss</td>\n",
       "    </tr>\n",
       "    <tr>\n",
       "      <th>298</th>\n",
       "      <td>-4.281587</td>\n",
       "      <td>episode</td>\n",
       "    </tr>\n",
       "    <tr>\n",
       "      <th>725</th>\n",
       "      <td>-4.462032</td>\n",
       "      <td>roadies</td>\n",
       "    </tr>\n",
       "    <tr>\n",
       "      <th>717</th>\n",
       "      <td>-4.512216</td>\n",
       "      <td>revolution</td>\n",
       "    </tr>\n",
       "    <tr>\n",
       "      <th>380</th>\n",
       "      <td>-4.625669</td>\n",
       "      <td>got</td>\n",
       "    </tr>\n",
       "    <tr>\n",
       "      <th>757</th>\n",
       "      <td>-4.653345</td>\n",
       "      <td>season</td>\n",
       "    </tr>\n",
       "    <tr>\n",
       "      <th>353</th>\n",
       "      <td>-4.683160</td>\n",
       "      <td>game</td>\n",
       "    </tr>\n",
       "    <tr>\n",
       "      <th>880</th>\n",
       "      <td>-4.799358</td>\n",
       "      <td>thrones</td>\n",
       "    </tr>\n",
       "  </tbody>\n",
       "</table>\n",
       "</div>"
      ],
      "text/plain": [
       "        coefs       names\n",
       "816 -3.225543    spoilers\n",
       "5   -3.790598          14\n",
       "122 -4.167152        bigg\n",
       "140 -4.207121        boss\n",
       "298 -4.281587     episode\n",
       "725 -4.462032     roadies\n",
       "717 -4.512216  revolution\n",
       "380 -4.625669         got\n",
       "757 -4.653345      season\n",
       "353 -4.683160        game\n",
       "880 -4.799358     thrones"
      ]
     },
     "execution_count": 31,
     "metadata": {},
     "output_type": "execute_result"
    }
   ],
   "source": [
    "pipe11_coefs.nlargest(11, 'coefs')"
   ]
  },
  {
   "cell_type": "code",
   "execution_count": 32,
   "metadata": {},
   "outputs": [
    {
     "data": {
      "text/html": [
       "<div>\n",
       "<style scoped>\n",
       "    .dataframe tbody tr th:only-of-type {\n",
       "        vertical-align: middle;\n",
       "    }\n",
       "\n",
       "    .dataframe tbody tr th {\n",
       "        vertical-align: top;\n",
       "    }\n",
       "\n",
       "    .dataframe thead th {\n",
       "        text-align: right;\n",
       "    }\n",
       "</style>\n",
       "<table border=\"1\" class=\"dataframe\">\n",
       "  <thead>\n",
       "    <tr style=\"text-align: right;\">\n",
       "      <th></th>\n",
       "      <th>coefs</th>\n",
       "      <th>names</th>\n",
       "    </tr>\n",
       "  </thead>\n",
       "  <tbody>\n",
       "    <tr>\n",
       "      <th>35</th>\n",
       "      <td>-9.193707</td>\n",
       "      <td>50th</td>\n",
       "    </tr>\n",
       "    <tr>\n",
       "      <th>46</th>\n",
       "      <td>-9.193707</td>\n",
       "      <td>added</td>\n",
       "    </tr>\n",
       "    <tr>\n",
       "      <th>66</th>\n",
       "      <td>-9.193707</td>\n",
       "      <td>angmar</td>\n",
       "    </tr>\n",
       "    <tr>\n",
       "      <th>68</th>\n",
       "      <td>-9.193707</td>\n",
       "      <td>anniversary</td>\n",
       "    </tr>\n",
       "    <tr>\n",
       "      <th>77</th>\n",
       "      <td>-9.193707</td>\n",
       "      <td>aragorn</td>\n",
       "    </tr>\n",
       "    <tr>\n",
       "      <th>85</th>\n",
       "      <td>-9.193707</td>\n",
       "      <td>arwen</td>\n",
       "    </tr>\n",
       "    <tr>\n",
       "      <th>102</th>\n",
       "      <td>-9.193707</td>\n",
       "      <td>baggins</td>\n",
       "    </tr>\n",
       "    <tr>\n",
       "      <th>104</th>\n",
       "      <td>-9.193707</td>\n",
       "      <td>balrog</td>\n",
       "    </tr>\n",
       "    <tr>\n",
       "      <th>106</th>\n",
       "      <td>-9.193707</td>\n",
       "      <td>barad</td>\n",
       "    </tr>\n",
       "    <tr>\n",
       "      <th>123</th>\n",
       "      <td>-9.193707</td>\n",
       "      <td>bilbo</td>\n",
       "    </tr>\n",
       "    <tr>\n",
       "      <th>129</th>\n",
       "      <td>-9.193707</td>\n",
       "      <td>blockchain</td>\n",
       "    </tr>\n",
       "  </tbody>\n",
       "</table>\n",
       "</div>"
      ],
      "text/plain": [
       "        coefs        names\n",
       "35  -9.193707         50th\n",
       "46  -9.193707        added\n",
       "66  -9.193707       angmar\n",
       "68  -9.193707  anniversary\n",
       "77  -9.193707      aragorn\n",
       "85  -9.193707        arwen\n",
       "102 -9.193707      baggins\n",
       "104 -9.193707       balrog\n",
       "106 -9.193707        barad\n",
       "123 -9.193707        bilbo\n",
       "129 -9.193707   blockchain"
      ]
     },
     "execution_count": 32,
     "metadata": {},
     "output_type": "execute_result"
    }
   ],
   "source": [
    "pipe11_coefs.nsmallest(11, 'coefs')"
   ]
  },
  {
   "cell_type": "markdown",
   "metadata": {},
   "source": [
    "The model scores are again more or less the same between the CountVectorizer and the TfidfVectorizer. The smallest coefficients are a little bit different on the Tfidf, but the largest are more/less the same. I think at this point I'm going to stick with the CountVectorizer, and I'd like to experiment with ngram ranges, because Game of Thrones has some very specific phrases that I wonder if the model can pick up on: \"Winter is Coming\", \"The night is dark and full of terrors\". Fun stuff like that."
   ]
  },
  {
   "cell_type": "code",
   "execution_count": 33,
   "metadata": {},
   "outputs": [],
   "source": [
    "#I'm going to first do a quick run with ngram range 3,3 to look at the result, and then I'll do a grid search over a few different ngram ranges\n",
    "pipe12 = make_pipeline(CountVectorizer(stop_words='english', max_features=1000, ngram_range= [3,3]), MultinomialNB())"
   ]
  },
  {
   "cell_type": "code",
   "execution_count": 34,
   "metadata": {},
   "outputs": [
    {
     "data": {
      "text/plain": [
       "Pipeline(steps=[('countvectorizer',\n",
       "                 CountVectorizer(max_features=1000, ngram_range=[3, 3],\n",
       "                                 stop_words='english')),\n",
       "                ('multinomialnb', MultinomialNB())])"
      ]
     },
     "execution_count": 34,
     "metadata": {},
     "output_type": "execute_result"
    }
   ],
   "source": [
    "pipe12.fit(X_train, y_train)"
   ]
  },
  {
   "cell_type": "code",
   "execution_count": 35,
   "metadata": {},
   "outputs": [
    {
     "name": "stdout",
     "output_type": "stream",
     "text": [
      "Your train score is: [0.66886109 0.67544437 0.68202765 0.66666667 0.67523057]\n",
      "Your mean train score is: 0.6736460694184597\n",
      "Your test score is: [0.46548323 0.47628458 0.48023715 0.47628458 0.49209486]\n",
      "Your mean test score is: 0.47807688409695104\n",
      "Your test recall/sensitivity score is: 0.3291239147592739\n",
      "Your confusion matrix is: [[1.         0.        ]\n",
      " [0.67087609 0.32912391]]\n"
     ]
    }
   ],
   "source": [
    "eval_model(pipe12, X_train, X_test, y_train, y_test)"
   ]
  },
  {
   "cell_type": "code",
   "execution_count": 36,
   "metadata": {},
   "outputs": [],
   "source": [
    "#Haha oh no look at the hit to my scores!!!"
   ]
  },
  {
   "cell_type": "code",
   "execution_count": 37,
   "metadata": {},
   "outputs": [
    {
     "data": {
      "text/html": [
       "<div>\n",
       "<style scoped>\n",
       "    .dataframe tbody tr th:only-of-type {\n",
       "        vertical-align: middle;\n",
       "    }\n",
       "\n",
       "    .dataframe tbody tr th {\n",
       "        vertical-align: top;\n",
       "    }\n",
       "\n",
       "    .dataframe thead th {\n",
       "        text-align: right;\n",
       "    }\n",
       "</style>\n",
       "<table border=\"1\" class=\"dataframe\">\n",
       "  <thead>\n",
       "    <tr style=\"text-align: right;\">\n",
       "      <th></th>\n",
       "      <th>coefs</th>\n",
       "      <th>names</th>\n",
       "    </tr>\n",
       "  </thead>\n",
       "  <tbody>\n",
       "    <tr>\n",
       "      <th>0</th>\n",
       "      <td>-6.103006</td>\n",
       "      <td>14 abhinav shukla</td>\n",
       "    </tr>\n",
       "    <tr>\n",
       "      <th>1</th>\n",
       "      <td>-6.400257</td>\n",
       "      <td>14 aly goni</td>\n",
       "    </tr>\n",
       "    <tr>\n",
       "      <th>2</th>\n",
       "      <td>-7.712444</td>\n",
       "      <td>14 arshi khan</td>\n",
       "    </tr>\n",
       "    <tr>\n",
       "      <th>3</th>\n",
       "      <td>-7.260459</td>\n",
       "      <td>14 bigg boss</td>\n",
       "    </tr>\n",
       "    <tr>\n",
       "      <th>4</th>\n",
       "      <td>-7.866595</td>\n",
       "      <td>14 coming end</td>\n",
       "    </tr>\n",
       "    <tr>\n",
       "      <th>...</th>\n",
       "      <td>...</td>\n",
       "      <td>...</td>\n",
       "    </tr>\n",
       "    <tr>\n",
       "      <th>995</th>\n",
       "      <td>-7.866595</td>\n",
       "      <td>works gujarati theater</td>\n",
       "    </tr>\n",
       "    <tr>\n",
       "      <th>996</th>\n",
       "      <td>-7.712444</td>\n",
       "      <td>world glamour lime</td>\n",
       "    </tr>\n",
       "    <tr>\n",
       "      <th>997</th>\n",
       "      <td>-7.866595</td>\n",
       "      <td>written updates arshi</td>\n",
       "    </tr>\n",
       "    <tr>\n",
       "      <th>998</th>\n",
       "      <td>-7.461129</td>\n",
       "      <td>years old self</td>\n",
       "    </tr>\n",
       "    <tr>\n",
       "      <th>999</th>\n",
       "      <td>-7.712444</td>\n",
       "      <td>yeh meri family</td>\n",
       "    </tr>\n",
       "  </tbody>\n",
       "</table>\n",
       "<p>1000 rows × 2 columns</p>\n",
       "</div>"
      ],
      "text/plain": [
       "        coefs                   names\n",
       "0   -6.103006       14 abhinav shukla\n",
       "1   -6.400257             14 aly goni\n",
       "2   -7.712444           14 arshi khan\n",
       "3   -7.260459            14 bigg boss\n",
       "4   -7.866595           14 coming end\n",
       "..        ...                     ...\n",
       "995 -7.866595  works gujarati theater\n",
       "996 -7.712444      world glamour lime\n",
       "997 -7.866595   written updates arshi\n",
       "998 -7.461129          years old self\n",
       "999 -7.712444         yeh meri family\n",
       "\n",
       "[1000 rows x 2 columns]"
      ]
     },
     "execution_count": 37,
     "metadata": {},
     "output_type": "execute_result"
    }
   ],
   "source": [
    "pipe12_coefs = pipe_coefs(pipe12, 'countvectorizer')\n",
    "pipe12_coefs"
   ]
  },
  {
   "cell_type": "code",
   "execution_count": 38,
   "metadata": {},
   "outputs": [
    {
     "data": {
      "text/html": [
       "<div>\n",
       "<style scoped>\n",
       "    .dataframe tbody tr th:only-of-type {\n",
       "        vertical-align: middle;\n",
       "    }\n",
       "\n",
       "    .dataframe tbody tr th {\n",
       "        vertical-align: top;\n",
       "    }\n",
       "\n",
       "    .dataframe thead th {\n",
       "        text-align: right;\n",
       "    }\n",
       "</style>\n",
       "<table border=\"1\" class=\"dataframe\">\n",
       "  <thead>\n",
       "    <tr style=\"text-align: right;\">\n",
       "      <th></th>\n",
       "      <th>coefs</th>\n",
       "      <th>names</th>\n",
       "    </tr>\n",
       "  </thead>\n",
       "  <tbody>\n",
       "    <tr>\n",
       "      <th>188</th>\n",
       "      <td>-3.123113</td>\n",
       "      <td>bigg boss 14</td>\n",
       "    </tr>\n",
       "    <tr>\n",
       "      <th>661</th>\n",
       "      <td>-3.630075</td>\n",
       "      <td>mtv roadies revolution</td>\n",
       "    </tr>\n",
       "    <tr>\n",
       "      <th>778</th>\n",
       "      <td>-4.421912</td>\n",
       "      <td>roadies revolution episode</td>\n",
       "    </tr>\n",
       "    <tr>\n",
       "      <th>987</th>\n",
       "      <td>-4.674747</td>\n",
       "      <td>wild card entry</td>\n",
       "    </tr>\n",
       "    <tr>\n",
       "      <th>46</th>\n",
       "      <td>-4.862563</td>\n",
       "      <td>26th december episode</td>\n",
       "    </tr>\n",
       "    <tr>\n",
       "      <th>55</th>\n",
       "      <td>-4.862563</td>\n",
       "      <td>33 26th december</td>\n",
       "    </tr>\n",
       "    <tr>\n",
       "      <th>135</th>\n",
       "      <td>-4.862563</td>\n",
       "      <td>apoorva voted conte</td>\n",
       "    </tr>\n",
       "    <tr>\n",
       "      <th>357</th>\n",
       "      <td>-4.862563</td>\n",
       "      <td>december episode roadies</td>\n",
       "    </tr>\n",
       "    <tr>\n",
       "      <th>413</th>\n",
       "      <td>-4.862563</td>\n",
       "      <td>episode 33 26th</td>\n",
       "    </tr>\n",
       "    <tr>\n",
       "      <th>421</th>\n",
       "      <td>-4.862563</td>\n",
       "      <td>episode roadies revolution</td>\n",
       "    </tr>\n",
       "    <tr>\n",
       "      <th>611</th>\n",
       "      <td>-4.862563</td>\n",
       "      <td>latest update episode</td>\n",
       "    </tr>\n",
       "    <tr>\n",
       "      <th>681</th>\n",
       "      <td>-4.862563</td>\n",
       "      <td>nisha apoorva voted</td>\n",
       "    </tr>\n",
       "    <tr>\n",
       "      <th>767</th>\n",
       "      <td>-4.862563</td>\n",
       "      <td>revolution latest update</td>\n",
       "    </tr>\n",
       "    <tr>\n",
       "      <th>768</th>\n",
       "      <td>-4.862563</td>\n",
       "      <td>revolution nisha apoorva</td>\n",
       "    </tr>\n",
       "    <tr>\n",
       "      <th>780</th>\n",
       "      <td>-4.862563</td>\n",
       "      <td>roadies revolution latest</td>\n",
       "    </tr>\n",
       "    <tr>\n",
       "      <th>781</th>\n",
       "      <td>-4.862563</td>\n",
       "      <td>roadies revolution nisha</td>\n",
       "    </tr>\n",
       "    <tr>\n",
       "      <th>943</th>\n",
       "      <td>-4.862563</td>\n",
       "      <td>update episode 33</td>\n",
       "    </tr>\n",
       "    <tr>\n",
       "      <th>171</th>\n",
       "      <td>-4.994915</td>\n",
       "      <td>belt ready crispy</td>\n",
       "    </tr>\n",
       "    <tr>\n",
       "      <th>289</th>\n",
       "      <td>-4.994915</td>\n",
       "      <td>buckle seat belt</td>\n",
       "    </tr>\n",
       "    <tr>\n",
       "      <th>298</th>\n",
       "      <td>-4.994915</td>\n",
       "      <td>card entry sonali</td>\n",
       "    </tr>\n",
       "  </tbody>\n",
       "</table>\n",
       "</div>"
      ],
      "text/plain": [
       "        coefs                       names\n",
       "188 -3.123113                bigg boss 14\n",
       "661 -3.630075      mtv roadies revolution\n",
       "778 -4.421912  roadies revolution episode\n",
       "987 -4.674747             wild card entry\n",
       "46  -4.862563       26th december episode\n",
       "55  -4.862563            33 26th december\n",
       "135 -4.862563         apoorva voted conte\n",
       "357 -4.862563    december episode roadies\n",
       "413 -4.862563             episode 33 26th\n",
       "421 -4.862563  episode roadies revolution\n",
       "611 -4.862563       latest update episode\n",
       "681 -4.862563         nisha apoorva voted\n",
       "767 -4.862563    revolution latest update\n",
       "768 -4.862563    revolution nisha apoorva\n",
       "780 -4.862563   roadies revolution latest\n",
       "781 -4.862563    roadies revolution nisha\n",
       "943 -4.862563           update episode 33\n",
       "171 -4.994915           belt ready crispy\n",
       "289 -4.994915            buckle seat belt\n",
       "298 -4.994915           card entry sonali"
      ]
     },
     "execution_count": 38,
     "metadata": {},
     "output_type": "execute_result"
    }
   ],
   "source": [
    "pipe12_coefs.nlargest(20, 'coefs')"
   ]
  },
  {
   "cell_type": "code",
   "execution_count": 39,
   "metadata": {},
   "outputs": [
    {
     "data": {
      "text/html": [
       "<div>\n",
       "<style scoped>\n",
       "    .dataframe tbody tr th:only-of-type {\n",
       "        vertical-align: middle;\n",
       "    }\n",
       "\n",
       "    .dataframe tbody tr th {\n",
       "        vertical-align: top;\n",
       "    }\n",
       "\n",
       "    .dataframe thead th {\n",
       "        text-align: right;\n",
       "    }\n",
       "</style>\n",
       "<table border=\"1\" class=\"dataframe\">\n",
       "  <thead>\n",
       "    <tr style=\"text-align: right;\">\n",
       "      <th></th>\n",
       "      <th>coefs</th>\n",
       "      <th>names</th>\n",
       "    </tr>\n",
       "  </thead>\n",
       "  <tbody>\n",
       "    <tr>\n",
       "      <th>61</th>\n",
       "      <td>-9.658354</td>\n",
       "      <td>4k blu ray</td>\n",
       "    </tr>\n",
       "    <tr>\n",
       "      <th>62</th>\n",
       "      <td>-9.658354</td>\n",
       "      <td>4k ultra hd</td>\n",
       "    </tr>\n",
       "    <tr>\n",
       "      <th>158</th>\n",
       "      <td>-9.658354</td>\n",
       "      <td>battle middle earth</td>\n",
       "    </tr>\n",
       "    <tr>\n",
       "      <th>206</th>\n",
       "      <td>-9.658354</td>\n",
       "      <td>bilbo said dangerous</td>\n",
       "    </tr>\n",
       "    <tr>\n",
       "      <th>290</th>\n",
       "      <td>-9.658354</td>\n",
       "      <td>business going door</td>\n",
       "    </tr>\n",
       "    <tr>\n",
       "      <th>346</th>\n",
       "      <td>-9.658354</td>\n",
       "      <td>copy lord rings</td>\n",
       "    </tr>\n",
       "    <tr>\n",
       "      <th>351</th>\n",
       "      <td>-9.658354</td>\n",
       "      <td>dangerous business going</td>\n",
       "    </tr>\n",
       "    <tr>\n",
       "      <th>383</th>\n",
       "      <td>-9.658354</td>\n",
       "      <td>door stayed home</td>\n",
       "    </tr>\n",
       "    <tr>\n",
       "      <th>399</th>\n",
       "      <td>-9.658354</td>\n",
       "      <td>earth middle earth</td>\n",
       "    </tr>\n",
       "    <tr>\n",
       "      <th>474</th>\n",
       "      <td>-9.658354</td>\n",
       "      <td>going door stayed</td>\n",
       "    </tr>\n",
       "    <tr>\n",
       "      <th>475</th>\n",
       "      <td>-9.658354</td>\n",
       "      <td>gollum reads children</td>\n",
       "    </tr>\n",
       "    <tr>\n",
       "      <th>489</th>\n",
       "      <td>-9.658354</td>\n",
       "      <td>happy birthday tolkien</td>\n",
       "    </tr>\n",
       "    <tr>\n",
       "      <th>499</th>\n",
       "      <td>-9.658354</td>\n",
       "      <td>history middle earth</td>\n",
       "    </tr>\n",
       "    <tr>\n",
       "      <th>500</th>\n",
       "      <td>-9.658354</td>\n",
       "      <td>hobbit lord rings</td>\n",
       "    </tr>\n",
       "    <tr>\n",
       "      <th>609</th>\n",
       "      <td>-9.658354</td>\n",
       "      <td>late christmas present</td>\n",
       "    </tr>\n",
       "    <tr>\n",
       "      <th>625</th>\n",
       "      <td>-9.658354</td>\n",
       "      <td>lord rings 4k</td>\n",
       "    </tr>\n",
       "    <tr>\n",
       "      <th>626</th>\n",
       "      <td>-9.658354</td>\n",
       "      <td>lord rings trilogy</td>\n",
       "    </tr>\n",
       "    <tr>\n",
       "      <th>639</th>\n",
       "      <td>-9.658354</td>\n",
       "      <td>map middle earth</td>\n",
       "    </tr>\n",
       "    <tr>\n",
       "      <th>650</th>\n",
       "      <td>-9.658354</td>\n",
       "      <td>middle earth lore</td>\n",
       "    </tr>\n",
       "    <tr>\n",
       "      <th>651</th>\n",
       "      <td>-9.658354</td>\n",
       "      <td>middle earth map</td>\n",
       "    </tr>\n",
       "  </tbody>\n",
       "</table>\n",
       "</div>"
      ],
      "text/plain": [
       "        coefs                     names\n",
       "61  -9.658354                4k blu ray\n",
       "62  -9.658354               4k ultra hd\n",
       "158 -9.658354       battle middle earth\n",
       "206 -9.658354      bilbo said dangerous\n",
       "290 -9.658354       business going door\n",
       "346 -9.658354           copy lord rings\n",
       "351 -9.658354  dangerous business going\n",
       "383 -9.658354          door stayed home\n",
       "399 -9.658354        earth middle earth\n",
       "474 -9.658354         going door stayed\n",
       "475 -9.658354     gollum reads children\n",
       "489 -9.658354    happy birthday tolkien\n",
       "499 -9.658354      history middle earth\n",
       "500 -9.658354         hobbit lord rings\n",
       "609 -9.658354    late christmas present\n",
       "625 -9.658354             lord rings 4k\n",
       "626 -9.658354        lord rings trilogy\n",
       "639 -9.658354          map middle earth\n",
       "650 -9.658354         middle earth lore\n",
       "651 -9.658354          middle earth map"
      ]
     },
     "execution_count": 39,
     "metadata": {},
     "output_type": "execute_result"
    }
   ],
   "source": [
    "#lame!! No \"Winter is Coming\" in there!\n",
    "pipe12_coefs.nsmallest(20, 'coefs')"
   ]
  },
  {
   "cell_type": "markdown",
   "metadata": {},
   "source": [
    "Well that was interesting, definitely not what I was expecting. I think because LOTR was not a show and the movies came out a while ago, the posts might be more about the characters and content, whereas the Game of Thrones posts are more about the show's promotional activites (apparently there was an MTV road show sort of event) and less about the characters and content of the show. I'm hoping with the GridSearch though, that my train and test scores go back up. Let's see."
   ]
  },
  {
   "cell_type": "code",
   "execution_count": 40,
   "metadata": {},
   "outputs": [],
   "source": [
    "pipe13 = make_pipeline(CountVectorizer(tokenizer = LemmaTokenizer()), MultinomialNB())"
   ]
  },
  {
   "cell_type": "code",
   "execution_count": 41,
   "metadata": {},
   "outputs": [],
   "source": [
    "params_13= {'countvectorizer__stop_words': ['english'],\n",
    "         'countvectorizer__max_features': [1000],\n",
    "         'countvectorizer__ngram_range': [(1,2), (1,3), (1,4)],\n",
    "         'multinomialnb__alpha': [0, 0.00001, 0.5, 1.0]}"
   ]
  },
  {
   "cell_type": "code",
   "execution_count": 42,
   "metadata": {},
   "outputs": [],
   "source": [
    "gs13 = GridSearchCV(pipe13, param_grid=params_13, n_jobs=-1)"
   ]
  },
  {
   "cell_type": "code",
   "execution_count": 43,
   "metadata": {},
   "outputs": [
    {
     "data": {
      "text/plain": [
       "GridSearchCV(estimator=Pipeline(steps=[('countvectorizer',\n",
       "                                        CountVectorizer(tokenizer=<__main__.LemmaTokenizer object at 0x7fa31f58ceb0>)),\n",
       "                                       ('multinomialnb', MultinomialNB())]),\n",
       "             n_jobs=-1,\n",
       "             param_grid={'countvectorizer__max_features': [1000],\n",
       "                         'countvectorizer__ngram_range': [(1, 2), (1, 3),\n",
       "                                                          (1, 4)],\n",
       "                         'countvectorizer__stop_words': ['english'],\n",
       "                         'multinomialnb__alpha': [0, 1e-05, 0.5, 1.0]})"
      ]
     },
     "execution_count": 43,
     "metadata": {},
     "output_type": "execute_result"
    }
   ],
   "source": [
    "gs13.fit(X_train, y_train)"
   ]
  },
  {
   "cell_type": "code",
   "execution_count": 44,
   "metadata": {},
   "outputs": [
    {
     "name": "stdout",
     "output_type": "stream",
     "text": [
      "Your train score is: 0.9121559330962729\n",
      "Your test score is: 0.9032003160806006\n",
      "Your best test params were: {'countvectorizer__max_features': 1000, 'countvectorizer__ngram_range': (1, 2), 'countvectorizer__stop_words': 'english', 'multinomialnb__alpha': 1e-05}\n",
      "Your test recall/sensitivity score is: 0.8224151539068666\n",
      "Your confusion matrix is: [[0.98417722 0.01582278]\n",
      " [0.17758485 0.82241515]]\n"
     ]
    }
   ],
   "source": [
    "eval_model_gs(gs13, X_train, X_test, y_train, y_test)"
   ]
  },
  {
   "cell_type": "code",
   "execution_count": 45,
   "metadata": {},
   "outputs": [
    {
     "data": {
      "text/html": [
       "<div>\n",
       "<style scoped>\n",
       "    .dataframe tbody tr th:only-of-type {\n",
       "        vertical-align: middle;\n",
       "    }\n",
       "\n",
       "    .dataframe tbody tr th {\n",
       "        vertical-align: top;\n",
       "    }\n",
       "\n",
       "    .dataframe thead th {\n",
       "        text-align: right;\n",
       "    }\n",
       "</style>\n",
       "<table border=\"1\" class=\"dataframe\">\n",
       "  <thead>\n",
       "    <tr style=\"text-align: right;\">\n",
       "      <th></th>\n",
       "      <th>coefs</th>\n",
       "      <th>names</th>\n",
       "    </tr>\n",
       "  </thead>\n",
       "  <tbody>\n",
       "    <tr>\n",
       "      <th>0</th>\n",
       "      <td>-7.029752</td>\n",
       "      <td>1</td>\n",
       "    </tr>\n",
       "    <tr>\n",
       "      <th>1</th>\n",
       "      <td>-7.946042</td>\n",
       "      <td>10</td>\n",
       "    </tr>\n",
       "    <tr>\n",
       "      <th>2</th>\n",
       "      <td>-8.639189</td>\n",
       "      <td>100</td>\n",
       "    </tr>\n",
       "    <tr>\n",
       "      <th>3</th>\n",
       "      <td>-8.521406</td>\n",
       "      <td>11</td>\n",
       "    </tr>\n",
       "    <tr>\n",
       "      <th>4</th>\n",
       "      <td>-7.460534</td>\n",
       "      <td>13</td>\n",
       "    </tr>\n",
       "    <tr>\n",
       "      <th>...</th>\n",
       "      <td>...</td>\n",
       "      <td>...</td>\n",
       "    </tr>\n",
       "    <tr>\n",
       "      <th>995</th>\n",
       "      <td>-9.109191</td>\n",
       "      <td>year ago</td>\n",
       "    </tr>\n",
       "    <tr>\n",
       "      <th>996</th>\n",
       "      <td>-8.320735</td>\n",
       "      <td>year old</td>\n",
       "    </tr>\n",
       "    <tr>\n",
       "      <th>997</th>\n",
       "      <td>-7.828259</td>\n",
       "      <td>young</td>\n",
       "    </tr>\n",
       "    <tr>\n",
       "      <th>998</th>\n",
       "      <td>-8.521406</td>\n",
       "      <td>youtube</td>\n",
       "    </tr>\n",
       "    <tr>\n",
       "      <th>999</th>\n",
       "      <td>-8.010580</td>\n",
       "      <td>१</td>\n",
       "    </tr>\n",
       "  </tbody>\n",
       "</table>\n",
       "<p>1000 rows × 2 columns</p>\n",
       "</div>"
      ],
      "text/plain": [
       "        coefs     names\n",
       "0   -7.029752         1\n",
       "1   -7.946042        10\n",
       "2   -8.639189       100\n",
       "3   -8.521406        11\n",
       "4   -7.460534        13\n",
       "..        ...       ...\n",
       "995 -9.109191  year ago\n",
       "996 -8.320735  year old\n",
       "997 -7.828259     young\n",
       "998 -8.521406   youtube\n",
       "999 -8.010580         १\n",
       "\n",
       "[1000 rows x 2 columns]"
      ]
     },
     "execution_count": 45,
     "metadata": {},
     "output_type": "execute_result"
    }
   ],
   "source": [
    "gs13_coefs = get_coefs_gs(gs13, 'countvectorizer')\n",
    "gs13_coefs"
   ]
  },
  {
   "cell_type": "code",
   "execution_count": 46,
   "metadata": {},
   "outputs": [
    {
     "data": {
      "text/html": [
       "<div>\n",
       "<style scoped>\n",
       "    .dataframe tbody tr th:only-of-type {\n",
       "        vertical-align: middle;\n",
       "    }\n",
       "\n",
       "    .dataframe tbody tr th {\n",
       "        vertical-align: top;\n",
       "    }\n",
       "\n",
       "    .dataframe thead th {\n",
       "        text-align: right;\n",
       "    }\n",
       "</style>\n",
       "<table border=\"1\" class=\"dataframe\">\n",
       "  <thead>\n",
       "    <tr style=\"text-align: right;\">\n",
       "      <th></th>\n",
       "      <th>coefs</th>\n",
       "      <th>names</th>\n",
       "    </tr>\n",
       "  </thead>\n",
       "  <tbody>\n",
       "    <tr>\n",
       "      <th>830</th>\n",
       "      <td>-3.632730</td>\n",
       "      <td>spoiler</td>\n",
       "    </tr>\n",
       "    <tr>\n",
       "      <th>150</th>\n",
       "      <td>-3.902991</td>\n",
       "      <td>bigg</td>\n",
       "    </tr>\n",
       "    <tr>\n",
       "      <th>172</th>\n",
       "      <td>-3.945551</td>\n",
       "      <td>bos</td>\n",
       "    </tr>\n",
       "    <tr>\n",
       "      <th>151</th>\n",
       "      <td>-3.950138</td>\n",
       "      <td>bigg bos</td>\n",
       "    </tr>\n",
       "    <tr>\n",
       "      <th>5</th>\n",
       "      <td>-3.969872</td>\n",
       "      <td>14</td>\n",
       "    </tr>\n",
       "    <tr>\n",
       "      <th>326</th>\n",
       "      <td>-4.111981</td>\n",
       "      <td>episode</td>\n",
       "    </tr>\n",
       "    <tr>\n",
       "      <th>173</th>\n",
       "      <td>-4.176159</td>\n",
       "      <td>bos 14</td>\n",
       "    </tr>\n",
       "    <tr>\n",
       "      <th>743</th>\n",
       "      <td>-4.280880</td>\n",
       "      <td>roadies</td>\n",
       "    </tr>\n",
       "    <tr>\n",
       "      <th>730</th>\n",
       "      <td>-4.347019</td>\n",
       "      <td>revolution</td>\n",
       "    </tr>\n",
       "    <tr>\n",
       "      <th>744</th>\n",
       "      <td>-4.347019</td>\n",
       "      <td>roadies revolution</td>\n",
       "    </tr>\n",
       "    <tr>\n",
       "      <th>752</th>\n",
       "      <td>-4.401467</td>\n",
       "      <td>s</td>\n",
       "    </tr>\n",
       "    <tr>\n",
       "      <th>590</th>\n",
       "      <td>-4.659508</td>\n",
       "      <td>mtv</td>\n",
       "    </tr>\n",
       "    <tr>\n",
       "      <th>591</th>\n",
       "      <td>-4.661847</td>\n",
       "      <td>mtv roadies</td>\n",
       "    </tr>\n",
       "    <tr>\n",
       "      <th>777</th>\n",
       "      <td>-4.925618</td>\n",
       "      <td>season</td>\n",
       "    </tr>\n",
       "    <tr>\n",
       "      <th>395</th>\n",
       "      <td>-5.154111</td>\n",
       "      <td>got</td>\n",
       "    </tr>\n",
       "  </tbody>\n",
       "</table>\n",
       "</div>"
      ],
      "text/plain": [
       "        coefs               names\n",
       "830 -3.632730             spoiler\n",
       "150 -3.902991                bigg\n",
       "172 -3.945551                 bos\n",
       "151 -3.950138            bigg bos\n",
       "5   -3.969872                  14\n",
       "326 -4.111981             episode\n",
       "173 -4.176159              bos 14\n",
       "743 -4.280880             roadies\n",
       "730 -4.347019          revolution\n",
       "744 -4.347019  roadies revolution\n",
       "752 -4.401467                   s\n",
       "590 -4.659508                 mtv\n",
       "591 -4.661847         mtv roadies\n",
       "777 -4.925618              season\n",
       "395 -5.154111                 got"
      ]
     },
     "execution_count": 46,
     "metadata": {},
     "output_type": "execute_result"
    }
   ],
   "source": [
    "gs13_coefs.nlargest(15, 'coefs')"
   ]
  },
  {
   "cell_type": "code",
   "execution_count": 47,
   "metadata": {},
   "outputs": [],
   "source": [
    "gs13_top_words = gs13_coefs.nlargest(10, 'coefs')"
   ]
  },
  {
   "cell_type": "code",
   "execution_count": 48,
   "metadata": {},
   "outputs": [],
   "source": [
    "gs13_top_words2 = gs13_top_words.copy()"
   ]
  },
  {
   "cell_type": "code",
   "execution_count": 49,
   "metadata": {},
   "outputs": [],
   "source": [
    "gs13_top_words2['coefs_abs'] = np.absolute(gs13_top_words2['coefs'])\n",
    "gs13_top_words2 = gs13_top_words2.drop('coefs', axis=1)"
   ]
  },
  {
   "cell_type": "code",
   "execution_count": 50,
   "metadata": {},
   "outputs": [
    {
     "data": {
      "image/png": "[encoded data removed]",
      "text/plain": [
       "<Figure size 1080x648 with 1 Axes>"
      ]
     },
     "metadata": {
      "needs_background": "light"
     },
     "output_type": "display_data"
    }
   ],
   "source": [
    "ax, fig = plt.subplots(figsize = (15, 9))\n",
    "\n",
    "sns.barplot(x=\"names\", y=\"coefs_abs\", data=gs13_top_words2,\n",
    "                 palette=\"Blues_d\")\n",
    "\n",
    "plt.title('10 Most Important Words in Naive Bayes Model with Ngram_Range = (1,2)');"
   ]
  },
  {
   "cell_type": "code",
   "execution_count": 51,
   "metadata": {},
   "outputs": [
    {
     "data": {
      "text/html": [
       "<div>\n",
       "<style scoped>\n",
       "    .dataframe tbody tr th:only-of-type {\n",
       "        vertical-align: middle;\n",
       "    }\n",
       "\n",
       "    .dataframe tbody tr th {\n",
       "        vertical-align: top;\n",
       "    }\n",
       "\n",
       "    .dataframe thead th {\n",
       "        text-align: right;\n",
       "    }\n",
       "</style>\n",
       "<table border=\"1\" class=\"dataframe\">\n",
       "  <thead>\n",
       "    <tr style=\"text-align: right;\">\n",
       "      <th></th>\n",
       "      <th>coefs</th>\n",
       "      <th>names</th>\n",
       "    </tr>\n",
       "  </thead>\n",
       "  <tbody>\n",
       "    <tr>\n",
       "      <th>49</th>\n",
       "      <td>-22.231557</td>\n",
       "      <td>4k release</td>\n",
       "    </tr>\n",
       "    <tr>\n",
       "      <th>50</th>\n",
       "      <td>-22.231557</td>\n",
       "      <td>4k uhd</td>\n",
       "    </tr>\n",
       "    <tr>\n",
       "      <th>51</th>\n",
       "      <td>-22.231557</td>\n",
       "      <td>4k version</td>\n",
       "    </tr>\n",
       "    <tr>\n",
       "      <th>102</th>\n",
       "      <td>-22.231557</td>\n",
       "      <td>aragorn</td>\n",
       "    </tr>\n",
       "    <tr>\n",
       "      <th>110</th>\n",
       "      <td>-22.231557</td>\n",
       "      <td>arwen</td>\n",
       "    </tr>\n",
       "    <tr>\n",
       "      <th>128</th>\n",
       "      <td>-22.231557</td>\n",
       "      <td>balrog</td>\n",
       "    </tr>\n",
       "    <tr>\n",
       "      <th>130</th>\n",
       "      <td>-22.231557</td>\n",
       "      <td>barad</td>\n",
       "    </tr>\n",
       "    <tr>\n",
       "      <th>153</th>\n",
       "      <td>-22.231557</td>\n",
       "      <td>bilbo</td>\n",
       "    </tr>\n",
       "    <tr>\n",
       "      <th>163</th>\n",
       "      <td>-22.231557</td>\n",
       "      <td>blockchain</td>\n",
       "    </tr>\n",
       "    <tr>\n",
       "      <th>178</th>\n",
       "      <td>-22.231557</td>\n",
       "      <td>box set</td>\n",
       "    </tr>\n",
       "  </tbody>\n",
       "</table>\n",
       "</div>"
      ],
      "text/plain": [
       "         coefs       names\n",
       "49  -22.231557  4k release\n",
       "50  -22.231557      4k uhd\n",
       "51  -22.231557  4k version\n",
       "102 -22.231557     aragorn\n",
       "110 -22.231557       arwen\n",
       "128 -22.231557      balrog\n",
       "130 -22.231557       barad\n",
       "153 -22.231557       bilbo\n",
       "163 -22.231557  blockchain\n",
       "178 -22.231557     box set"
      ]
     },
     "execution_count": 51,
     "metadata": {},
     "output_type": "execute_result"
    }
   ],
   "source": [
    "gs13_coefs.nsmallest(10, 'coefs')"
   ]
  },
  {
   "cell_type": "markdown",
   "metadata": {},
   "source": [
    "One last trick I want to try is to use that custom lemmatizer again with the TfidfVectorizer. That was my best model in Notebook 3 (called pipe4), so I want to see how it does with this newly cleaned dataset."
   ]
  },
  {
   "cell_type": "code",
   "execution_count": 52,
   "metadata": {},
   "outputs": [],
   "source": [
    "pipe14 = make_pipeline(TfidfVectorizer(tokenizer = LemmaTokenizer()), MultinomialNB())"
   ]
  },
  {
   "cell_type": "code",
   "execution_count": 53,
   "metadata": {},
   "outputs": [],
   "source": [
    "params_14= {'tfidfvectorizer__stop_words': [None, 'english'],\n",
    "         'tfidfvectorizer__max_features': [None, 500, 1000],\n",
    "         'multinomialnb__alpha': [0, 0.00001, 0.5, 1.0]}"
   ]
  },
  {
   "cell_type": "code",
   "execution_count": 54,
   "metadata": {},
   "outputs": [],
   "source": [
    "gs14 = GridSearchCV(pipe14, param_grid=params_14, n_jobs=-1)"
   ]
  },
  {
   "cell_type": "code",
   "execution_count": 55,
   "metadata": {},
   "outputs": [
    {
     "data": {
      "text/plain": [
       "GridSearchCV(estimator=Pipeline(steps=[('tfidfvectorizer',\n",
       "                                        TfidfVectorizer(tokenizer=<__main__.LemmaTokenizer object at 0x7fa30a6256d0>)),\n",
       "                                       ('multinomialnb', MultinomialNB())]),\n",
       "             n_jobs=-1,\n",
       "             param_grid={'multinomialnb__alpha': [0, 1e-05, 0.5, 1.0],\n",
       "                         'tfidfvectorizer__max_features': [None, 500, 1000],\n",
       "                         'tfidfvectorizer__stop_words': [None, 'english']})"
      ]
     },
     "execution_count": 55,
     "metadata": {},
     "output_type": "execute_result"
    }
   ],
   "source": [
    "gs14.fit(X_train, y_train)"
   ]
  },
  {
   "cell_type": "code",
   "execution_count": 56,
   "metadata": {},
   "outputs": [
    {
     "name": "stdout",
     "output_type": "stream",
     "text": [
      "Your train score is: 0.9593046226787831\n",
      "Your test score is: 0.9265112603713948\n",
      "Your best test params were: {'multinomialnb__alpha': 1.0, 'tfidfvectorizer__max_features': None, 'tfidfvectorizer__stop_words': 'english'}\n",
      "Your test recall/sensitivity score is: 0.8831886345698501\n",
      "Your confusion matrix is: [[0.96993671 0.03006329]\n",
      " [0.11681137 0.88318863]]\n"
     ]
    }
   ],
   "source": [
    "eval_model_gs(gs14, X_train, X_test, y_train, y_test)"
   ]
  },
  {
   "cell_type": "markdown",
   "metadata": {},
   "source": [
    "So interesting, this model didn't do as well as the dataset with the symbols, special characters, and emojis. But, it still did pretty well! Slightly overfit, but still pretty good."
   ]
  },
  {
   "cell_type": "markdown",
   "metadata": {},
   "source": [
    "Well, I think I've taken the MultinomialNB modelling as far as it will go for now. If I have time, I'd like to experiment with stemming and lemmatizing and see if those improve my scores. "
   ]
  },
  {
   "cell_type": "code",
   "execution_count": null,
   "metadata": {},
   "outputs": [],
   "source": []
  }
 ],
 "metadata": {
  "kernelspec": {
   "display_name": "Python 3",
   "language": "python",
   "name": "python3"
  },
  "language_info": {
   "codemirror_mode": {
    "name": "ipython",
    "version": 3
   },
   "file_extension": ".py",
   "mimetype": "text/x-python",
   "name": "python",
   "nbconvert_exporter": "python",
   "pygments_lexer": "ipython3",
   "version": "3.8.3"
  }
 },
 "nbformat": 4,
 "nbformat_minor": 4
}
